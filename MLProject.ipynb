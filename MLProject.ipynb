{
  "nbformat": 4,
  "nbformat_minor": 0,
  "metadata": {
    "colab": {
      "name": "MLProject.ipynb",
      "version": "0.3.2",
      "provenance": []
    },
    "kernelspec": {
      "display_name": "Python 3",
      "language": "python",
      "name": "python3"
    }
  },
  "cells": [
    {
      "metadata": {
        "_uuid": "26ba695e833e3cf8e2cc05579f85b93ff380b9e8",
        "id": "8DB-sG_uEa7w",
        "colab_type": "text"
      },
      "cell_type": "markdown",
      "source": [
        "        Data Fields\n",
        "\n",
        "**[] fullVisitorId**- A unique identifier for each user of the Google Merchandise Store.\n",
        "\n",
        "**[x] channelGrouping** - The channel via which the user came to the Store. \n",
        "\n",
        "**[x] date** - The date on which the user visited the Store.\n",
        "\n",
        "**[x] device** - The specifications for the device used to access the Store.\n",
        "\n",
        "**[x] geoNetwork** - This section contains information about the geography of the user.\n",
        "\n",
        "**[] sessionId** - A unique identifier for this visit to the store.\n",
        "\n",
        "**[x] socialEngagementType** - Engagement type, either \"Socially Engaged\" or \"Not Socially Engaged\".\n",
        "\n",
        "**[x] totals** - This section contains aggregate values across the session.\n",
        "\n",
        "**[x] trafficSource** - This section contains information about the Traffic Source from which the session originated.\n",
        "\n",
        "**[] visitId** - An identifier for this session. This is part of the value usually stored as the _utmb cookie. This is only unique to the user. For a completely unique ID, you should use a combination of fullVisitorId and visitId.\n",
        "\n",
        "**[] visitNumber** - The session number for this user. If this is the first session, then this is set to 1.\n",
        "\n",
        "**[] visitStartTime** - The timestamp (expressed as POSIX time)."
      ]
    },
    {
      "metadata": {
        "trusted": true,
        "_uuid": "3b9d046fbb5577d119f0b4748b396f23bd205d40",
        "_kg_hide-input": false,
        "id": "3gbiX_M4Ea71",
        "colab_type": "code",
        "colab": {},
        "outputId": "07c2c839-97b2-47f0-9cc5-10a1e840182e"
      },
      "cell_type": "code",
      "source": [
        "# Import libraries\n",
        "import pandas as pd\n",
        "import os\n",
        "import json\n",
        "import numpy as np\n",
        "import pandas as pd\n",
        "from pandas.io.json import json_normalize\n",
        "\n",
        "import xgboost as xgb\n",
        "import lightgbm as lgb\n",
        "import catboost as cat\n",
        "\n",
        "from sklearn.ensemble import RandomForestClassifier\n",
        "from sklearn.metrics import f1_score\n",
        "from sklearn.metrics import accuracy_score\n",
        "from sklearn.metrics import roc_auc_score\n",
        "from sklearn.model_selection import GroupKFold\n",
        "from sklearn.metrics import mean_squared_error\n",
        "from sklearn.model_selection import GridSearchCV\n",
        "\n",
        "import matplotlib.pyplot as plt\n",
        "from itertools import cycle\n",
        "\n",
        "from sklearn.model_selection import train_test_split"
      ],
      "execution_count": 0,
      "outputs": [
        {
          "output_type": "stream",
          "text": [
            "/opt/conda/lib/python3.6/site-packages/sklearn/ensemble/weight_boosting.py:29: DeprecationWarning: numpy.core.umath_tests is an internal NumPy module and should not be imported. It will be removed in a future NumPy release.\n",
            "  from numpy.core.umath_tests import inner1d\n"
          ],
          "name": "stderr"
        }
      ]
    },
    {
      "metadata": {
        "_uuid": "1063a287375c6fed2aa7a7cc974e42ce32510e07",
        "id": "GCx0YZTNEa8F",
        "colab_type": "text"
      },
      "cell_type": "markdown",
      "source": [
        "**Function to read data from JSON format**"
      ]
    },
    {
      "metadata": {
        "_uuid": "8f2839f25d086af736a60e9eeb907d3b93b6e0e5",
        "_cell_guid": "b1076dfc-b9ad-4769-8c92-a6c4dae69d19",
        "trusted": true,
        "id": "fZwWERiWEa8H",
        "colab_type": "code",
        "colab": {},
        "outputId": "eee51e33-1eee-41b5-dab5-e58a46fe8f3c"
      },
      "cell_type": "code",
      "source": [
        "def load_df(csv_path='data/train.csv', nrows=None):\n",
        "    JSON_COLUMNS = ['device', 'geoNetwork', 'totals', 'trafficSource']\n",
        "    \n",
        "    df = pd.read_csv(csv_path, \n",
        "                     converters={column: json.loads for column in JSON_COLUMNS}, \n",
        "                     dtype={'fullVisitorId': 'str'}, # Important!!\n",
        "                     nrows=nrows)\n",
        "    \n",
        "    for column in JSON_COLUMNS:\n",
        "        column_as_df = json_normalize(df[column])\n",
        "        column_as_df.columns = [f\"{column}.{subcolumn}\" for subcolumn in column_as_df.columns]\n",
        "        df = df.drop(column, axis=1).merge(column_as_df, right_index=True, left_index=True)\n",
        "    print(f\"Loaded {os.path.basename(csv_path)}. Shape: {df.shape}\")\n",
        "    return df\n",
        "\n",
        "#print(os.listdir(\"../input/train-v1\"))"
      ],
      "execution_count": 0,
      "outputs": [
        {
          "output_type": "stream",
          "text": [
            "['train.csv', 'test.csv']\n"
          ],
          "name": "stdout"
        }
      ]
    },
    {
      "metadata": {
        "_cell_guid": "79c7e3d0-c299-4dcb-8224-4455121ee9b0",
        "_uuid": "d629ff2d2480ee46fbb7e2d37f6b5fab8052498a",
        "trusted": true,
        "id": "97Uvd0pLEa8R",
        "colab_type": "code",
        "colab": {},
        "outputId": "5d134fec-b93c-4601-9dd4-3bc42fd43d2a"
      },
      "cell_type": "code",
      "source": [
        "%%time\n",
        "train_origin = load_df()\n",
        "test_origin = load_df(\"data/test.csv\")"
      ],
      "execution_count": 0,
      "outputs": [
        {
          "output_type": "stream",
          "text": [
            "Loaded train.csv. Shape: (903653, 55)\n",
            "Loaded test.csv. Shape: (804684, 53)\n",
            "CPU times: user 5min 5s, sys: 9.46 s, total: 5min 15s\n",
            "Wall time: 5min 15s\n"
          ],
          "name": "stdout"
        }
      ]
    },
    {
      "metadata": {
        "trusted": true,
        "_uuid": "c59cf2ace1715444c51f4d6b554c2fb89b4940cc",
        "id": "0ahXIMqiEa8a",
        "colab_type": "code",
        "colab": {},
        "outputId": "f28b6d3f-553d-4a61-a965-160419fc77ce"
      },
      "cell_type": "code",
      "source": [
        "train_origin.shape, test_origin.shape"
      ],
      "execution_count": 0,
      "outputs": [
        {
          "output_type": "execute_result",
          "data": {
            "text/plain": [
              "((903653, 55), (804684, 53))"
            ]
          },
          "metadata": {
            "tags": []
          },
          "execution_count": 4
        }
      ]
    },
    {
      "metadata": {
        "trusted": true,
        "_uuid": "d0abe3d9da9194efd4a66b5034bcab8aa879fd5d",
        "id": "8rtjgmJSEa8i",
        "colab_type": "code",
        "colab": {},
        "outputId": "3ae1de70-9ae5-475a-96f6-bf19d5b0c4eb"
      },
      "cell_type": "code",
      "source": [
        "train_origin.columns"
      ],
      "execution_count": 0,
      "outputs": [
        {
          "output_type": "execute_result",
          "data": {
            "text/plain": [
              "Index(['channelGrouping', 'date', 'fullVisitorId', 'sessionId',\n",
              "       'socialEngagementType', 'visitId', 'visitNumber', 'visitStartTime',\n",
              "       'device.browser', 'device.browserSize', 'device.browserVersion',\n",
              "       'device.deviceCategory', 'device.flashVersion', 'device.isMobile',\n",
              "       'device.language', 'device.mobileDeviceBranding',\n",
              "       'device.mobileDeviceInfo', 'device.mobileDeviceMarketingName',\n",
              "       'device.mobileDeviceModel', 'device.mobileInputSelector',\n",
              "       'device.operatingSystem', 'device.operatingSystemVersion',\n",
              "       'device.screenColors', 'device.screenResolution', 'geoNetwork.city',\n",
              "       'geoNetwork.cityId', 'geoNetwork.continent', 'geoNetwork.country',\n",
              "       'geoNetwork.latitude', 'geoNetwork.longitude', 'geoNetwork.metro',\n",
              "       'geoNetwork.networkDomain', 'geoNetwork.networkLocation',\n",
              "       'geoNetwork.region', 'geoNetwork.subContinent', 'totals.bounces',\n",
              "       'totals.hits', 'totals.newVisits', 'totals.pageviews',\n",
              "       'totals.transactionRevenue', 'totals.visits', 'trafficSource.adContent',\n",
              "       'trafficSource.adwordsClickInfo.adNetworkType',\n",
              "       'trafficSource.adwordsClickInfo.criteriaParameters',\n",
              "       'trafficSource.adwordsClickInfo.gclId',\n",
              "       'trafficSource.adwordsClickInfo.isVideoAd',\n",
              "       'trafficSource.adwordsClickInfo.page',\n",
              "       'trafficSource.adwordsClickInfo.slot', 'trafficSource.campaign',\n",
              "       'trafficSource.campaignCode', 'trafficSource.isTrueDirect',\n",
              "       'trafficSource.keyword', 'trafficSource.medium',\n",
              "       'trafficSource.referralPath', 'trafficSource.source'],\n",
              "      dtype='object')"
            ]
          },
          "metadata": {
            "tags": []
          },
          "execution_count": 5
        }
      ]
    },
    {
      "metadata": {
        "_uuid": "bd34562543a04dc936a4f0a1db35f6a9b75070c3",
        "id": "MU4vqiRlEa8r",
        "colab_type": "text"
      },
      "cell_type": "markdown",
      "source": [
        "**Analyzing target**\n",
        "\n",
        "The target we want to predict, transactionRevenue, is contained in one of the JSON columns, ie. the totals column. While loading the dataset, it was renamed as totals.transactionRevenue. The target only contains a few non-null values and before taking its log, we fill the NAs:"
      ]
    },
    {
      "metadata": {
        "trusted": true,
        "_uuid": "86a849f6b613897a84fe9673dfc8b83a587d13c5",
        "id": "JwiLIk-2Ea8t",
        "colab_type": "code",
        "colab": {},
        "outputId": "3d7eeac9-4c5f-47c5-fa90-9d35025007f5"
      },
      "cell_type": "code",
      "source": [
        "target = train_origin['totals.transactionRevenue'].fillna(0).astype(float)\n",
        "print(np.mean(target))"
      ],
      "execution_count": 0,
      "outputs": [
        {
          "output_type": "stream",
          "text": [
            "1704272.8126836296\n"
          ],
          "name": "stdout"
        }
      ]
    },
    {
      "metadata": {
        "trusted": true,
        "_uuid": "d537d912055c0a67020cbabbc88d86b734f59a9c",
        "id": "1j9HIdSZEa83",
        "colab_type": "code",
        "colab": {},
        "outputId": "97a6698a-62a6-40a9-ce39-5ac24405af63"
      },
      "cell_type": "code",
      "source": [
        "import seaborn as sns\n",
        "import matplotlib.pyplot as plt\n",
        "from scipy import stats\n",
        "\n",
        "sns.set(color_codes=True)\n",
        "sns.distplot(target[target > 0], kde=False, rug=True);"
      ],
      "execution_count": 0,
      "outputs": [
        {
          "output_type": "stream",
          "text": [
            "/opt/conda/lib/python3.6/site-packages/scipy/stats/stats.py:1713: FutureWarning: Using a non-tuple sequence for multidimensional indexing is deprecated; use `arr[tuple(seq)]` instead of `arr[seq]`. In the future this will be interpreted as an array index, `arr[np.array(seq)]`, which will result either in an error or a different result.\n",
            "  return np.add.reduce(sorted[indexer] * weights, axis=axis) / sumval\n"
          ],
          "name": "stderr"
        },
        {
          "output_type": "display_data",
          "data": {
            "text/plain": [
              "<Figure size 432x288 with 1 Axes>"
            ],
            "image/png": "[encoded data removed]"
          },
          "metadata": {
            "tags": []
          }
        }
      ]
    },
    {
      "metadata": {
        "_uuid": "c7078b8567c2ac0b12a225a85f18876904653237",
        "id": "lkSBBAwgEa9C",
        "colab_type": "text"
      },
      "cell_type": "markdown",
      "source": [
        "**Fill Nan Value for all other attributes**"
      ]
    },
    {
      "metadata": {
        "trusted": true,
        "_uuid": "3a18ae7bfa368ca19bafd43c4008b5747d8932a4",
        "id": "0xbcqI-5Ea9E",
        "colab_type": "code",
        "colab": {},
        "outputId": "654106ec-9130-4b7b-de03-9cddc2e4300b"
      },
      "cell_type": "code",
      "source": [
        "columns_to_remove = [col for col in train_origin.columns if train_origin[col].nunique() == 1]\n",
        "print(\"Nb. of variables with unique value: {}\".format(len(columns_to_remove)))\n",
        "\n",
        "for col in columns_to_remove:\n",
        "    if set(['not available in demo dataset']) ==  set(train_origin[col].unique()): continue\n",
        "    print(col, train_origin[col].dtypes, train_origin[col].unique())"
      ],
      "execution_count": 0,
      "outputs": [
        {
          "output_type": "stream",
          "text": [
            "Nb. of variables with unique value: 24\n",
            "socialEngagementType object ['Not Socially Engaged']\n",
            "totals.bounces object ['1' nan]\n",
            "totals.newVisits object ['1' nan]\n",
            "totals.visits object ['1']\n",
            "trafficSource.adwordsClickInfo.isVideoAd object [nan False]\n",
            "trafficSource.campaignCode object [nan '11251kjhkvahf']\n",
            "trafficSource.isTrueDirect object [nan True]\n"
          ],
          "name": "stdout"
        }
      ]
    },
    {
      "metadata": {
        "trusted": true,
        "_uuid": "2e5e5c6b3b8da8aae124b2aaf93748e4adf82513",
        "id": "VSp-6m1hEa9N",
        "colab_type": "code",
        "colab": {}
      },
      "cell_type": "code",
      "source": [
        "# Do not remove columns with unique value and NAN, update value for NAN\n",
        "train_origin['totals.bounces'] = train_origin['totals.bounces'].fillna('0')\n",
        "test_origin['totals.bounces'] = test_origin['totals.bounces'].fillna('0')\n",
        "\n",
        "train_origin['totals.newVisits'] = train_origin['totals.newVisits'].fillna('0')\n",
        "test_origin['totals.newVisits'] = test_origin['totals.newVisits'].fillna('0')\n",
        "\n",
        "train_origin['trafficSource.adwordsClickInfo.isVideoAd'] = train_origin['trafficSource.adwordsClickInfo.isVideoAd'].fillna(True)\n",
        "test_origin['trafficSource.adwordsClickInfo.isVideoAd'] = test_origin['trafficSource.adwordsClickInfo.isVideoAd'].fillna(True)\n",
        "\n",
        "train_origin['trafficSource.isTrueDirect'] = train_origin['trafficSource.isTrueDirect'].fillna(False)\n",
        "test_origin['trafficSource.isTrueDirect'] = test_origin['trafficSource.isTrueDirect'].fillna(False)\n"
      ],
      "execution_count": 0,
      "outputs": []
    },
    {
      "metadata": {
        "_uuid": "7816b7aae236278c60781b14350ef210df523607",
        "id": "9iy4erhmEa9R",
        "colab_type": "text"
      },
      "cell_type": "markdown",
      "source": [
        "**Clear rare categories**"
      ]
    },
    {
      "metadata": {
        "trusted": true,
        "_uuid": "4665eacc2e92ee92bd64cc57623f8fe356ebd104",
        "id": "WSdUAxIkEa9S",
        "colab_type": "code",
        "colab": {},
        "outputId": "0a65eb49-f9e2-4cce-f546-dd8b61c56317"
      },
      "cell_type": "code",
      "source": [
        "# Remove column not in test but in train, should we?\n",
        "print(\"Columns in Train but NOT in Test:\")\n",
        "for col in train_origin.columns:\n",
        "    if col not in test_origin.columns:\n",
        "        print(col)\n",
        "print(\"Columns in Test but NOT in Traing:\")\n",
        "for col in test_origin.columns:\n",
        "    if col not in train_origin.columns:\n",
        "        print(col)\n",
        "train_origin['trafficSource.campaignCode'].value_counts()\n",
        "# trafficSource.campaignCode is redundant, we will not use for training/testing"
      ],
      "execution_count": 0,
      "outputs": [
        {
          "output_type": "stream",
          "text": [
            "Columns in Train but NOT in Test:\n",
            "totals.transactionRevenue\n",
            "trafficSource.campaignCode\n",
            "Columns in Test but NOT in Traing:\n"
          ],
          "name": "stdout"
        },
        {
          "output_type": "execute_result",
          "data": {
            "text/plain": [
              "11251kjhkvahf    1\n",
              "Name: trafficSource.campaignCode, dtype: int64"
            ]
          },
          "metadata": {
            "tags": []
          },
          "execution_count": 10
        }
      ]
    },
    {
      "metadata": {
        "trusted": true,
        "_uuid": "9627975bc95a0aacb57eee3d27aeb8773e85319d",
        "id": "lu72qy49Ea9Y",
        "colab_type": "code",
        "colab": {}
      },
      "cell_type": "code",
      "source": [
        "def clearRare(columnname, limit = 100):\n",
        "    # you may search for rare categories in train, train&test, or just test\n",
        "    #vc = pd.concat([train[columnname], test[columnname]], sort=False).value_counts()\n",
        "    vc = test_origin[columnname].value_counts()\n",
        "    \n",
        "    common = vc > limit\n",
        "    common = set(common.index[common].values)\n",
        "    print(\"Set\", sum(vc <= limit), columnname, \"categories to 'other';\", end=\" \")\n",
        "\n",
        "    train_origin.loc[train_origin[columnname].map(lambda x: x not in common), columnname] = 'other'\n",
        "    test_origin.loc[test_origin[columnname].map(lambda x: x not in common), columnname] = 'other'\n",
        "    print(\"now there are\", train_origin[columnname].nunique(), \"categories in train\")"
      ],
      "execution_count": 0,
      "outputs": []
    },
    {
      "metadata": {
        "_uuid": "dc8f0062468e6a6b283bd2f88518685db82ffbc2",
        "id": "FLAbim3NEa9c",
        "colab_type": "text"
      },
      "cell_type": "markdown",
      "source": [
        "**Fill NAN exhausted**"
      ]
    },
    {
      "metadata": {
        "trusted": true,
        "_uuid": "5d76227e40fbe83f70c1b4269bb9b6b1fd481033",
        "id": "wnj6DxzGEa9e",
        "colab_type": "code",
        "colab": {}
      },
      "cell_type": "code",
      "source": [
        "train_origin.fillna(0, inplace=True)\n",
        "test_origin.fillna(0, inplace=True)"
      ],
      "execution_count": 0,
      "outputs": []
    },
    {
      "metadata": {
        "trusted": true,
        "_uuid": "a9babc7b5457116c39d2b384f892b238b29e7873",
        "id": "gE3Lj_2REa9j",
        "colab_type": "code",
        "colab": {},
        "outputId": "12369956-96c5-4bdd-955d-219b218f5cc9"
      },
      "cell_type": "code",
      "source": [
        "clearRare(\"device.browser\")\n",
        "clearRare(\"device.operatingSystem\")\n",
        "clearRare(\"geoNetwork.country\")\n",
        "clearRare(\"geoNetwork.city\")\n",
        "clearRare(\"geoNetwork.metro\")\n",
        "clearRare(\"geoNetwork.networkDomain\")\n",
        "clearRare(\"geoNetwork.region\")\n",
        "clearRare(\"geoNetwork.subContinent\")\n",
        "clearRare(\"trafficSource.adContent\")\n",
        "clearRare(\"trafficSource.campaign\")\n",
        "clearRare(\"trafficSource.keyword\")\n",
        "clearRare(\"trafficSource.medium\")\n",
        "clearRare(\"trafficSource.referralPath\")\n",
        "clearRare(\"trafficSource.source\")"
      ],
      "execution_count": 0,
      "outputs": [
        {
          "output_type": "stream",
          "text": [
            "Set 92 device.browser categories to 'other'; now there are 17 categories in train\n",
            "Set 10 device.operatingSystem categories to 'other'; now there are 11 categories in train\n",
            "Set 97 geoNetwork.country categories to 'other'; now there are 123 categories in train\n",
            "Set 511 geoNetwork.city categories to 'other'; now there are 209 categories in train\n",
            "Set 52 geoNetwork.metro categories to 'other'; now there are 56 categories in train\n",
            "Set 25254 geoNetwork.networkDomain categories to 'other'; now there are 490 categories in train\n",
            "Set 209 geoNetwork.region categories to 'other'; now there are 163 categories in train\n",
            "Set 3 geoNetwork.subContinent categories to 'other'; now there are 21 categories in train\n",
            "Set 34 trafficSource.adContent categories to 'other'; now there are 7 categories in train\n",
            "Set 11 trafficSource.campaign categories to 'other'; now there are 5 categories in train\n",
            "Set 2393 trafficSource.keyword categories to 'other'; now there are 21 categories in train\n",
            "Set 1 trafficSource.medium categories to 'other'; now there are 7 categories in train\n",
            "Set 1988 trafficSource.referralPath categories to 'other'; now there are 118 categories in train\n",
            "Set 281 trafficSource.source categories to 'other'; now there are 44 categories in train\n"
          ],
          "name": "stdout"
        }
      ]
    },
    {
      "metadata": {
        "_uuid": "125c64fe116dd97468fe5d28588d678cba9d5aa3",
        "trusted": true,
        "id": "PxDfxx91Ea9o",
        "colab_type": "code",
        "colab": {},
        "outputId": "0c467518-f1aa-4aa9-e9e7-7e3514d24b41"
      },
      "cell_type": "code",
      "source": [
        "test_origin.shape, train_origin.shape"
      ],
      "execution_count": 0,
      "outputs": [
        {
          "output_type": "execute_result",
          "data": {
            "text/plain": [
              "((804684, 53), (903653, 55))"
            ]
          },
          "metadata": {
            "tags": []
          },
          "execution_count": 14
        }
      ]
    },
    {
      "metadata": {
        "_uuid": "f723211f5c5b00687155d55c3c4986fc3cbcc7f8",
        "id": "CVU2R369Ea9u",
        "colab_type": "text"
      },
      "cell_type": "markdown",
      "source": [
        "**Convert Date into Understandable format**"
      ]
    },
    {
      "metadata": {
        "trusted": true,
        "_uuid": "bb8ed2577e40e8e361650e7d4080d39860001388",
        "id": "0rcGuXKmEa9w",
        "colab_type": "code",
        "colab": {},
        "outputId": "cbf67e10-6fa9-4147-9dcd-d90ad13e9db9"
      },
      "cell_type": "code",
      "source": [
        "for df in [train_origin, test_origin]:\n",
        "    df_date = pd.to_datetime(df['visitStartTime'], unit='s')\n",
        "    df['sess_date_dow'] = df_date.dt.dayofweek\n",
        "    df['sess_date_hours'] = df_date.dt.hour\n",
        "    df['sess_date_dom'] = df_date.dt.day\n",
        "train_origin.shape, test_origin.shape"
      ],
      "execution_count": 0,
      "outputs": [
        {
          "output_type": "execute_result",
          "data": {
            "text/plain": [
              "((903653, 58), (804684, 56))"
            ]
          },
          "metadata": {
            "tags": []
          },
          "execution_count": 15
        }
      ]
    },
    {
      "metadata": {
        "_uuid": "56ccb7befcd245a95d17635c9573a567026b4224",
        "id": "BAVvcN9xEa9z",
        "colab_type": "text"
      },
      "cell_type": "markdown",
      "source": [
        "**Analyzing transaction time of dataset**"
      ]
    },
    {
      "metadata": {
        "trusted": true,
        "_uuid": "c17e7786c83cfd2a39ecb43d0f5e215f9631601f",
        "id": "JfMZTLeeEa90",
        "colab_type": "code",
        "colab": {},
        "outputId": "e30ea58c-1bc7-4a26-ee6c-c7a46c5007dc"
      },
      "cell_type": "code",
      "source": [
        "train_date = pd.to_datetime(train_origin.date, format=\"%Y%m%d\")\n",
        "test_date = pd.to_datetime(test_origin.date, format=\"%Y%m%d\")\n",
        "train_date.value_counts().sort_index().plot(label=\"train\")\n",
        "test_date.value_counts().sort_index().plot(label=\"test\")\n",
        "# plt.legend()"
      ],
      "execution_count": 0,
      "outputs": [
        {
          "output_type": "execute_result",
          "data": {
            "text/plain": [
              "<matplotlib.axes._subplots.AxesSubplot at 0x7f585d6e7e10>"
            ]
          },
          "metadata": {
            "tags": []
          },
          "execution_count": 16
        },
        {
          "output_type": "display_data",
          "data": {
            "text/plain": [
              "<Figure size 432x288 with 1 Axes>"
            ],
            "image/png": "[encoded data removed]"
          },
          "metadata": {
            "tags": []
          }
        }
      ]
    },
    {
      "metadata": {
        "trusted": true,
        "_uuid": "9b08b03344dedf12bc76343cecfa6610ef46eb66",
        "id": "AyS08SKOEa94",
        "colab_type": "code",
        "colab": {},
        "outputId": "304c26d6-8408-4a3d-c8c8-a991ea640c92"
      },
      "cell_type": "code",
      "source": [
        "# distribution by day of week\n",
        "sns.set(color_codes=True)\n",
        "sns.distplot(train_origin['sess_date_dow'], kde=False, rug=True);"
      ],
      "execution_count": 0,
      "outputs": [
        {
          "output_type": "display_data",
          "data": {
            "text/plain": [
              "<Figure size 432x288 with 1 Axes>"
            ],
            "image/png": "[encoded data removed]"
          },
          "metadata": {
            "tags": []
          }
        }
      ]
    },
    {
      "metadata": {
        "trusted": true,
        "_uuid": "a080460612e5e1dffefd74cba397881d2cd8dc51",
        "id": "X8Kw6T5uEa99",
        "colab_type": "code",
        "colab": {},
        "outputId": "0a97f0bc-d0a4-4c13-fdaa-f72a9da73bc8"
      },
      "cell_type": "code",
      "source": [
        "# Show date of week when people have made transactions\n",
        "dateWeek = train_origin[train_origin['totals.transactionRevenue'] != 0]\n",
        "sns.distplot(dateWeek['sess_date_dow'], kde=False, rug=True);"
      ],
      "execution_count": 0,
      "outputs": [
        {
          "output_type": "display_data",
          "data": {
            "text/plain": [
              "<Figure size 432x288 with 1 Axes>"
            ],
            "image/png": "[encoded data removed]"
          },
          "metadata": {
            "tags": []
          }
        }
      ]
    },
    {
      "metadata": {
        "trusted": true,
        "_uuid": "bd21c9f5a0e70a203d454d94f84234c24e2f78a5",
        "id": "MWcX_bq4Ea-B",
        "colab_type": "code",
        "colab": {},
        "outputId": "4bad65b8-62bf-45a7-e067-8f7c0d13d05e"
      },
      "cell_type": "code",
      "source": [
        "# distribution by hour of day\n",
        "sns.distplot(train_origin['sess_date_hours'], kde=False, rug=True);"
      ],
      "execution_count": 0,
      "outputs": [
        {
          "output_type": "display_data",
          "data": {
            "text/plain": [
              "<Figure size 432x288 with 1 Axes>"
            ],
            "image/png": "[encoded data removed]"
          },
          "metadata": {
            "tags": []
          }
        }
      ]
    },
    {
      "metadata": {
        "trusted": true,
        "_uuid": "ceb6de3a1b68f8b56a8202d04f546d347b87dfc9",
        "id": "-OIEEfJTEa-F",
        "colab_type": "code",
        "colab": {},
        "outputId": "a2f9effe-8cd9-4c98-ea40-1e9bcedab9d6"
      },
      "cell_type": "code",
      "source": [
        "# Show hours when people have made transactions\n",
        "hourDate = train_origin[train_origin['totals.transactionRevenue'] != 0]\n",
        "sns.distplot(hourDate['sess_date_hours'], kde=False, rug=True);"
      ],
      "execution_count": 0,
      "outputs": [
        {
          "output_type": "display_data",
          "data": {
            "text/plain": [
              "<Figure size 432x288 with 1 Axes>"
            ],
            "image/png": "[encoded data removed]"
          },
          "metadata": {
            "tags": []
          }
        }
      ]
    },
    {
      "metadata": {
        "trusted": true,
        "_uuid": "650d98cfb90d68ddcaed9e0768588ccbd6dfc180",
        "id": "iKB2OrDtEa-K",
        "colab_type": "code",
        "colab": {},
        "outputId": "bdae552e-870d-4e60-9f0d-d5f26798c939"
      },
      "cell_type": "code",
      "source": [
        "# distribution by day of month\n",
        "sns.distplot(train_origin['sess_date_dom'], kde=False, rug=True);"
      ],
      "execution_count": 0,
      "outputs": [
        {
          "output_type": "display_data",
          "data": {
            "text/plain": [
              "<Figure size 432x288 with 1 Axes>"
            ],
            "image/png": "[encoded data removed]"
          },
          "metadata": {
            "tags": []
          }
        }
      ]
    },
    {
      "metadata": {
        "trusted": true,
        "_uuid": "1653abf1f2851a129af02ff3f69e064b3a88b635",
        "id": "6svt1S-QEa-P",
        "colab_type": "code",
        "colab": {},
        "outputId": "41a60c1d-e040-4277-e5bf-4552ee33536b"
      },
      "cell_type": "code",
      "source": [
        "# Show date of month when people have done transactions\n",
        "dateMonth = train_origin[train_origin['totals.transactionRevenue'] != 0]\n",
        "sns.distplot(dateMonth['sess_date_dom'], kde=False, rug=True);"
      ],
      "execution_count": 0,
      "outputs": [
        {
          "output_type": "display_data",
          "data": {
            "text/plain": [
              "<Figure size 432x288 with 1 Axes>"
            ],
            "image/png": "[encoded data removed]"
          },
          "metadata": {
            "tags": []
          }
        }
      ]
    },
    {
      "metadata": {
        "trusted": true,
        "_uuid": "120c5af8df5e3b1ae1a15b0b27ca37a5c9101979",
        "id": "emG0mVQdEa-W",
        "colab_type": "code",
        "colab": {},
        "outputId": "b2f2393d-cf8f-4f0e-986d-787f2863bdd4"
      },
      "cell_type": "code",
      "source": [
        "for col in train_origin.columns:\n",
        "    print(col, train_origin[col].dtype)"
      ],
      "execution_count": 0,
      "outputs": [
        {
          "output_type": "stream",
          "text": [
            "channelGrouping object\n",
            "date int64\n",
            "fullVisitorId object\n",
            "sessionId object\n",
            "socialEngagementType object\n",
            "visitId int64\n",
            "visitNumber int64\n",
            "visitStartTime int64\n",
            "device.browser object\n",
            "device.browserSize object\n",
            "device.browserVersion object\n",
            "device.deviceCategory object\n",
            "device.flashVersion object\n",
            "device.isMobile bool\n",
            "device.language object\n",
            "device.mobileDeviceBranding object\n",
            "device.mobileDeviceInfo object\n",
            "device.mobileDeviceMarketingName object\n",
            "device.mobileDeviceModel object\n",
            "device.mobileInputSelector object\n",
            "device.operatingSystem object\n",
            "device.operatingSystemVersion object\n",
            "device.screenColors object\n",
            "device.screenResolution object\n",
            "geoNetwork.city object\n",
            "geoNetwork.cityId object\n",
            "geoNetwork.continent object\n",
            "geoNetwork.country object\n",
            "geoNetwork.latitude object\n",
            "geoNetwork.longitude object\n",
            "geoNetwork.metro object\n",
            "geoNetwork.networkDomain object\n",
            "geoNetwork.networkLocation object\n",
            "geoNetwork.region object\n",
            "geoNetwork.subContinent object\n",
            "totals.bounces object\n",
            "totals.hits object\n",
            "totals.newVisits object\n",
            "totals.pageviews object\n",
            "totals.transactionRevenue object\n",
            "totals.visits object\n",
            "trafficSource.adContent object\n",
            "trafficSource.adwordsClickInfo.adNetworkType object\n",
            "trafficSource.adwordsClickInfo.criteriaParameters object\n",
            "trafficSource.adwordsClickInfo.gclId object\n",
            "trafficSource.adwordsClickInfo.isVideoAd bool\n",
            "trafficSource.adwordsClickInfo.page object\n",
            "trafficSource.adwordsClickInfo.slot object\n",
            "trafficSource.campaign object\n",
            "trafficSource.campaignCode object\n",
            "trafficSource.isTrueDirect bool\n",
            "trafficSource.keyword object\n",
            "trafficSource.medium object\n",
            "trafficSource.referralPath object\n",
            "trafficSource.source object\n",
            "sess_date_dow int64\n",
            "sess_date_hours int64\n",
            "sess_date_dom int64\n"
          ],
          "name": "stdout"
        }
      ]
    },
    {
      "metadata": {
        "trusted": true,
        "_uuid": "7d9890edca08d0947dd79a4ef405631902587f6f",
        "id": "c6CVYV9rEa-a",
        "colab_type": "text"
      },
      "cell_type": "markdown",
      "source": [
        "**Create feature list**"
      ]
    },
    {
      "metadata": {
        "trusted": true,
        "_uuid": "0f173f473afcfef8b703564bb91dc851482cbdfb",
        "id": "Xg-vTXGcEa-b",
        "colab_type": "code",
        "colab": {},
        "outputId": "febc1d1f-a5b1-41a0-85fc-ff75d9954b95"
      },
      "cell_type": "code",
      "source": [
        "excluded_features = [\n",
        "    'date', 'sessionId', 'fullVisitorId', \n",
        "    'totals.transactionRevenue', 'trafficSource.campaignCode',\n",
        "    'visitId', 'visitStartTime','visitNumber'\n",
        "]\n",
        "\n",
        "no_object_columns = ['device.isMobile', 'trafficSource.adwordsClickInfo.isVideoAd', 'trafficSource.isTrueDirect',\n",
        "                    'sess_date_dow', 'sess_date_hours', 'sess_date_dom']\n",
        "\n",
        "categorical_features = [\n",
        "    _f for _f in train_origin.columns\n",
        "    if (_f not in excluded_features) # & (train_df[_f].dtype == 'object')\n",
        "]\n",
        "print(\"Number of selected features : \",len(categorical_features))"
      ],
      "execution_count": 0,
      "outputs": [
        {
          "output_type": "stream",
          "text": [
            "Number of selected features :  50\n"
          ],
          "name": "stdout"
        }
      ]
    },
    {
      "metadata": {
        "_uuid": "9b31ddb180191f354fb3d488a3925856c801ce9d",
        "id": "IlyARZWrEa-f",
        "colab_type": "text"
      },
      "cell_type": "markdown",
      "source": [
        "**Final columns after filter columns with unique values**"
      ]
    },
    {
      "metadata": {
        "trusted": true,
        "_uuid": "ee66b849cfe18a8c931c2a1f50e589730e1482ec",
        "id": "cYkOYscEEa-g",
        "colab_type": "code",
        "colab": {},
        "outputId": "ce87958a-ddd2-4546-8923-f9ad1377f66c"
      },
      "cell_type": "code",
      "source": [
        "columns = [col for col in train_origin.columns if  train_origin[col].nunique() > 1 and (col in categorical_features)]\n",
        "print(len(columns))\n",
        "print(columns)"
      ],
      "execution_count": 0,
      "outputs": [
        {
          "output_type": "stream",
          "text": [
            "31\n",
            "['channelGrouping', 'device.browser', 'device.deviceCategory', 'device.isMobile', 'device.operatingSystem', 'geoNetwork.city', 'geoNetwork.continent', 'geoNetwork.country', 'geoNetwork.metro', 'geoNetwork.networkDomain', 'geoNetwork.region', 'geoNetwork.subContinent', 'totals.bounces', 'totals.hits', 'totals.newVisits', 'totals.pageviews', 'trafficSource.adContent', 'trafficSource.adwordsClickInfo.adNetworkType', 'trafficSource.adwordsClickInfo.gclId', 'trafficSource.adwordsClickInfo.isVideoAd', 'trafficSource.adwordsClickInfo.page', 'trafficSource.adwordsClickInfo.slot', 'trafficSource.campaign', 'trafficSource.isTrueDirect', 'trafficSource.keyword', 'trafficSource.medium', 'trafficSource.referralPath', 'trafficSource.source', 'sess_date_dow', 'sess_date_hours', 'sess_date_dom']\n"
          ],
          "name": "stdout"
        }
      ]
    },
    {
      "metadata": {
        "_uuid": "231948e3e50f04612269be64e6b9e976c632b3b5",
        "id": "eXVbf46mEa-m",
        "colab_type": "text"
      },
      "cell_type": "markdown",
      "source": [
        "**DONE for select feature and factorizing dataset**"
      ]
    },
    {
      "metadata": {
        "_uuid": "9a1f5932b5a6ddeec7c4227d416e7eebe95a75be",
        "id": "DxTXryfxEa-n",
        "colab_type": "text"
      },
      "cell_type": "markdown",
      "source": [
        "**DATA Visualization**"
      ]
    },
    {
      "metadata": {
        "trusted": true,
        "_uuid": "1be8954461d01c283151e67cd36cbb2a1180f8ad",
        "id": "elhcviJOEa-o",
        "colab_type": "code",
        "colab": {},
        "outputId": "1ebf7bad-1a69-4a12-ed04-b48812caaff2"
      },
      "cell_type": "code",
      "source": [
        "train_origin['geoNetwork.continent'].value_counts()"
      ],
      "execution_count": 0,
      "outputs": [
        {
          "output_type": "execute_result",
          "data": {
            "text/plain": [
              "Americas     450377\n",
              "Asia         223698\n",
              "Europe       198311\n",
              "Oceania       15054\n",
              "Africa        14745\n",
              "(not set)      1468\n",
              "Name: geoNetwork.continent, dtype: int64"
            ]
          },
          "metadata": {
            "tags": []
          },
          "execution_count": 26
        }
      ]
    },
    {
      "metadata": {
        "trusted": true,
        "_uuid": "ec406601313c11da06b4c954773bbe165e3557f5",
        "id": "WcJcf4jzEa-s",
        "colab_type": "code",
        "colab": {},
        "outputId": "0ef86c71-b584-4bc3-daab-b3970baf4277"
      },
      "cell_type": "code",
      "source": [
        "# Analysis total revenue by continent\n",
        "ttt = train_origin[train_origin['totals.transactionRevenue'] != 0].copy()\n",
        "ttt['totals.transactionRevenue'] = ttt['totals.transactionRevenue'].astype(float)\n",
        "ttt.groupby(by='geoNetwork.continent')['totals.transactionRevenue'].sum()"
      ],
      "execution_count": 0,
      "outputs": [
        {
          "output_type": "execute_result",
          "data": {
            "text/plain": [
              "geoNetwork.continent\n",
              "(not set)    7.697800e+08\n",
              "Africa       8.687760e+09\n",
              "Americas     1.504672e+12\n",
              "Asia         1.740184e+10\n",
              "Europe       6.747030e+09\n",
              "Oceania      1.793230e+09\n",
              "Name: totals.transactionRevenue, dtype: float64"
            ]
          },
          "metadata": {
            "tags": []
          },
          "execution_count": 27
        }
      ]
    },
    {
      "metadata": {
        "_uuid": "90113329d879a314b2017375add92a81079c96f4",
        "trusted": true,
        "id": "yFkcSj5IEa-u",
        "colab_type": "code",
        "colab": {}
      },
      "cell_type": "code",
      "source": [
        "def drawBars(columnname):\n",
        "    sns.barplot(x=\"count\", y=\"index\", hue=\"dataset\",\n",
        "        data=pd.melt(pd.concat([train_origin[columnname].value_counts().rename(\"train\"), \n",
        "                       test_origin[columnname].value_counts().rename(\"test\")], axis=1, sort=\"False\").reset_index(),\n",
        "            id_vars=\"index\", var_name=\"dataset\", value_name=\"count\"))"
      ],
      "execution_count": 0,
      "outputs": []
    },
    {
      "metadata": {
        "trusted": true,
        "_uuid": "6fb8595b779a2fe75330ed7697fecf7bda26a7bd",
        "id": "XaKCvq1TEa-x",
        "colab_type": "code",
        "colab": {},
        "outputId": "3398c0b5-1738-435b-ce0a-c741f2976b19"
      },
      "cell_type": "code",
      "source": [
        "#find country where total_transactionRevenue > 0\n",
        "import plotly.graph_objs as go\n",
        "from plotly import tools\n",
        "from plotly.offline import download_plotlyjs, init_notebook_mode, plot, iplot\n",
        "init_notebook_mode(connected=True)"
      ],
      "execution_count": 0,
      "outputs": [
        {
          "output_type": "display_data",
          "data": {
            "text/html": [
              "<script>requirejs.config({paths: { 'plotly': ['https://cdn.plot.ly/plotly-latest.min']},});if(!window.Plotly) {{require(['plotly'],function(plotly) {window.Plotly=plotly;});}}</script>"
            ],
            "text/vnd.plotly.v1+html": "<script>requirejs.config({paths: { 'plotly': ['https://cdn.plot.ly/plotly-latest.min']},});if(!window.Plotly) {{require(['plotly'],function(plotly) {window.Plotly=plotly;});}}</script>"
          },
          "metadata": {
            "tags": []
          }
        }
      ]
    },
    {
      "metadata": {
        "trusted": true,
        "_uuid": "64ec061fed856205cfb544fc955e13d43fd01c0d",
        "id": "uggXrdhlEa-0",
        "colab_type": "code",
        "colab": {}
      },
      "cell_type": "code",
      "source": [
        "def plot_countryMap(data, country, nvisits, visits, title, colormap='Viridis'):\n",
        "    data = dict(type = 'choropleth', \n",
        "                colorscale = colormap,\n",
        "                autocolorscale = False,\n",
        "                reversescale = False,\n",
        "               locations = data[country],\n",
        "               locationmode = 'country names',\n",
        "               z = data[nvisits], \n",
        "               text = data[nvisits],\n",
        "               colorbar = {'title':visits})\n",
        "    layout = dict(title = title, \n",
        "                 geo = dict(showframe = False, \n",
        "                         projection = {'type': 'natural earth'}))\n",
        "    choromap = go.Figure(data = [data], layout=layout)\n",
        "    iplot(choromap)"
      ],
      "execution_count": 0,
      "outputs": []
    },
    {
      "metadata": {
        "trusted": true,
        "_uuid": "7f47361465a254420524a5e6765cac1726b7190f",
        "id": "Yab-lriREa-5",
        "colab_type": "code",
        "colab": {},
        "outputId": "63317e7d-ef51-4e8f-e620-49293c4d8861"
      },
      "cell_type": "code",
      "source": [
        "#visits per country\n",
        "countries = train_origin['geoNetwork.country'].value_counts()\n",
        "countryVisits = pd.DataFrame(data={'geoNetwork_country': countries.values}, index=countries.index).reset_index()\n",
        "countryVisits.columns = ['Country', 'Visits']\n",
        "plot_countryMap(countryVisits, 'Country', 'Visits', 'Visits', 'Visits per country')"
      ],
      "execution_count": 0,
      "outputs": [
        {
          "output_type": "display_data",
          "data": {
            "application/vnd.plotly.v1+json": {
              "data": [
                {
                  "autocolorscale": false,
                  "colorbar": {
                    "title": "Visits"
                  },
                  "colorscale": "Viridis",
                  "locationmode": "country names",
                  "locations": [
                    "United States",
                    "India",
                    "United Kingdom",
                    "Canada",
                    "Vietnam",
                    "Turkey",
                    "Thailand",
                    "Germany",
                    "Brazil",
                    "Japan",
                    "France",
                    "Mexico",
                    "Taiwan",
                    "Australia",
                    "Russia",
                    "Spain",
                    "Netherlands",
                    "Italy",
                    "Poland",
                    "Indonesia",
                    "Philippines",
                    "Singapore",
                    "Ireland",
                    "Malaysia",
                    "Romania",
                    "Ukraine",
                    "Israel",
                    "Peru",
                    "Sweden",
                    "South Korea",
                    "Argentina",
                    "Colombia",
                    "Hong Kong",
                    "Belgium",
                    "Switzerland",
                    "Czechia",
                    "Pakistan",
                    "China",
                    "Greece",
                    "Denmark",
                    "United Arab Emirates",
                    "Saudi Arabia",
                    "other",
                    "Austria",
                    "Hungary",
                    "Portugal",
                    "Egypt",
                    "Bangladesh",
                    "Norway",
                    "New Zealand",
                    "Venezuela",
                    "South Africa",
                    "Algeria",
                    "Bulgaria",
                    "Chile",
                    "Morocco",
                    "Serbia",
                    "Slovakia",
                    "(not set)",
                    "Sri Lanka",
                    "Nigeria",
                    "Croatia",
                    "Ecuador",
                    "Tunisia",
                    "Belarus",
                    "Kazakhstan",
                    "Finland",
                    "Dominican Republic",
                    "Bosnia & Herzegovina",
                    "Georgia",
                    "Jordan",
                    "Lithuania",
                    "Macedonia (FYROM)",
                    "Kenya",
                    "Puerto Rico",
                    "Slovenia",
                    "Iraq",
                    "Latvia",
                    "Estonia",
                    "Uruguay",
                    "Guatemala",
                    "Azerbaijan",
                    "Costa Rica",
                    "Albania",
                    "Qatar",
                    "Cambodia",
                    "Kuwait",
                    "Panama",
                    "Cyprus",
                    "Kosovo",
                    "Lebanon",
                    "El Salvador",
                    "Ghana",
                    "Côte d’Ivoire",
                    "Moldova",
                    "Bolivia",
                    "Oman",
                    "Armenia",
                    "Tanzania",
                    "Bahrain",
                    "Nepal",
                    "Myanmar (Burma)",
                    "Palestine",
                    "Honduras",
                    "Malta",
                    "Cameroon",
                    "Uganda",
                    "Trinidad & Tobago",
                    "Laos",
                    "Luxembourg",
                    "Jamaica",
                    "Senegal",
                    "Ethiopia",
                    "Nicaragua",
                    "Kyrgyzstan",
                    "Montenegro",
                    "Congo - Kinshasa",
                    "Yemen",
                    "Uzbekistan",
                    "Libya",
                    "Mozambique",
                    "Burkina Faso",
                    "Mali"
                  ],
                  "reversescale": false,
                  "text": [
                    364744,
                    51140,
                    37393,
                    25869,
                    24598,
                    20522,
                    20123,
                    19980,
                    19783,
                    19731,
                    15832,
                    13225,
                    12996,
                    12698,
                    11662,
                    11658,
                    11453,
                    11332,
                    9693,
                    9273,
                    9244,
                    7172,
                    6493,
                    6439,
                    6428,
                    5577,
                    5563,
                    5546,
                    5315,
                    5237,
                    5037,
                    4880,
                    4718,
                    4442,
                    4427,
                    4247,
                    4010,
                    3881,
                    3370,
                    3319,
                    3144,
                    3132,
                    2799,
                    2796,
                    2513,
                    2376,
                    2343,
                    2297,
                    2250,
                    2194,
                    2132,
                    2099,
                    2055,
                    2046,
                    1950,
                    1907,
                    1872,
                    1788,
                    1468,
                    1468,
                    1446,
                    1396,
                    1251,
                    1194,
                    976,
                    968,
                    959,
                    934,
                    903,
                    888,
                    859,
                    848,
                    846,
                    771,
                    732,
                    729,
                    711,
                    705,
                    656,
                    627,
                    581,
                    569,
                    554,
                    547,
                    535,
                    522,
                    521,
                    476,
                    463,
                    435,
                    398,
                    393,
                    381,
                    320,
                    319,
                    318,
                    305,
                    280,
                    260,
                    256,
                    211,
                    196,
                    191,
                    188,
                    175,
                    175,
                    166,
                    164,
                    161,
                    156,
                    153,
                    151,
                    139,
                    139,
                    134,
                    110,
                    103,
                    96,
                    96,
                    92,
                    74,
                    37,
                    35
                  ],
                  "z": [
                    364744,
                    51140,
                    37393,
                    25869,
                    24598,
                    20522,
                    20123,
                    19980,
                    19783,
                    19731,
                    15832,
                    13225,
                    12996,
                    12698,
                    11662,
                    11658,
                    11453,
                    11332,
                    9693,
                    9273,
                    9244,
                    7172,
                    6493,
                    6439,
                    6428,
                    5577,
                    5563,
                    5546,
                    5315,
                    5237,
                    5037,
                    4880,
                    4718,
                    4442,
                    4427,
                    4247,
                    4010,
                    3881,
                    3370,
                    3319,
                    3144,
                    3132,
                    2799,
                    2796,
                    2513,
                    2376,
                    2343,
                    2297,
                    2250,
                    2194,
                    2132,
                    2099,
                    2055,
                    2046,
                    1950,
                    1907,
                    1872,
                    1788,
                    1468,
                    1468,
                    1446,
                    1396,
                    1251,
                    1194,
                    976,
                    968,
                    959,
                    934,
                    903,
                    888,
                    859,
                    848,
                    846,
                    771,
                    732,
                    729,
                    711,
                    705,
                    656,
                    627,
                    581,
                    569,
                    554,
                    547,
                    535,
                    522,
                    521,
                    476,
                    463,
                    435,
                    398,
                    393,
                    381,
                    320,
                    319,
                    318,
                    305,
                    280,
                    260,
                    256,
                    211,
                    196,
                    191,
                    188,
                    175,
                    175,
                    166,
                    164,
                    161,
                    156,
                    153,
                    151,
                    139,
                    139,
                    134,
                    110,
                    103,
                    96,
                    96,
                    92,
                    74,
                    37,
                    35
                  ],
                  "type": "choropleth",
                  "uid": "74ea40a6-f543-11e8-97a4-ef40acb9355e"
                }
              ],
              "layout": {
                "geo": {
                  "projection": {
                    "type": "natural earth"
                  },
                  "showframe": false
                },
                "title": "Visits per country"
              }
            },
            "text/html": [
              "<div id=\"9240525f-5315-4b39-9763-6efc6e3a95c7\" style=\"height: 525px; width: 100%;\" class=\"plotly-graph-div\"></div><script type=\"text/javascript\">require([\"plotly\"], function(Plotly) { window.PLOTLYENV=window.PLOTLYENV || {};window.PLOTLYENV.BASE_URL=\"https://plot.ly\";Plotly.newPlot(\"9240525f-5315-4b39-9763-6efc6e3a95c7\", [{\"autocolorscale\": false, \"colorbar\": {\"title\": \"Visits\"}, \"colorscale\": \"Viridis\", \"locationmode\": \"country names\", \"locations\": [\"United States\", \"India\", \"United Kingdom\", \"Canada\", \"Vietnam\", \"Turkey\", \"Thailand\", \"Germany\", \"Brazil\", \"Japan\", \"France\", \"Mexico\", \"Taiwan\", \"Australia\", \"Russia\", \"Spain\", \"Netherlands\", \"Italy\", \"Poland\", \"Indonesia\", \"Philippines\", \"Singapore\", \"Ireland\", \"Malaysia\", \"Romania\", \"Ukraine\", \"Israel\", \"Peru\", \"Sweden\", \"South Korea\", \"Argentina\", \"Colombia\", \"Hong Kong\", \"Belgium\", \"Switzerland\", \"Czechia\", \"Pakistan\", \"China\", \"Greece\", \"Denmark\", \"United Arab Emirates\", \"Saudi Arabia\", \"other\", \"Austria\", \"Hungary\", \"Portugal\", \"Egypt\", \"Bangladesh\", \"Norway\", \"New Zealand\", \"Venezuela\", \"South Africa\", \"Algeria\", \"Bulgaria\", \"Chile\", \"Morocco\", \"Serbia\", \"Slovakia\", \"(not set)\", \"Sri Lanka\", \"Nigeria\", \"Croatia\", \"Ecuador\", \"Tunisia\", \"Belarus\", \"Kazakhstan\", \"Finland\", \"Dominican Republic\", \"Bosnia & Herzegovina\", \"Georgia\", \"Jordan\", \"Lithuania\", \"Macedonia (FYROM)\", \"Kenya\", \"Puerto Rico\", \"Slovenia\", \"Iraq\", \"Latvia\", \"Estonia\", \"Uruguay\", \"Guatemala\", \"Azerbaijan\", \"Costa Rica\", \"Albania\", \"Qatar\", \"Cambodia\", \"Kuwait\", \"Panama\", \"Cyprus\", \"Kosovo\", \"Lebanon\", \"El Salvador\", \"Ghana\", \"C\\u00f4te d\\u2019Ivoire\", \"Moldova\", \"Bolivia\", \"Oman\", \"Armenia\", \"Tanzania\", \"Bahrain\", \"Nepal\", \"Myanmar (Burma)\", \"Palestine\", \"Honduras\", \"Malta\", \"Cameroon\", \"Uganda\", \"Trinidad & Tobago\", \"Laos\", \"Luxembourg\", \"Jamaica\", \"Senegal\", \"Ethiopia\", \"Nicaragua\", \"Kyrgyzstan\", \"Montenegro\", \"Congo - Kinshasa\", \"Yemen\", \"Uzbekistan\", \"Libya\", \"Mozambique\", \"Burkina Faso\", \"Mali\"], \"reversescale\": false, \"text\": [364744.0, 51140.0, 37393.0, 25869.0, 24598.0, 20522.0, 20123.0, 19980.0, 19783.0, 19731.0, 15832.0, 13225.0, 12996.0, 12698.0, 11662.0, 11658.0, 11453.0, 11332.0, 9693.0, 9273.0, 9244.0, 7172.0, 6493.0, 6439.0, 6428.0, 5577.0, 5563.0, 5546.0, 5315.0, 5237.0, 5037.0, 4880.0, 4718.0, 4442.0, 4427.0, 4247.0, 4010.0, 3881.0, 3370.0, 3319.0, 3144.0, 3132.0, 2799.0, 2796.0, 2513.0, 2376.0, 2343.0, 2297.0, 2250.0, 2194.0, 2132.0, 2099.0, 2055.0, 2046.0, 1950.0, 1907.0, 1872.0, 1788.0, 1468.0, 1468.0, 1446.0, 1396.0, 1251.0, 1194.0, 976.0, 968.0, 959.0, 934.0, 903.0, 888.0, 859.0, 848.0, 846.0, 771.0, 732.0, 729.0, 711.0, 705.0, 656.0, 627.0, 581.0, 569.0, 554.0, 547.0, 535.0, 522.0, 521.0, 476.0, 463.0, 435.0, 398.0, 393.0, 381.0, 320.0, 319.0, 318.0, 305.0, 280.0, 260.0, 256.0, 211.0, 196.0, 191.0, 188.0, 175.0, 175.0, 166.0, 164.0, 161.0, 156.0, 153.0, 151.0, 139.0, 139.0, 134.0, 110.0, 103.0, 96.0, 96.0, 92.0, 74.0, 37.0, 35.0], \"z\": [364744, 51140, 37393, 25869, 24598, 20522, 20123, 19980, 19783, 19731, 15832, 13225, 12996, 12698, 11662, 11658, 11453, 11332, 9693, 9273, 9244, 7172, 6493, 6439, 6428, 5577, 5563, 5546, 5315, 5237, 5037, 4880, 4718, 4442, 4427, 4247, 4010, 3881, 3370, 3319, 3144, 3132, 2799, 2796, 2513, 2376, 2343, 2297, 2250, 2194, 2132, 2099, 2055, 2046, 1950, 1907, 1872, 1788, 1468, 1468, 1446, 1396, 1251, 1194, 976, 968, 959, 934, 903, 888, 859, 848, 846, 771, 732, 729, 711, 705, 656, 627, 581, 569, 554, 547, 535, 522, 521, 476, 463, 435, 398, 393, 381, 320, 319, 318, 305, 280, 260, 256, 211, 196, 191, 188, 175, 175, 166, 164, 161, 156, 153, 151, 139, 139, 134, 110, 103, 96, 96, 92, 74, 37, 35], \"type\": \"choropleth\", \"uid\": \"74ea40a6-f543-11e8-97a4-ef40acb9355e\"}], {\"geo\": {\"projection\": {\"type\": \"natural earth\"}, \"showframe\": false}, \"title\": \"Visits per country\"}, {\"showLink\": true, \"linkText\": \"Export to plot.ly\"})});</script>"
            ],
            "text/vnd.plotly.v1+html": "<div id=\"9240525f-5315-4b39-9763-6efc6e3a95c7\" style=\"height: 525px; width: 100%;\" class=\"plotly-graph-div\"></div><script type=\"text/javascript\">require([\"plotly\"], function(Plotly) { window.PLOTLYENV=window.PLOTLYENV || {};window.PLOTLYENV.BASE_URL=\"https://plot.ly\";Plotly.newPlot(\"9240525f-5315-4b39-9763-6efc6e3a95c7\", [{\"autocolorscale\": false, \"colorbar\": {\"title\": \"Visits\"}, \"colorscale\": \"Viridis\", \"locationmode\": \"country names\", \"locations\": [\"United States\", \"India\", \"United Kingdom\", \"Canada\", \"Vietnam\", \"Turkey\", \"Thailand\", \"Germany\", \"Brazil\", \"Japan\", \"France\", \"Mexico\", \"Taiwan\", \"Australia\", \"Russia\", \"Spain\", \"Netherlands\", \"Italy\", \"Poland\", \"Indonesia\", \"Philippines\", \"Singapore\", \"Ireland\", \"Malaysia\", \"Romania\", \"Ukraine\", \"Israel\", \"Peru\", \"Sweden\", \"South Korea\", \"Argentina\", \"Colombia\", \"Hong Kong\", \"Belgium\", \"Switzerland\", \"Czechia\", \"Pakistan\", \"China\", \"Greece\", \"Denmark\", \"United Arab Emirates\", \"Saudi Arabia\", \"other\", \"Austria\", \"Hungary\", \"Portugal\", \"Egypt\", \"Bangladesh\", \"Norway\", \"New Zealand\", \"Venezuela\", \"South Africa\", \"Algeria\", \"Bulgaria\", \"Chile\", \"Morocco\", \"Serbia\", \"Slovakia\", \"(not set)\", \"Sri Lanka\", \"Nigeria\", \"Croatia\", \"Ecuador\", \"Tunisia\", \"Belarus\", \"Kazakhstan\", \"Finland\", \"Dominican Republic\", \"Bosnia & Herzegovina\", \"Georgia\", \"Jordan\", \"Lithuania\", \"Macedonia (FYROM)\", \"Kenya\", \"Puerto Rico\", \"Slovenia\", \"Iraq\", \"Latvia\", \"Estonia\", \"Uruguay\", \"Guatemala\", \"Azerbaijan\", \"Costa Rica\", \"Albania\", \"Qatar\", \"Cambodia\", \"Kuwait\", \"Panama\", \"Cyprus\", \"Kosovo\", \"Lebanon\", \"El Salvador\", \"Ghana\", \"C\\u00f4te d\\u2019Ivoire\", \"Moldova\", \"Bolivia\", \"Oman\", \"Armenia\", \"Tanzania\", \"Bahrain\", \"Nepal\", \"Myanmar (Burma)\", \"Palestine\", \"Honduras\", \"Malta\", \"Cameroon\", \"Uganda\", \"Trinidad & Tobago\", \"Laos\", \"Luxembourg\", \"Jamaica\", \"Senegal\", \"Ethiopia\", \"Nicaragua\", \"Kyrgyzstan\", \"Montenegro\", \"Congo - Kinshasa\", \"Yemen\", \"Uzbekistan\", \"Libya\", \"Mozambique\", \"Burkina Faso\", \"Mali\"], \"reversescale\": false, \"text\": [364744.0, 51140.0, 37393.0, 25869.0, 24598.0, 20522.0, 20123.0, 19980.0, 19783.0, 19731.0, 15832.0, 13225.0, 12996.0, 12698.0, 11662.0, 11658.0, 11453.0, 11332.0, 9693.0, 9273.0, 9244.0, 7172.0, 6493.0, 6439.0, 6428.0, 5577.0, 5563.0, 5546.0, 5315.0, 5237.0, 5037.0, 4880.0, 4718.0, 4442.0, 4427.0, 4247.0, 4010.0, 3881.0, 3370.0, 3319.0, 3144.0, 3132.0, 2799.0, 2796.0, 2513.0, 2376.0, 2343.0, 2297.0, 2250.0, 2194.0, 2132.0, 2099.0, 2055.0, 2046.0, 1950.0, 1907.0, 1872.0, 1788.0, 1468.0, 1468.0, 1446.0, 1396.0, 1251.0, 1194.0, 976.0, 968.0, 959.0, 934.0, 903.0, 888.0, 859.0, 848.0, 846.0, 771.0, 732.0, 729.0, 711.0, 705.0, 656.0, 627.0, 581.0, 569.0, 554.0, 547.0, 535.0, 522.0, 521.0, 476.0, 463.0, 435.0, 398.0, 393.0, 381.0, 320.0, 319.0, 318.0, 305.0, 280.0, 260.0, 256.0, 211.0, 196.0, 191.0, 188.0, 175.0, 175.0, 166.0, 164.0, 161.0, 156.0, 153.0, 151.0, 139.0, 139.0, 134.0, 110.0, 103.0, 96.0, 96.0, 92.0, 74.0, 37.0, 35.0], \"z\": [364744, 51140, 37393, 25869, 24598, 20522, 20123, 19980, 19783, 19731, 15832, 13225, 12996, 12698, 11662, 11658, 11453, 11332, 9693, 9273, 9244, 7172, 6493, 6439, 6428, 5577, 5563, 5546, 5315, 5237, 5037, 4880, 4718, 4442, 4427, 4247, 4010, 3881, 3370, 3319, 3144, 3132, 2799, 2796, 2513, 2376, 2343, 2297, 2250, 2194, 2132, 2099, 2055, 2046, 1950, 1907, 1872, 1788, 1468, 1468, 1446, 1396, 1251, 1194, 976, 968, 959, 934, 903, 888, 859, 848, 846, 771, 732, 729, 711, 705, 656, 627, 581, 569, 554, 547, 535, 522, 521, 476, 463, 435, 398, 393, 381, 320, 319, 318, 305, 280, 260, 256, 211, 196, 191, 188, 175, 175, 166, 164, 161, 156, 153, 151, 139, 139, 134, 110, 103, 96, 96, 92, 74, 37, 35], \"type\": \"choropleth\", \"uid\": \"74ea40a6-f543-11e8-97a4-ef40acb9355e\"}], {\"geo\": {\"projection\": {\"type\": \"natural earth\"}, \"showframe\": false}, \"title\": \"Visits per country\"}, {\"showLink\": true, \"linkText\": \"Export to plot.ly\"})});</script>"
          },
          "metadata": {
            "tags": []
          }
        }
      ]
    },
    {
      "metadata": {
        "trusted": true,
        "_uuid": "48fc2ebee72bab5a01eeee4133b2946f8eeda9ed",
        "id": "RyO9_OGdEa-9",
        "colab_type": "code",
        "colab": {},
        "outputId": "058e7d7b-bf1e-4b16-931c-6168e1182c7b"
      },
      "cell_type": "code",
      "source": [
        "drawBars(\"channelGrouping\")"
      ],
      "execution_count": 0,
      "outputs": [
        {
          "output_type": "display_data",
          "data": {
            "text/plain": [
              "<Figure size 432x288 with 1 Axes>"
            ],
            "image/png": "[encoded data removed]"
          },
          "metadata": {
            "tags": []
          }
        }
      ]
    },
    {
      "metadata": {
        "trusted": true,
        "_uuid": "dfcd647f58b830f4e99e8dca94b13733c1849e73",
        "id": "5GFA2tAvEa_G",
        "colab_type": "code",
        "colab": {},
        "outputId": "d552c72c-6868-4d6a-9317-0c007384501a"
      },
      "cell_type": "code",
      "source": [
        "#visits with non-zero transaction\n",
        "nonZero = train_origin[train_origin['totals.transactionRevenue'] != 0].copy()\n",
        "countries = nonZero['geoNetwork.country'].value_counts()\n",
        "countryVisits = pd.DataFrame(data={'geoNetwork_country': countries.values}, index=countries.index).reset_index()\n",
        "countryVisits.columns = ['Country', 'Visits']\n",
        "plot_countryMap(countryVisits, 'Country', 'Visits', 'Visits', 'Visits with non-zero transaction per country')"
      ],
      "execution_count": 0,
      "outputs": [
        {
          "output_type": "display_data",
          "data": {
            "application/vnd.plotly.v1+json": {
              "data": [
                {
                  "autocolorscale": false,
                  "colorbar": {
                    "title": "Visits"
                  },
                  "colorscale": "Viridis",
                  "locationmode": "country names",
                  "locations": [
                    "United States",
                    "Canada",
                    "Venezuela",
                    "Mexico",
                    "Taiwan",
                    "Japan",
                    "United Kingdom",
                    "Australia",
                    "Indonesia",
                    "Puerto Rico",
                    "Brazil",
                    "India",
                    "Singapore",
                    "Hong Kong",
                    "Switzerland",
                    "South Korea",
                    "Germany",
                    "Colombia",
                    "China",
                    "Ireland",
                    "Israel",
                    "(not set)",
                    "Argentina",
                    "Belgium",
                    "other",
                    "Thailand",
                    "Chile",
                    "France",
                    "Ecuador",
                    "Russia",
                    "Ukraine",
                    "Poland",
                    "Greece",
                    "Saudi Arabia",
                    "Malaysia",
                    "Philippines",
                    "Kenya",
                    "Netherlands",
                    "United Arab Emirates",
                    "Kuwait",
                    "Turkey",
                    "Peru",
                    "Panama",
                    "Finland",
                    "Sweden",
                    "Spain",
                    "Georgia",
                    "Kazakhstan",
                    "Italy",
                    "Nigeria",
                    "Guatemala",
                    "South Africa",
                    "El Salvador",
                    "Armenia",
                    "Portugal",
                    "Romania",
                    "Cyprus",
                    "Nicaragua",
                    "Hungary",
                    "Lebanon",
                    "Czechia",
                    "Uruguay",
                    "New Zealand",
                    "Egypt",
                    "Denmark",
                    "Pakistan"
                  ],
                  "reversescale": false,
                  "text": [
                    10953,
                    190,
                    63,
                    20,
                    19,
                    17,
                    16,
                    13,
                    11,
                    11,
                    10,
                    10,
                    10,
                    9,
                    9,
                    8,
                    8,
                    8,
                    6,
                    6,
                    6,
                    6,
                    5,
                    5,
                    5,
                    5,
                    5,
                    5,
                    4,
                    4,
                    4,
                    3,
                    3,
                    3,
                    3,
                    3,
                    3,
                    3,
                    3,
                    2,
                    2,
                    2,
                    2,
                    2,
                    2,
                    2,
                    2,
                    2,
                    2,
                    2,
                    2,
                    2,
                    1,
                    1,
                    1,
                    1,
                    1,
                    1,
                    1,
                    1,
                    1,
                    1,
                    1,
                    1,
                    1,
                    1
                  ],
                  "z": [
                    10953,
                    190,
                    63,
                    20,
                    19,
                    17,
                    16,
                    13,
                    11,
                    11,
                    10,
                    10,
                    10,
                    9,
                    9,
                    8,
                    8,
                    8,
                    6,
                    6,
                    6,
                    6,
                    5,
                    5,
                    5,
                    5,
                    5,
                    5,
                    4,
                    4,
                    4,
                    3,
                    3,
                    3,
                    3,
                    3,
                    3,
                    3,
                    3,
                    2,
                    2,
                    2,
                    2,
                    2,
                    2,
                    2,
                    2,
                    2,
                    2,
                    2,
                    2,
                    2,
                    1,
                    1,
                    1,
                    1,
                    1,
                    1,
                    1,
                    1,
                    1,
                    1,
                    1,
                    1,
                    1,
                    1
                  ],
                  "type": "choropleth",
                  "uid": "773a2f24-f543-11e8-97a4-ef40acb9355e"
                }
              ],
              "layout": {
                "geo": {
                  "projection": {
                    "type": "natural earth"
                  },
                  "showframe": false
                },
                "title": "Visits with non-zero transaction per country"
              }
            },
            "text/html": [
              "<div id=\"2adb90aa-f1e2-4afa-916d-09b3b6a80729\" style=\"height: 525px; width: 100%;\" class=\"plotly-graph-div\"></div><script type=\"text/javascript\">require([\"plotly\"], function(Plotly) { window.PLOTLYENV=window.PLOTLYENV || {};window.PLOTLYENV.BASE_URL=\"https://plot.ly\";Plotly.newPlot(\"2adb90aa-f1e2-4afa-916d-09b3b6a80729\", [{\"autocolorscale\": false, \"colorbar\": {\"title\": \"Visits\"}, \"colorscale\": \"Viridis\", \"locationmode\": \"country names\", \"locations\": [\"United States\", \"Canada\", \"Venezuela\", \"Mexico\", \"Taiwan\", \"Japan\", \"United Kingdom\", \"Australia\", \"Indonesia\", \"Puerto Rico\", \"Brazil\", \"India\", \"Singapore\", \"Hong Kong\", \"Switzerland\", \"South Korea\", \"Germany\", \"Colombia\", \"China\", \"Ireland\", \"Israel\", \"(not set)\", \"Argentina\", \"Belgium\", \"other\", \"Thailand\", \"Chile\", \"France\", \"Ecuador\", \"Russia\", \"Ukraine\", \"Poland\", \"Greece\", \"Saudi Arabia\", \"Malaysia\", \"Philippines\", \"Kenya\", \"Netherlands\", \"United Arab Emirates\", \"Kuwait\", \"Turkey\", \"Peru\", \"Panama\", \"Finland\", \"Sweden\", \"Spain\", \"Georgia\", \"Kazakhstan\", \"Italy\", \"Nigeria\", \"Guatemala\", \"South Africa\", \"El Salvador\", \"Armenia\", \"Portugal\", \"Romania\", \"Cyprus\", \"Nicaragua\", \"Hungary\", \"Lebanon\", \"Czechia\", \"Uruguay\", \"New Zealand\", \"Egypt\", \"Denmark\", \"Pakistan\"], \"reversescale\": false, \"text\": [10953.0, 190.0, 63.0, 20.0, 19.0, 17.0, 16.0, 13.0, 11.0, 11.0, 10.0, 10.0, 10.0, 9.0, 9.0, 8.0, 8.0, 8.0, 6.0, 6.0, 6.0, 6.0, 5.0, 5.0, 5.0, 5.0, 5.0, 5.0, 4.0, 4.0, 4.0, 3.0, 3.0, 3.0, 3.0, 3.0, 3.0, 3.0, 3.0, 2.0, 2.0, 2.0, 2.0, 2.0, 2.0, 2.0, 2.0, 2.0, 2.0, 2.0, 2.0, 2.0, 1.0, 1.0, 1.0, 1.0, 1.0, 1.0, 1.0, 1.0, 1.0, 1.0, 1.0, 1.0, 1.0, 1.0], \"z\": [10953, 190, 63, 20, 19, 17, 16, 13, 11, 11, 10, 10, 10, 9, 9, 8, 8, 8, 6, 6, 6, 6, 5, 5, 5, 5, 5, 5, 4, 4, 4, 3, 3, 3, 3, 3, 3, 3, 3, 2, 2, 2, 2, 2, 2, 2, 2, 2, 2, 2, 2, 2, 1, 1, 1, 1, 1, 1, 1, 1, 1, 1, 1, 1, 1, 1], \"type\": \"choropleth\", \"uid\": \"773a2f24-f543-11e8-97a4-ef40acb9355e\"}], {\"geo\": {\"projection\": {\"type\": \"natural earth\"}, \"showframe\": false}, \"title\": \"Visits with non-zero transaction per country\"}, {\"showLink\": true, \"linkText\": \"Export to plot.ly\"})});</script>"
            ],
            "text/vnd.plotly.v1+html": "<div id=\"2adb90aa-f1e2-4afa-916d-09b3b6a80729\" style=\"height: 525px; width: 100%;\" class=\"plotly-graph-div\"></div><script type=\"text/javascript\">require([\"plotly\"], function(Plotly) { window.PLOTLYENV=window.PLOTLYENV || {};window.PLOTLYENV.BASE_URL=\"https://plot.ly\";Plotly.newPlot(\"2adb90aa-f1e2-4afa-916d-09b3b6a80729\", [{\"autocolorscale\": false, \"colorbar\": {\"title\": \"Visits\"}, \"colorscale\": \"Viridis\", \"locationmode\": \"country names\", \"locations\": [\"United States\", \"Canada\", \"Venezuela\", \"Mexico\", \"Taiwan\", \"Japan\", \"United Kingdom\", \"Australia\", \"Indonesia\", \"Puerto Rico\", \"Brazil\", \"India\", \"Singapore\", \"Hong Kong\", \"Switzerland\", \"South Korea\", \"Germany\", \"Colombia\", \"China\", \"Ireland\", \"Israel\", \"(not set)\", \"Argentina\", \"Belgium\", \"other\", \"Thailand\", \"Chile\", \"France\", \"Ecuador\", \"Russia\", \"Ukraine\", \"Poland\", \"Greece\", \"Saudi Arabia\", \"Malaysia\", \"Philippines\", \"Kenya\", \"Netherlands\", \"United Arab Emirates\", \"Kuwait\", \"Turkey\", \"Peru\", \"Panama\", \"Finland\", \"Sweden\", \"Spain\", \"Georgia\", \"Kazakhstan\", \"Italy\", \"Nigeria\", \"Guatemala\", \"South Africa\", \"El Salvador\", \"Armenia\", \"Portugal\", \"Romania\", \"Cyprus\", \"Nicaragua\", \"Hungary\", \"Lebanon\", \"Czechia\", \"Uruguay\", \"New Zealand\", \"Egypt\", \"Denmark\", \"Pakistan\"], \"reversescale\": false, \"text\": [10953.0, 190.0, 63.0, 20.0, 19.0, 17.0, 16.0, 13.0, 11.0, 11.0, 10.0, 10.0, 10.0, 9.0, 9.0, 8.0, 8.0, 8.0, 6.0, 6.0, 6.0, 6.0, 5.0, 5.0, 5.0, 5.0, 5.0, 5.0, 4.0, 4.0, 4.0, 3.0, 3.0, 3.0, 3.0, 3.0, 3.0, 3.0, 3.0, 2.0, 2.0, 2.0, 2.0, 2.0, 2.0, 2.0, 2.0, 2.0, 2.0, 2.0, 2.0, 2.0, 1.0, 1.0, 1.0, 1.0, 1.0, 1.0, 1.0, 1.0, 1.0, 1.0, 1.0, 1.0, 1.0, 1.0], \"z\": [10953, 190, 63, 20, 19, 17, 16, 13, 11, 11, 10, 10, 10, 9, 9, 8, 8, 8, 6, 6, 6, 6, 5, 5, 5, 5, 5, 5, 4, 4, 4, 3, 3, 3, 3, 3, 3, 3, 3, 2, 2, 2, 2, 2, 2, 2, 2, 2, 2, 2, 2, 2, 1, 1, 1, 1, 1, 1, 1, 1, 1, 1, 1, 1, 1, 1], \"type\": \"choropleth\", \"uid\": \"773a2f24-f543-11e8-97a4-ef40acb9355e\"}], {\"geo\": {\"projection\": {\"type\": \"natural earth\"}, \"showframe\": false}, \"title\": \"Visits with non-zero transaction per country\"}, {\"showLink\": true, \"linkText\": \"Export to plot.ly\"})});</script>"
          },
          "metadata": {
            "tags": []
          }
        }
      ]
    },
    {
      "metadata": {
        "trusted": true,
        "_uuid": "0b4a9f60d9a03cc949be2628ab059411e6583afb",
        "id": "aieQA_TbEa_K",
        "colab_type": "code",
        "colab": {},
        "outputId": "e1edbfe7-c0e9-4425-f1de-e6dc9a35f8da"
      },
      "cell_type": "code",
      "source": [
        "ids_train = set(train_origin.fullVisitorId.unique())\n",
        "ids_test = set(test_origin.fullVisitorId.unique())\n",
        "print(\"Unique visitor ids in train:\", len(ids_train))\n",
        "print(\"Unique visitor ids in test:\", len(ids_test))\n",
        "print(\"Common visitors in train and test:\", len(ids_train & ids_test))"
      ],
      "execution_count": 0,
      "outputs": [
        {
          "output_type": "stream",
          "text": [
            "Unique visitor ids in train: 714167\n",
            "Unique visitor ids in test: 617242\n",
            "Common visitors in train and test: 7679\n"
          ],
          "name": "stdout"
        }
      ]
    },
    {
      "metadata": {
        "trusted": true,
        "_uuid": "38d6484bf724c28e23b303fde88550307dbf78f4",
        "id": "hM6T1uAJEa_N",
        "colab_type": "code",
        "colab": {},
        "outputId": "7686c4c3-520d-45a7-ab97-6ae36ac74fe8"
      },
      "cell_type": "code",
      "source": [
        "print(\"Train: \", np.bincount(train_origin.visitId.value_counts()))\n",
        "print(\"test: \", np.bincount(test_origin.visitId.value_counts()))"
      ],
      "execution_count": 0,
      "outputs": [
        {
          "output_type": "stream",
          "text": [
            "Train:  [     0 869452  16410    396     38      3      3      0      1]\n",
            "test:  [     0 759983  17805    978    261    110     62     36     18     17\n",
            "     24     12     15     24     22     24     19     21     21     23\n",
            "      9      8      5      2      2      0      1      0      2]\n"
          ],
          "name": "stdout"
        }
      ]
    },
    {
      "metadata": {
        "_uuid": "84c018622dc9476c0c74b7694a50b634f753ec27",
        "id": "kqcUWg4IEa_S",
        "colab_type": "text"
      },
      "cell_type": "markdown",
      "source": [
        "\n",
        "**Factorization**"
      ]
    },
    {
      "metadata": {
        "trusted": true,
        "_uuid": "897271c4021c5e50261f9e3478506139efcd6e7d",
        "id": "CJGhP1oHEa_U",
        "colab_type": "code",
        "colab": {},
        "outputId": "16a00d8a-f30d-40c8-8507-e0376b1d4e73"
      },
      "cell_type": "code",
      "source": [
        "object_columns = [i for i in columns if i not in no_object_columns]\n",
        "for f in object_columns:\n",
        "    print(f)\n",
        "    train_origin[f], indexer = pd.factorize(train_origin[f])\n",
        "    test_origin[f] = indexer.get_indexer(test_origin[f])\n",
        "train_origin[\"totals.transactionRevenue\"] = train_origin[\"totals.transactionRevenue\"].fillna(0).astype(int)\n",
        "train_origin[\"totals.transactionRevenue\"] = train_origin[\"totals.transactionRevenue\"].astype('int')\n",
        "train_origin.head(10)"
      ],
      "execution_count": 0,
      "outputs": [
        {
          "output_type": "stream",
          "text": [
            "channelGrouping\n",
            "device.browser\n",
            "device.deviceCategory\n",
            "device.operatingSystem\n",
            "geoNetwork.city\n",
            "geoNetwork.continent\n",
            "geoNetwork.country\n",
            "geoNetwork.metro\n",
            "geoNetwork.networkDomain\n",
            "geoNetwork.region\n",
            "geoNetwork.subContinent\n",
            "totals.bounces\n",
            "totals.hits\n",
            "totals.newVisits\n",
            "totals.pageviews\n",
            "trafficSource.adContent\n",
            "trafficSource.adwordsClickInfo.adNetworkType\n",
            "trafficSource.adwordsClickInfo.gclId\n",
            "trafficSource.adwordsClickInfo.page\n",
            "trafficSource.adwordsClickInfo.slot\n",
            "trafficSource.campaign\n",
            "trafficSource.keyword\n",
            "trafficSource.medium\n",
            "trafficSource.referralPath\n",
            "trafficSource.source\n"
          ],
          "name": "stdout"
        },
        {
          "output_type": "execute_result",
          "data": {
            "text/plain": [
              "   channelGrouping      date      ...      sess_date_hours sess_date_dom\n",
              "0                0  20160902      ...                   15             2\n",
              "1                0  20160902      ...                    5             3\n",
              "2                0  20160902      ...                    1             3\n",
              "3                0  20160902      ...                    5             3\n",
              "4                0  20160902      ...                   13             2\n",
              "5                0  20160902      ...                    9             2\n",
              "6                0  20160902      ...                   11             2\n",
              "7                0  20160902      ...                   10             2\n",
              "8                0  20160902      ...                    8             2\n",
              "9                0  20160902      ...                   10             2\n",
              "\n",
              "[10 rows x 58 columns]"
            ],
            "text/html": [
              "<div>\n",
              "<style scoped>\n",
              "    .dataframe tbody tr th:only-of-type {\n",
              "        vertical-align: middle;\n",
              "    }\n",
              "\n",
              "    .dataframe tbody tr th {\n",
              "        vertical-align: top;\n",
              "    }\n",
              "\n",
              "    .dataframe thead th {\n",
              "        text-align: right;\n",
              "    }\n",
              "</style>\n",
              "<table border=\"1\" class=\"dataframe\">\n",
              "  <thead>\n",
              "    <tr style=\"text-align: right;\">\n",
              "      <th></th>\n",
              "      <th>channelGrouping</th>\n",
              "      <th>date</th>\n",
              "      <th>fullVisitorId</th>\n",
              "      <th>sessionId</th>\n",
              "      <th>socialEngagementType</th>\n",
              "      <th>visitId</th>\n",
              "      <th>visitNumber</th>\n",
              "      <th>visitStartTime</th>\n",
              "      <th>device.browser</th>\n",
              "      <th>device.browserSize</th>\n",
              "      <th>device.browserVersion</th>\n",
              "      <th>device.deviceCategory</th>\n",
              "      <th>device.flashVersion</th>\n",
              "      <th>device.isMobile</th>\n",
              "      <th>device.language</th>\n",
              "      <th>device.mobileDeviceBranding</th>\n",
              "      <th>device.mobileDeviceInfo</th>\n",
              "      <th>device.mobileDeviceMarketingName</th>\n",
              "      <th>device.mobileDeviceModel</th>\n",
              "      <th>device.mobileInputSelector</th>\n",
              "      <th>device.operatingSystem</th>\n",
              "      <th>device.operatingSystemVersion</th>\n",
              "      <th>device.screenColors</th>\n",
              "      <th>device.screenResolution</th>\n",
              "      <th>geoNetwork.city</th>\n",
              "      <th>geoNetwork.cityId</th>\n",
              "      <th>geoNetwork.continent</th>\n",
              "      <th>geoNetwork.country</th>\n",
              "      <th>geoNetwork.latitude</th>\n",
              "      <th>geoNetwork.longitude</th>\n",
              "      <th>geoNetwork.metro</th>\n",
              "      <th>geoNetwork.networkDomain</th>\n",
              "      <th>geoNetwork.networkLocation</th>\n",
              "      <th>geoNetwork.region</th>\n",
              "      <th>geoNetwork.subContinent</th>\n",
              "      <th>totals.bounces</th>\n",
              "      <th>totals.hits</th>\n",
              "      <th>totals.newVisits</th>\n",
              "      <th>totals.pageviews</th>\n",
              "      <th>totals.transactionRevenue</th>\n",
              "      <th>totals.visits</th>\n",
              "      <th>trafficSource.adContent</th>\n",
              "      <th>trafficSource.adwordsClickInfo.adNetworkType</th>\n",
              "      <th>trafficSource.adwordsClickInfo.criteriaParameters</th>\n",
              "      <th>trafficSource.adwordsClickInfo.gclId</th>\n",
              "      <th>trafficSource.adwordsClickInfo.isVideoAd</th>\n",
              "      <th>trafficSource.adwordsClickInfo.page</th>\n",
              "      <th>trafficSource.adwordsClickInfo.slot</th>\n",
              "      <th>trafficSource.campaign</th>\n",
              "      <th>trafficSource.campaignCode</th>\n",
              "      <th>trafficSource.isTrueDirect</th>\n",
              "      <th>trafficSource.keyword</th>\n",
              "      <th>trafficSource.medium</th>\n",
              "      <th>trafficSource.referralPath</th>\n",
              "      <th>trafficSource.source</th>\n",
              "      <th>sess_date_dow</th>\n",
              "      <th>sess_date_hours</th>\n",
              "      <th>sess_date_dom</th>\n",
              "    </tr>\n",
              "  </thead>\n",
              "  <tbody>\n",
              "    <tr>\n",
              "      <th>0</th>\n",
              "      <td>0</td>\n",
              "      <td>20160902</td>\n",
              "      <td>1131660440785968503</td>\n",
              "      <td>1131660440785968503_1472830385</td>\n",
              "      <td>Not Socially Engaged</td>\n",
              "      <td>1472830385</td>\n",
              "      <td>1</td>\n",
              "      <td>1472830385</td>\n",
              "      <td>0</td>\n",
              "      <td>not available in demo dataset</td>\n",
              "      <td>not available in demo dataset</td>\n",
              "      <td>0</td>\n",
              "      <td>not available in demo dataset</td>\n",
              "      <td>False</td>\n",
              "      <td>not available in demo dataset</td>\n",
              "      <td>not available in demo dataset</td>\n",
              "      <td>not available in demo dataset</td>\n",
              "      <td>not available in demo dataset</td>\n",
              "      <td>not available in demo dataset</td>\n",
              "      <td>not available in demo dataset</td>\n",
              "      <td>0</td>\n",
              "      <td>not available in demo dataset</td>\n",
              "      <td>not available in demo dataset</td>\n",
              "      <td>not available in demo dataset</td>\n",
              "      <td>0</td>\n",
              "      <td>not available in demo dataset</td>\n",
              "      <td>0</td>\n",
              "      <td>0</td>\n",
              "      <td>not available in demo dataset</td>\n",
              "      <td>not available in demo dataset</td>\n",
              "      <td>0</td>\n",
              "      <td>0</td>\n",
              "      <td>not available in demo dataset</td>\n",
              "      <td>0</td>\n",
              "      <td>0</td>\n",
              "      <td>0</td>\n",
              "      <td>0</td>\n",
              "      <td>0</td>\n",
              "      <td>0</td>\n",
              "      <td>0</td>\n",
              "      <td>1</td>\n",
              "      <td>0</td>\n",
              "      <td>0</td>\n",
              "      <td>not available in demo dataset</td>\n",
              "      <td>0</td>\n",
              "      <td>True</td>\n",
              "      <td>0</td>\n",
              "      <td>0</td>\n",
              "      <td>0</td>\n",
              "      <td>0</td>\n",
              "      <td>False</td>\n",
              "      <td>0</td>\n",
              "      <td>0</td>\n",
              "      <td>0</td>\n",
              "      <td>0</td>\n",
              "      <td>4</td>\n",
              "      <td>15</td>\n",
              "      <td>2</td>\n",
              "    </tr>\n",
              "    <tr>\n",
              "      <th>1</th>\n",
              "      <td>0</td>\n",
              "      <td>20160902</td>\n",
              "      <td>377306020877927890</td>\n",
              "      <td>377306020877927890_1472880147</td>\n",
              "      <td>Not Socially Engaged</td>\n",
              "      <td>1472880147</td>\n",
              "      <td>1</td>\n",
              "      <td>1472880147</td>\n",
              "      <td>1</td>\n",
              "      <td>not available in demo dataset</td>\n",
              "      <td>not available in demo dataset</td>\n",
              "      <td>0</td>\n",
              "      <td>not available in demo dataset</td>\n",
              "      <td>False</td>\n",
              "      <td>not available in demo dataset</td>\n",
              "      <td>not available in demo dataset</td>\n",
              "      <td>not available in demo dataset</td>\n",
              "      <td>not available in demo dataset</td>\n",
              "      <td>not available in demo dataset</td>\n",
              "      <td>not available in demo dataset</td>\n",
              "      <td>1</td>\n",
              "      <td>not available in demo dataset</td>\n",
              "      <td>not available in demo dataset</td>\n",
              "      <td>not available in demo dataset</td>\n",
              "      <td>1</td>\n",
              "      <td>not available in demo dataset</td>\n",
              "      <td>1</td>\n",
              "      <td>1</td>\n",
              "      <td>not available in demo dataset</td>\n",
              "      <td>not available in demo dataset</td>\n",
              "      <td>1</td>\n",
              "      <td>1</td>\n",
              "      <td>not available in demo dataset</td>\n",
              "      <td>1</td>\n",
              "      <td>1</td>\n",
              "      <td>0</td>\n",
              "      <td>0</td>\n",
              "      <td>0</td>\n",
              "      <td>0</td>\n",
              "      <td>0</td>\n",
              "      <td>1</td>\n",
              "      <td>0</td>\n",
              "      <td>0</td>\n",
              "      <td>not available in demo dataset</td>\n",
              "      <td>0</td>\n",
              "      <td>True</td>\n",
              "      <td>0</td>\n",
              "      <td>0</td>\n",
              "      <td>0</td>\n",
              "      <td>0</td>\n",
              "      <td>False</td>\n",
              "      <td>0</td>\n",
              "      <td>0</td>\n",
              "      <td>0</td>\n",
              "      <td>0</td>\n",
              "      <td>5</td>\n",
              "      <td>5</td>\n",
              "      <td>3</td>\n",
              "    </tr>\n",
              "    <tr>\n",
              "      <th>2</th>\n",
              "      <td>0</td>\n",
              "      <td>20160902</td>\n",
              "      <td>3895546263509774583</td>\n",
              "      <td>3895546263509774583_1472865386</td>\n",
              "      <td>Not Socially Engaged</td>\n",
              "      <td>1472865386</td>\n",
              "      <td>1</td>\n",
              "      <td>1472865386</td>\n",
              "      <td>0</td>\n",
              "      <td>not available in demo dataset</td>\n",
              "      <td>not available in demo dataset</td>\n",
              "      <td>0</td>\n",
              "      <td>not available in demo dataset</td>\n",
              "      <td>False</td>\n",
              "      <td>not available in demo dataset</td>\n",
              "      <td>not available in demo dataset</td>\n",
              "      <td>not available in demo dataset</td>\n",
              "      <td>not available in demo dataset</td>\n",
              "      <td>not available in demo dataset</td>\n",
              "      <td>not available in demo dataset</td>\n",
              "      <td>0</td>\n",
              "      <td>not available in demo dataset</td>\n",
              "      <td>not available in demo dataset</td>\n",
              "      <td>not available in demo dataset</td>\n",
              "      <td>2</td>\n",
              "      <td>not available in demo dataset</td>\n",
              "      <td>2</td>\n",
              "      <td>2</td>\n",
              "      <td>not available in demo dataset</td>\n",
              "      <td>not available in demo dataset</td>\n",
              "      <td>0</td>\n",
              "      <td>2</td>\n",
              "      <td>not available in demo dataset</td>\n",
              "      <td>2</td>\n",
              "      <td>2</td>\n",
              "      <td>0</td>\n",
              "      <td>0</td>\n",
              "      <td>0</td>\n",
              "      <td>0</td>\n",
              "      <td>0</td>\n",
              "      <td>1</td>\n",
              "      <td>0</td>\n",
              "      <td>0</td>\n",
              "      <td>not available in demo dataset</td>\n",
              "      <td>0</td>\n",
              "      <td>True</td>\n",
              "      <td>0</td>\n",
              "      <td>0</td>\n",
              "      <td>0</td>\n",
              "      <td>0</td>\n",
              "      <td>False</td>\n",
              "      <td>0</td>\n",
              "      <td>0</td>\n",
              "      <td>0</td>\n",
              "      <td>0</td>\n",
              "      <td>5</td>\n",
              "      <td>1</td>\n",
              "      <td>3</td>\n",
              "    </tr>\n",
              "    <tr>\n",
              "      <th>3</th>\n",
              "      <td>0</td>\n",
              "      <td>20160902</td>\n",
              "      <td>4763447161404445595</td>\n",
              "      <td>4763447161404445595_1472881213</td>\n",
              "      <td>Not Socially Engaged</td>\n",
              "      <td>1472881213</td>\n",
              "      <td>1</td>\n",
              "      <td>1472881213</td>\n",
              "      <td>2</td>\n",
              "      <td>not available in demo dataset</td>\n",
              "      <td>not available in demo dataset</td>\n",
              "      <td>0</td>\n",
              "      <td>not available in demo dataset</td>\n",
              "      <td>False</td>\n",
              "      <td>not available in demo dataset</td>\n",
              "      <td>not available in demo dataset</td>\n",
              "      <td>not available in demo dataset</td>\n",
              "      <td>not available in demo dataset</td>\n",
              "      <td>not available in demo dataset</td>\n",
              "      <td>not available in demo dataset</td>\n",
              "      <td>2</td>\n",
              "      <td>not available in demo dataset</td>\n",
              "      <td>not available in demo dataset</td>\n",
              "      <td>not available in demo dataset</td>\n",
              "      <td>1</td>\n",
              "      <td>not available in demo dataset</td>\n",
              "      <td>0</td>\n",
              "      <td>3</td>\n",
              "      <td>not available in demo dataset</td>\n",
              "      <td>not available in demo dataset</td>\n",
              "      <td>1</td>\n",
              "      <td>2</td>\n",
              "      <td>not available in demo dataset</td>\n",
              "      <td>1</td>\n",
              "      <td>3</td>\n",
              "      <td>0</td>\n",
              "      <td>0</td>\n",
              "      <td>0</td>\n",
              "      <td>0</td>\n",
              "      <td>0</td>\n",
              "      <td>1</td>\n",
              "      <td>0</td>\n",
              "      <td>0</td>\n",
              "      <td>not available in demo dataset</td>\n",
              "      <td>0</td>\n",
              "      <td>True</td>\n",
              "      <td>0</td>\n",
              "      <td>0</td>\n",
              "      <td>0</td>\n",
              "      <td>0</td>\n",
              "      <td>False</td>\n",
              "      <td>1</td>\n",
              "      <td>0</td>\n",
              "      <td>0</td>\n",
              "      <td>0</td>\n",
              "      <td>5</td>\n",
              "      <td>5</td>\n",
              "      <td>3</td>\n",
              "    </tr>\n",
              "    <tr>\n",
              "      <th>4</th>\n",
              "      <td>0</td>\n",
              "      <td>20160902</td>\n",
              "      <td>27294437909732085</td>\n",
              "      <td>27294437909732085_1472822600</td>\n",
              "      <td>Not Socially Engaged</td>\n",
              "      <td>1472822600</td>\n",
              "      <td>2</td>\n",
              "      <td>1472822600</td>\n",
              "      <td>0</td>\n",
              "      <td>not available in demo dataset</td>\n",
              "      <td>not available in demo dataset</td>\n",
              "      <td>1</td>\n",
              "      <td>not available in demo dataset</td>\n",
              "      <td>True</td>\n",
              "      <td>not available in demo dataset</td>\n",
              "      <td>not available in demo dataset</td>\n",
              "      <td>not available in demo dataset</td>\n",
              "      <td>not available in demo dataset</td>\n",
              "      <td>not available in demo dataset</td>\n",
              "      <td>not available in demo dataset</td>\n",
              "      <td>3</td>\n",
              "      <td>not available in demo dataset</td>\n",
              "      <td>not available in demo dataset</td>\n",
              "      <td>not available in demo dataset</td>\n",
              "      <td>1</td>\n",
              "      <td>not available in demo dataset</td>\n",
              "      <td>2</td>\n",
              "      <td>4</td>\n",
              "      <td>not available in demo dataset</td>\n",
              "      <td>not available in demo dataset</td>\n",
              "      <td>1</td>\n",
              "      <td>2</td>\n",
              "      <td>not available in demo dataset</td>\n",
              "      <td>1</td>\n",
              "      <td>4</td>\n",
              "      <td>0</td>\n",
              "      <td>0</td>\n",
              "      <td>1</td>\n",
              "      <td>0</td>\n",
              "      <td>0</td>\n",
              "      <td>1</td>\n",
              "      <td>0</td>\n",
              "      <td>0</td>\n",
              "      <td>not available in demo dataset</td>\n",
              "      <td>0</td>\n",
              "      <td>True</td>\n",
              "      <td>0</td>\n",
              "      <td>0</td>\n",
              "      <td>0</td>\n",
              "      <td>0</td>\n",
              "      <td>True</td>\n",
              "      <td>0</td>\n",
              "      <td>0</td>\n",
              "      <td>0</td>\n",
              "      <td>0</td>\n",
              "      <td>4</td>\n",
              "      <td>13</td>\n",
              "      <td>2</td>\n",
              "    </tr>\n",
              "    <tr>\n",
              "      <th>5</th>\n",
              "      <td>0</td>\n",
              "      <td>20160902</td>\n",
              "      <td>2938943183656635653</td>\n",
              "      <td>2938943183656635653_1472807194</td>\n",
              "      <td>Not Socially Engaged</td>\n",
              "      <td>1472807194</td>\n",
              "      <td>1</td>\n",
              "      <td>1472807194</td>\n",
              "      <td>0</td>\n",
              "      <td>not available in demo dataset</td>\n",
              "      <td>not available in demo dataset</td>\n",
              "      <td>0</td>\n",
              "      <td>not available in demo dataset</td>\n",
              "      <td>False</td>\n",
              "      <td>not available in demo dataset</td>\n",
              "      <td>not available in demo dataset</td>\n",
              "      <td>not available in demo dataset</td>\n",
              "      <td>not available in demo dataset</td>\n",
              "      <td>not available in demo dataset</td>\n",
              "      <td>not available in demo dataset</td>\n",
              "      <td>0</td>\n",
              "      <td>not available in demo dataset</td>\n",
              "      <td>not available in demo dataset</td>\n",
              "      <td>not available in demo dataset</td>\n",
              "      <td>1</td>\n",
              "      <td>not available in demo dataset</td>\n",
              "      <td>2</td>\n",
              "      <td>5</td>\n",
              "      <td>not available in demo dataset</td>\n",
              "      <td>not available in demo dataset</td>\n",
              "      <td>1</td>\n",
              "      <td>3</td>\n",
              "      <td>not available in demo dataset</td>\n",
              "      <td>1</td>\n",
              "      <td>2</td>\n",
              "      <td>0</td>\n",
              "      <td>0</td>\n",
              "      <td>0</td>\n",
              "      <td>0</td>\n",
              "      <td>0</td>\n",
              "      <td>1</td>\n",
              "      <td>0</td>\n",
              "      <td>0</td>\n",
              "      <td>not available in demo dataset</td>\n",
              "      <td>0</td>\n",
              "      <td>True</td>\n",
              "      <td>0</td>\n",
              "      <td>0</td>\n",
              "      <td>0</td>\n",
              "      <td>0</td>\n",
              "      <td>False</td>\n",
              "      <td>0</td>\n",
              "      <td>0</td>\n",
              "      <td>0</td>\n",
              "      <td>0</td>\n",
              "      <td>4</td>\n",
              "      <td>9</td>\n",
              "      <td>2</td>\n",
              "    </tr>\n",
              "    <tr>\n",
              "      <th>6</th>\n",
              "      <td>0</td>\n",
              "      <td>20160902</td>\n",
              "      <td>1905672039242460897</td>\n",
              "      <td>1905672039242460897_1472817241</td>\n",
              "      <td>Not Socially Engaged</td>\n",
              "      <td>1472817241</td>\n",
              "      <td>1</td>\n",
              "      <td>1472817241</td>\n",
              "      <td>0</td>\n",
              "      <td>not available in demo dataset</td>\n",
              "      <td>not available in demo dataset</td>\n",
              "      <td>0</td>\n",
              "      <td>not available in demo dataset</td>\n",
              "      <td>False</td>\n",
              "      <td>not available in demo dataset</td>\n",
              "      <td>not available in demo dataset</td>\n",
              "      <td>not available in demo dataset</td>\n",
              "      <td>not available in demo dataset</td>\n",
              "      <td>not available in demo dataset</td>\n",
              "      <td>not available in demo dataset</td>\n",
              "      <td>0</td>\n",
              "      <td>not available in demo dataset</td>\n",
              "      <td>not available in demo dataset</td>\n",
              "      <td>not available in demo dataset</td>\n",
              "      <td>1</td>\n",
              "      <td>not available in demo dataset</td>\n",
              "      <td>0</td>\n",
              "      <td>6</td>\n",
              "      <td>not available in demo dataset</td>\n",
              "      <td>not available in demo dataset</td>\n",
              "      <td>1</td>\n",
              "      <td>2</td>\n",
              "      <td>not available in demo dataset</td>\n",
              "      <td>1</td>\n",
              "      <td>5</td>\n",
              "      <td>0</td>\n",
              "      <td>0</td>\n",
              "      <td>0</td>\n",
              "      <td>0</td>\n",
              "      <td>0</td>\n",
              "      <td>1</td>\n",
              "      <td>0</td>\n",
              "      <td>0</td>\n",
              "      <td>not available in demo dataset</td>\n",
              "      <td>0</td>\n",
              "      <td>True</td>\n",
              "      <td>0</td>\n",
              "      <td>0</td>\n",
              "      <td>0</td>\n",
              "      <td>0</td>\n",
              "      <td>False</td>\n",
              "      <td>0</td>\n",
              "      <td>0</td>\n",
              "      <td>0</td>\n",
              "      <td>0</td>\n",
              "      <td>4</td>\n",
              "      <td>11</td>\n",
              "      <td>2</td>\n",
              "    </tr>\n",
              "    <tr>\n",
              "      <th>7</th>\n",
              "      <td>0</td>\n",
              "      <td>20160902</td>\n",
              "      <td>537222803633850821</td>\n",
              "      <td>537222803633850821_1472812602</td>\n",
              "      <td>Not Socially Engaged</td>\n",
              "      <td>1472812602</td>\n",
              "      <td>1</td>\n",
              "      <td>1472812602</td>\n",
              "      <td>0</td>\n",
              "      <td>not available in demo dataset</td>\n",
              "      <td>not available in demo dataset</td>\n",
              "      <td>0</td>\n",
              "      <td>not available in demo dataset</td>\n",
              "      <td>False</td>\n",
              "      <td>not available in demo dataset</td>\n",
              "      <td>not available in demo dataset</td>\n",
              "      <td>not available in demo dataset</td>\n",
              "      <td>not available in demo dataset</td>\n",
              "      <td>not available in demo dataset</td>\n",
              "      <td>not available in demo dataset</td>\n",
              "      <td>0</td>\n",
              "      <td>not available in demo dataset</td>\n",
              "      <td>not available in demo dataset</td>\n",
              "      <td>not available in demo dataset</td>\n",
              "      <td>3</td>\n",
              "      <td>not available in demo dataset</td>\n",
              "      <td>1</td>\n",
              "      <td>1</td>\n",
              "      <td>not available in demo dataset</td>\n",
              "      <td>not available in demo dataset</td>\n",
              "      <td>0</td>\n",
              "      <td>4</td>\n",
              "      <td>not available in demo dataset</td>\n",
              "      <td>3</td>\n",
              "      <td>1</td>\n",
              "      <td>0</td>\n",
              "      <td>0</td>\n",
              "      <td>0</td>\n",
              "      <td>0</td>\n",
              "      <td>0</td>\n",
              "      <td>1</td>\n",
              "      <td>0</td>\n",
              "      <td>0</td>\n",
              "      <td>not available in demo dataset</td>\n",
              "      <td>0</td>\n",
              "      <td>True</td>\n",
              "      <td>0</td>\n",
              "      <td>0</td>\n",
              "      <td>0</td>\n",
              "      <td>0</td>\n",
              "      <td>False</td>\n",
              "      <td>0</td>\n",
              "      <td>0</td>\n",
              "      <td>0</td>\n",
              "      <td>0</td>\n",
              "      <td>4</td>\n",
              "      <td>10</td>\n",
              "      <td>2</td>\n",
              "    </tr>\n",
              "    <tr>\n",
              "      <th>8</th>\n",
              "      <td>0</td>\n",
              "      <td>20160902</td>\n",
              "      <td>4445454811831400414</td>\n",
              "      <td>4445454811831400414_1472805784</td>\n",
              "      <td>Not Socially Engaged</td>\n",
              "      <td>1472805784</td>\n",
              "      <td>1</td>\n",
              "      <td>1472805784</td>\n",
              "      <td>3</td>\n",
              "      <td>not available in demo dataset</td>\n",
              "      <td>not available in demo dataset</td>\n",
              "      <td>0</td>\n",
              "      <td>not available in demo dataset</td>\n",
              "      <td>False</td>\n",
              "      <td>not available in demo dataset</td>\n",
              "      <td>not available in demo dataset</td>\n",
              "      <td>not available in demo dataset</td>\n",
              "      <td>not available in demo dataset</td>\n",
              "      <td>not available in demo dataset</td>\n",
              "      <td>not available in demo dataset</td>\n",
              "      <td>0</td>\n",
              "      <td>not available in demo dataset</td>\n",
              "      <td>not available in demo dataset</td>\n",
              "      <td>not available in demo dataset</td>\n",
              "      <td>1</td>\n",
              "      <td>not available in demo dataset</td>\n",
              "      <td>2</td>\n",
              "      <td>7</td>\n",
              "      <td>not available in demo dataset</td>\n",
              "      <td>not available in demo dataset</td>\n",
              "      <td>1</td>\n",
              "      <td>5</td>\n",
              "      <td>not available in demo dataset</td>\n",
              "      <td>1</td>\n",
              "      <td>6</td>\n",
              "      <td>0</td>\n",
              "      <td>0</td>\n",
              "      <td>0</td>\n",
              "      <td>0</td>\n",
              "      <td>0</td>\n",
              "      <td>1</td>\n",
              "      <td>0</td>\n",
              "      <td>0</td>\n",
              "      <td>not available in demo dataset</td>\n",
              "      <td>0</td>\n",
              "      <td>True</td>\n",
              "      <td>0</td>\n",
              "      <td>0</td>\n",
              "      <td>0</td>\n",
              "      <td>0</td>\n",
              "      <td>False</td>\n",
              "      <td>0</td>\n",
              "      <td>0</td>\n",
              "      <td>0</td>\n",
              "      <td>0</td>\n",
              "      <td>4</td>\n",
              "      <td>8</td>\n",
              "      <td>2</td>\n",
              "    </tr>\n",
              "    <tr>\n",
              "      <th>9</th>\n",
              "      <td>0</td>\n",
              "      <td>20160902</td>\n",
              "      <td>9499785259412240342</td>\n",
              "      <td>9499785259412240342_1472812272</td>\n",
              "      <td>Not Socially Engaged</td>\n",
              "      <td>1472812272</td>\n",
              "      <td>1</td>\n",
              "      <td>1472812272</td>\n",
              "      <td>1</td>\n",
              "      <td>not available in demo dataset</td>\n",
              "      <td>not available in demo dataset</td>\n",
              "      <td>0</td>\n",
              "      <td>not available in demo dataset</td>\n",
              "      <td>False</td>\n",
              "      <td>not available in demo dataset</td>\n",
              "      <td>not available in demo dataset</td>\n",
              "      <td>not available in demo dataset</td>\n",
              "      <td>not available in demo dataset</td>\n",
              "      <td>not available in demo dataset</td>\n",
              "      <td>not available in demo dataset</td>\n",
              "      <td>0</td>\n",
              "      <td>not available in demo dataset</td>\n",
              "      <td>not available in demo dataset</td>\n",
              "      <td>not available in demo dataset</td>\n",
              "      <td>1</td>\n",
              "      <td>not available in demo dataset</td>\n",
              "      <td>2</td>\n",
              "      <td>8</td>\n",
              "      <td>not available in demo dataset</td>\n",
              "      <td>not available in demo dataset</td>\n",
              "      <td>1</td>\n",
              "      <td>6</td>\n",
              "      <td>not available in demo dataset</td>\n",
              "      <td>1</td>\n",
              "      <td>6</td>\n",
              "      <td>0</td>\n",
              "      <td>0</td>\n",
              "      <td>0</td>\n",
              "      <td>0</td>\n",
              "      <td>0</td>\n",
              "      <td>1</td>\n",
              "      <td>0</td>\n",
              "      <td>0</td>\n",
              "      <td>not available in demo dataset</td>\n",
              "      <td>0</td>\n",
              "      <td>True</td>\n",
              "      <td>0</td>\n",
              "      <td>0</td>\n",
              "      <td>0</td>\n",
              "      <td>0</td>\n",
              "      <td>False</td>\n",
              "      <td>0</td>\n",
              "      <td>0</td>\n",
              "      <td>0</td>\n",
              "      <td>0</td>\n",
              "      <td>4</td>\n",
              "      <td>10</td>\n",
              "      <td>2</td>\n",
              "    </tr>\n",
              "  </tbody>\n",
              "</table>\n",
              "</div>"
            ]
          },
          "metadata": {
            "tags": []
          },
          "execution_count": 36
        }
      ]
    },
    {
      "metadata": {
        "_uuid": "37d9cd291d49b44cd1e22fe59f81758e317ae352",
        "id": "bk0P6J_aEa_Z",
        "colab_type": "text"
      },
      "cell_type": "markdown",
      "source": [
        "**Build Models**"
      ]
    },
    {
      "metadata": {
        "_uuid": "4610501c0e7787b75bb2705db69222f2dd41262e",
        "id": "BeOUIyEQEa_Z",
        "colab_type": "text"
      },
      "cell_type": "markdown",
      "source": [
        "**Classify non-zero revenues**\n",
        "\n",
        "There are only 1.3% of the sessions have a non-zero revenue. Thus, we first CLASSIFY session, and then using regression on non-zero set."
      ]
    },
    {
      "metadata": {
        "trusted": true,
        "_uuid": "e6b4172679d2e7340b00c16f70e273f334050de0",
        "id": "CTFBmk3hEa_c",
        "colab_type": "code",
        "colab": {}
      },
      "cell_type": "code",
      "source": [
        "train_df = train_origin.copy()\n",
        "test_df = test_origin.copy()"
      ],
      "execution_count": 0,
      "outputs": []
    },
    {
      "metadata": {
        "trusted": true,
        "_uuid": "70829881b0cd0e6499747b009807c4af661cb06d",
        "id": "4tIP1TwUEa_h",
        "colab_type": "code",
        "colab": {}
      },
      "cell_type": "code",
      "source": [
        "from sklearn.model_selection import train_test_split\n",
        "x = train_df[columns]\n",
        "y = train_df[\"totals.transactionRevenue\"]\n",
        "x_train, x_valid, y_train, y_valid = train_test_split(x, y, test_size=0.2, random_state=42)"
      ],
      "execution_count": 0,
      "outputs": []
    },
    {
      "metadata": {
        "trusted": true,
        "_uuid": "5674f27d383837f719d2bcf01696b6ad178e5fc7",
        "id": "5vA3yad1Ea_l",
        "colab_type": "code",
        "colab": {},
        "outputId": "bcd96ada-374f-459f-eca5-afddd4846832"
      },
      "cell_type": "code",
      "source": [
        "y_valid[y_valid > 0].shape, y_train[y_train > 0].shape"
      ],
      "execution_count": 0,
      "outputs": [
        {
          "output_type": "execute_result",
          "data": {
            "text/plain": [
              "((2271,), (9244,))"
            ]
          },
          "metadata": {
            "tags": []
          },
          "execution_count": 39
        }
      ]
    },
    {
      "metadata": {
        "trusted": true,
        "_uuid": "ef4eb0d2ab81e9ce86ada18406e710310b04eb71",
        "id": "wk2myLowEa_p",
        "colab_type": "code",
        "colab": {}
      },
      "cell_type": "code",
      "source": [
        "# Transfer target into format of [0, 1]\n",
        "y_train01 = y_train.copy()\n",
        "y_train01[y_train01 > 0] = 1\n",
        "\n",
        "y_valid01 = y_valid.copy()\n",
        "y_valid01[y_valid01 > 0] = 1"
      ],
      "execution_count": 0,
      "outputs": []
    },
    {
      "metadata": {
        "trusted": true,
        "_uuid": "e1f5d1ce5283acdf8f26316d4f9cdd16b79a708d",
        "id": "RFnIdpJ3Ea_s",
        "colab_type": "code",
        "colab": {},
        "outputId": "2a91f5b2-7450-45d2-c56c-4998c9a9183d"
      },
      "cell_type": "code",
      "source": [
        "# Ratio of classification 0, 1\n",
        "y_train01.value_counts() / y_train01.shape[0]"
      ],
      "execution_count": 0,
      "outputs": [
        {
          "output_type": "execute_result",
          "data": {
            "text/plain": [
              "0    0.987213\n",
              "1    0.012787\n",
              "Name: totals.transactionRevenue, dtype: float64"
            ]
          },
          "metadata": {
            "tags": []
          },
          "execution_count": 41
        }
      ]
    },
    {
      "metadata": {
        "_uuid": "62245a8fa3cdb81be4fd0bcbdd0d4218ee5fae27",
        "id": "vaFZcIkhEa_w",
        "colab_type": "text"
      },
      "cell_type": "markdown",
      "source": [
        "**Visualize data distribution using PCA**"
      ]
    },
    {
      "metadata": {
        "trusted": true,
        "_uuid": "46a92ad7eaf00f570d03daeb75bd7686f25812d1",
        "id": "5Arj6qIqEa_w",
        "colab_type": "code",
        "colab": {},
        "outputId": "f3930bbd-6c13-48b0-a43d-2416c9114ffd"
      },
      "cell_type": "code",
      "source": [
        "from sklearn.decomposition import PCA\n",
        "pca = PCA(n_components = 2).fit(x)\n",
        "X_reduced = pca.transform(x)\n",
        "\n",
        "yy = y.copy()\n",
        "yy[yy>0] = 1\n",
        "\n",
        "plt.clf()\n",
        "fig, ax = plt.subplots()\n",
        "\n",
        "# Plot the training points\n",
        "labels = ['0','1']\n",
        "colors = ['white','red']\n",
        "for i in range(2):   \n",
        "    ax.scatter(X_reduced[yy==i, 0], X_reduced[yy==i, 1], c=colors[i],label = labels[i],cmap=plt.cm.Set1,s=40,\n",
        "                edgecolor=None,alpha=0.3)\n",
        "\n",
        "\n",
        "plt.title(\"First two PCA directions\")\n",
        "plt.xlabel(\"1st PC\")\n",
        "plt.ylabel(\"2nd PC\")\n",
        "ax.legend()\n",
        "plt.xticks(())\n",
        "plt.yticks(())"
      ],
      "execution_count": 0,
      "outputs": [
        {
          "output_type": "execute_result",
          "data": {
            "text/plain": [
              "([], <a list of 0 Text yticklabel objects>)"
            ]
          },
          "metadata": {
            "tags": []
          },
          "execution_count": 42
        },
        {
          "output_type": "display_data",
          "data": {
            "text/plain": [
              "<Figure size 432x288 with 0 Axes>"
            ]
          },
          "metadata": {
            "tags": []
          }
        },
        {
          "output_type": "display_data",
          "data": {
            "text/plain": [
              "<Figure size 432x288 with 1 Axes>"
            ],
            "image/png": "[encoded data removed]"
          },
          "metadata": {
            "tags": []
          }
        }
      ]
    },
    {
      "metadata": {
        "_uuid": "0f4c71e8e5f13f5f01cfe2863006aadbb1d919ba",
        "id": "kKszHa7hEa_0",
        "colab_type": "text"
      },
      "cell_type": "markdown",
      "source": [
        "**XGBoost Classifier**\n",
        "\n",
        "*Paramters tuning:* learning rate,\n",
        "n estimators,\n",
        "min child weight,\n",
        "max delta step, booster,\n",
        "seed"
      ]
    },
    {
      "metadata": {
        "trusted": true,
        "_uuid": "ad5a5f2da1e5ab265a1ca3d5d6c94b81baca6efd",
        "id": "N7p8-Ai7Ea_1",
        "colab_type": "code",
        "colab": {}
      },
      "cell_type": "code",
      "source": [
        "from xgboost import XGBClassifier\n",
        "from sklearn.model_selection import GridSearchCV\n",
        "\n",
        "xgb = XGBClassifier()\n",
        "xgb_param = {'n_estimators':[100, 500, 1000]}\n",
        "\n",
        "clf = GridSearchCV(xgb, xgb_param, cv=5, verbose=True, scoring='f1')\n",
        "clf.fit(x_train,y_train01)"
      ],
      "execution_count": 0,
      "outputs": []
    },
    {
      "metadata": {
        "trusted": true,
        "_uuid": "80dd4b9094a629acd85880fb120e09c39ccd53f9",
        "id": "5xV9KyDfEa_3",
        "colab_type": "code",
        "colab": {}
      },
      "cell_type": "code",
      "source": [
        "clf.best_estimator_"
      ],
      "execution_count": 0,
      "outputs": []
    },
    {
      "metadata": {
        "trusted": true,
        "_uuid": "0d691de7cc08e3a84f34966a16d4ed2e11db9b47",
        "id": "jaePNB3kEa_6",
        "colab_type": "code",
        "colab": {}
      },
      "cell_type": "code",
      "source": [
        "y_pred = clf.predict(x_train)\n",
        "y_pred_valid = clf.predict(x_valid)\n",
        "print(\"f1 score:\")\n",
        "print(\"Train data: \" + str(f1_score(y_train01, y_pred)))\n",
        "print(\"Test data: \" + str(f1_score(y_valid01, y_pred_valid)))\n",
        "\n",
        "print()\n",
        "print(\"Accuracy Score:\")\n",
        "print(\"Train data: \" + str(accuracy_score(y_train01, y_pred)))\n",
        "print(\"Test data: \" + str(accuracy_score(y_valid01, y_pred_valid)))\n",
        "print()\n",
        "\n",
        "print(\"ROC AUC Score:\")\n",
        "print(\"Train data: \" + str(roc_auc_score(y_train01, y_pred)))\n",
        "print(\"Test data: \" + str(roc_auc_score(y_valid01, y_pred_valid)))\n",
        "print()\n",
        "\n",
        "#Confusion Matrix\n",
        "print(\"Confusion Matrix\")\n",
        "y_actual = pd.Series(y_valid01, name='Actual')\n",
        "y_predict = pd.Series(y_pred_valid, name='Predicted')\n",
        "df_confusion = pd.crosstab(y_actual, y_predict)\n",
        "print(df_confusion)\n",
        "\n",
        "plt.figure(figsize=(15, 15), dpi=80, facecolor='w', edgecolor='k')\n",
        "plt.matshow(df_confusion, cmap='viridis')\n",
        "plt.title('Confusion matrix')\n",
        "plt.colorbar()\n",
        "tick_marks = np.arange(len(df_confusion.columns))\n",
        "plt.xticks(tick_marks, df_confusion.columns, rotation=45)\n",
        "plt.yticks(tick_marks, df_confusion.index)\n",
        "plt.ylabel(df_confusion.index.name)\n",
        "plt.xlabel(df_confusion.columns.name)"
      ],
      "execution_count": 0,
      "outputs": []
    },
    {
      "metadata": {
        "trusted": true,
        "_uuid": "db19bf7d26617fcf200af7ec65661e0a242fa100",
        "id": "T2O0fSU3EbAA",
        "colab_type": "code",
        "colab": {}
      },
      "cell_type": "code",
      "source": [
        "# Predict test\n",
        "y_submit_xgb = clf.predict(test_df[columns])\n",
        "y_submit_xgb[y_submit_xgb > 0] = 10272.0\n",
        "pd.Series(y_submit_xgb).value_counts()"
      ],
      "execution_count": 0,
      "outputs": []
    },
    {
      "metadata": {
        "trusted": true,
        "scrolled": true,
        "_uuid": "67754262dfaf38cd3d189e9b2a3e4acce6ff09ac",
        "id": "g5TkDuJiEbAE",
        "colab_type": "code",
        "colab": {}
      },
      "cell_type": "code",
      "source": [
        "# Prediction\n",
        "y_submit = clf.predict(test_df[columns])"
      ],
      "execution_count": 0,
      "outputs": []
    },
    {
      "metadata": {
        "trusted": true,
        "scrolled": true,
        "_uuid": "929faae90d58d7cc53620215c07431d609c6b73c",
        "id": "JCe--TQSEbAI",
        "colab_type": "code",
        "colab": {}
      },
      "cell_type": "code",
      "source": [
        "#Predicted revenue per customer\n",
        "submission = test_origin[['fullVisitorId']].copy()\n",
        "submission.loc[:, 'PredictedLogRevenue'] = y_submit\n",
        "grouped_test_RF = submission[['fullVisitorId', 'PredictedLogRevenue']].groupby('fullVisitorId').sum().reset_index()\n",
        "grouped_test_RF[\"PredictedLogRevenue\"] = np.log1p(grouped_test_RF[\"PredictedLogRevenue\"])\n",
        "print(grouped_test_RF)"
      ],
      "execution_count": 0,
      "outputs": []
    },
    {
      "metadata": {
        "_uuid": "e19b447007732957974708b3139e4046f13af701",
        "id": "2bKdOT_9EbAN",
        "colab_type": "text"
      },
      "cell_type": "markdown",
      "source": [
        "**Random Forest**\n",
        "\n",
        "*Tuning paramters*\n",
        "n_estimators,\n",
        "criterion,\n",
        "max_depth,\n",
        "max_features,\n",
        "min_samples_split,\n",
        "min_samples_leaf"
      ]
    },
    {
      "metadata": {
        "trusted": true,
        "_uuid": "e890baf57ab2ad68a29bac4c0d5529cb2543d7c6",
        "id": "bwFbGsUSEbAN",
        "colab_type": "code",
        "colab": {}
      },
      "cell_type": "code",
      "source": [
        "from sklearn.model_selection import GridSearchCV\n",
        "rf = RandomForestClassifier()\n",
        "rf_param = {'n_estimators':[100, 500, 1000]}\n",
        "\n",
        "clf_rf = GridSearchCV(rf,rf_param,cv=5,verbose=True,scoring='f1')\n",
        "clf_rf.fit(x_train,y_train01)"
      ],
      "execution_count": 0,
      "outputs": []
    },
    {
      "metadata": {
        "trusted": true,
        "_uuid": "dcfca29415001fff4b2869f1a93867052883800a",
        "id": "aP9t_MEuEbAP",
        "colab_type": "code",
        "colab": {}
      },
      "cell_type": "code",
      "source": [
        "clf_rf.best_estimator_"
      ],
      "execution_count": 0,
      "outputs": []
    },
    {
      "metadata": {
        "trusted": true,
        "_uuid": "dab8f652a9ef436273df6aee70e907935ba7e889",
        "id": "Stf5-lmNEbAR",
        "colab_type": "code",
        "colab": {}
      },
      "cell_type": "code",
      "source": [
        "y_pred = clf_rf.predict(x_train)\n",
        "y_pred_valid = clf_rf.predict(x_valid)\n",
        "\n",
        "print(\"f1 score:\")\n",
        "print(\"Train data: \" + str(f1_score(y_train01, y_pred)))\n",
        "print(\"Test data: \" + str(f1_score(y_valid01, y_pred_valid)))\n",
        "\n",
        "print()\n",
        "print(\"Accuracy Score:\")\n",
        "print(\"Train data: \" + str(accuracy_score(y_train01, y_pred)))\n",
        "print(\"Test data: \" + str(accuracy_score(y_valid01, y_pred_valid)))\n",
        "print()\n",
        "\n",
        "print(\"ROC AUC Score:\")\n",
        "print(\"Train data: \" + str(roc_auc_score(y_train01, y_pred)))\n",
        "print(\"Test data: \" + str(roc_auc_score(y_valid01, y_pred_valid)))\n",
        "print()\n",
        "\n",
        "#Confusion Matrix\n",
        "print(\"Confusion Matrix\")\n",
        "y_actual = pd.Series(y_valid01, name='Actual')\n",
        "y_predict = pd.Series(y_pred_valid, name='Predicted')\n",
        "df_confusion = pd.crosstab(y_actual, y_predict)\n",
        "print(df_confusion)\n",
        "\n",
        "plt.figure(figsize=(15, 15), dpi=80, facecolor='w', edgecolor='k')\n",
        "plt.matshow(df_confusion, cmap='viridis')\n",
        "plt.title('Confusion matrix')\n",
        "plt.colorbar()\n",
        "tick_marks = np.arange(len(df_confusion.columns))\n",
        "plt.xticks(tick_marks, df_confusion.columns, rotation=45)\n",
        "plt.yticks(tick_marks, df_confusion.index)\n",
        "plt.ylabel(df_confusion.index.name)\n",
        "plt.xlabel(df_confusion.columns.name)"
      ],
      "execution_count": 0,
      "outputs": []
    },
    {
      "metadata": {
        "trusted": true,
        "_uuid": "aeb4a0a37a4ff4c42aa7ab86bade10d4e6ef8258",
        "id": "ACws2WKLEbAU",
        "colab_type": "code",
        "colab": {}
      },
      "cell_type": "code",
      "source": [
        "# Predict test\n",
        "y_submit_rf = clf_rf.predict(test_df[columns])\n",
        "y_submit_rf[y_submit_rf > 0] = 10272.0\n",
        "pd.Series(y_submit_rf).value_counts()"
      ],
      "execution_count": 0,
      "outputs": []
    },
    {
      "metadata": {
        "trusted": true,
        "_uuid": "53370ccceb51ddc24caff6b08e9696071a8fa3ac",
        "id": "plQZoo97EbAV",
        "colab_type": "code",
        "colab": {}
      },
      "cell_type": "code",
      "source": [
        "# Prediction\n",
        "y_submit = clf_rf.predict(test_df[columns])"
      ],
      "execution_count": 0,
      "outputs": []
    },
    {
      "metadata": {
        "trusted": true,
        "_uuid": "7353b46be828643c9573ced1e6356e445696086d",
        "id": "b7_4z9RMEbAX",
        "colab_type": "code",
        "colab": {}
      },
      "cell_type": "code",
      "source": [
        "#Predicted Revenue per customer output\n",
        "submission = test_origin[['fullVisitorId']].copy()\n",
        "submission.loc[:, 'PredictedLogRevenue'] = y_submit\n",
        "grouped_test_RF = submission[['fullVisitorId', 'PredictedLogRevenue']].groupby('fullVisitorId').sum().reset_index()\n",
        "grouped_test_RF[\"PredictedLogRevenue\"] = np.log1p(grouped_test_RF[\"PredictedLogRevenue\"])\n",
        "print(grouped_test_RF)"
      ],
      "execution_count": 0,
      "outputs": []
    },
    {
      "metadata": {
        "_uuid": "ec7a2637ac8ba6437238367b9497f09ec6093155",
        "id": "InHHXJQsEbAZ",
        "colab_type": "text"
      },
      "cell_type": "markdown",
      "source": [
        "**Ensemble learning of classifiers RF + XGB**"
      ]
    },
    {
      "metadata": {
        "trusted": true,
        "_uuid": "403f38643e3e4ed21130702dc365ff5954c6ea8b",
        "id": "Mw_2gq5VEbAZ",
        "colab_type": "code",
        "colab": {}
      },
      "cell_type": "code",
      "source": [
        "y_combination = (y_submit_rf + y_submit_xgb) / 2"
      ],
      "execution_count": 0,
      "outputs": []
    },
    {
      "metadata": {
        "trusted": true,
        "_uuid": "0bdabe9dd12d95dfcded2466783500b209b8bb4b",
        "id": "YJO6_nCcEbAc",
        "colab_type": "code",
        "colab": {}
      },
      "cell_type": "code",
      "source": [
        "print(\"Confusion Matrix\")\n",
        "y_actual = pd.Series(y_valid01, name='Actual')\n",
        "y_predict = pd.Series(y_combination, name='Predicted')\n",
        "df_confusion = pd.crosstab(y_actual, y_predict)\n",
        "print(df_confusion)\n",
        "\n",
        "plt.figure(figsize=(15, 15), dpi=80, facecolor='w', edgecolor='k')\n",
        "plt.matshow(df_confusion, cmap='viridis')\n",
        "plt.title('Confusion matrix')\n",
        "plt.colorbar()\n",
        "tick_marks = np.arange(len(df_confusion.columns))\n",
        "plt.xticks(tick_marks, df_confusion.columns, rotation=45)\n",
        "plt.yticks(tick_marks, df_confusion.index)\n",
        "plt.ylabel(df_confusion.index.name)\n",
        "plt.xlabel(df_confusion.columns.name)"
      ],
      "execution_count": 0,
      "outputs": []
    },
    {
      "metadata": {
        "trusted": true,
        "_uuid": "0d704ff797f5fc034dd9c03bd5d517caaec41651",
        "id": "UL_sudc6EbAe",
        "colab_type": "code",
        "colab": {}
      },
      "cell_type": "code",
      "source": [
        "#Predicted revenue per customer\n",
        "submission = test_origin[['fullVisitorId']].copy()\n",
        "submission.loc[:, 'PredictedLogRevenue'] = y_combination\n",
        "grouped_test_RF = submission[['fullVisitorId', 'PredictedLogRevenue']].groupby('fullVisitorId').sum().reset_index()\n",
        "grouped_test_RF[\"PredictedLogRevenue\"] = np.log1p(grouped_test_RF[\"PredictedLogRevenue\"])\n",
        "grouped_test_RF.to_csv('submit_Clf.csv',index=False)\n",
        "print(grouped_test_RF)"
      ],
      "execution_count": 0,
      "outputs": []
    },
    {
      "metadata": {
        "_uuid": "ee561b24dd5fe93f99710cba7e935ea4793bd4fa",
        "id": "NPzl29eDEbAf",
        "colab_type": "text"
      },
      "cell_type": "markdown",
      "source": [
        "**Predict revenues for non-zero**"
      ]
    },
    {
      "metadata": {
        "trusted": true,
        "_uuid": "249689bb7ac12cdf77043d05fb22cc76e7cdf35d",
        "id": "SyuxVePEEbAg",
        "colab_type": "code",
        "colab": {},
        "outputId": "c2811f6e-ab49-4114-9fb2-4de07e2b4c99"
      },
      "cell_type": "code",
      "source": [
        "train_origin[columns].head()"
      ],
      "execution_count": 0,
      "outputs": [
        {
          "output_type": "execute_result",
          "data": {
            "text/plain": [
              "   channelGrouping      ...        sess_date_dom\n",
              "0                0      ...                    2\n",
              "1                0      ...                    3\n",
              "2                0      ...                    3\n",
              "3                0      ...                    3\n",
              "4                0      ...                    2\n",
              "\n",
              "[5 rows x 31 columns]"
            ],
            "text/html": [
              "<div>\n",
              "<style scoped>\n",
              "    .dataframe tbody tr th:only-of-type {\n",
              "        vertical-align: middle;\n",
              "    }\n",
              "\n",
              "    .dataframe tbody tr th {\n",
              "        vertical-align: top;\n",
              "    }\n",
              "\n",
              "    .dataframe thead th {\n",
              "        text-align: right;\n",
              "    }\n",
              "</style>\n",
              "<table border=\"1\" class=\"dataframe\">\n",
              "  <thead>\n",
              "    <tr style=\"text-align: right;\">\n",
              "      <th></th>\n",
              "      <th>channelGrouping</th>\n",
              "      <th>device.browser</th>\n",
              "      <th>device.deviceCategory</th>\n",
              "      <th>device.isMobile</th>\n",
              "      <th>device.operatingSystem</th>\n",
              "      <th>geoNetwork.city</th>\n",
              "      <th>geoNetwork.continent</th>\n",
              "      <th>geoNetwork.country</th>\n",
              "      <th>geoNetwork.metro</th>\n",
              "      <th>geoNetwork.networkDomain</th>\n",
              "      <th>geoNetwork.region</th>\n",
              "      <th>geoNetwork.subContinent</th>\n",
              "      <th>totals.bounces</th>\n",
              "      <th>totals.hits</th>\n",
              "      <th>totals.newVisits</th>\n",
              "      <th>totals.pageviews</th>\n",
              "      <th>trafficSource.adContent</th>\n",
              "      <th>trafficSource.adwordsClickInfo.adNetworkType</th>\n",
              "      <th>trafficSource.adwordsClickInfo.gclId</th>\n",
              "      <th>trafficSource.adwordsClickInfo.isVideoAd</th>\n",
              "      <th>trafficSource.adwordsClickInfo.page</th>\n",
              "      <th>trafficSource.adwordsClickInfo.slot</th>\n",
              "      <th>trafficSource.campaign</th>\n",
              "      <th>trafficSource.isTrueDirect</th>\n",
              "      <th>trafficSource.keyword</th>\n",
              "      <th>trafficSource.medium</th>\n",
              "      <th>trafficSource.referralPath</th>\n",
              "      <th>trafficSource.source</th>\n",
              "      <th>sess_date_dow</th>\n",
              "      <th>sess_date_hours</th>\n",
              "      <th>sess_date_dom</th>\n",
              "    </tr>\n",
              "  </thead>\n",
              "  <tbody>\n",
              "    <tr>\n",
              "      <th>0</th>\n",
              "      <td>0</td>\n",
              "      <td>0</td>\n",
              "      <td>0</td>\n",
              "      <td>False</td>\n",
              "      <td>0</td>\n",
              "      <td>0</td>\n",
              "      <td>0</td>\n",
              "      <td>0</td>\n",
              "      <td>0</td>\n",
              "      <td>0</td>\n",
              "      <td>0</td>\n",
              "      <td>0</td>\n",
              "      <td>0</td>\n",
              "      <td>0</td>\n",
              "      <td>0</td>\n",
              "      <td>0</td>\n",
              "      <td>0</td>\n",
              "      <td>0</td>\n",
              "      <td>0</td>\n",
              "      <td>True</td>\n",
              "      <td>0</td>\n",
              "      <td>0</td>\n",
              "      <td>0</td>\n",
              "      <td>False</td>\n",
              "      <td>0</td>\n",
              "      <td>0</td>\n",
              "      <td>0</td>\n",
              "      <td>0</td>\n",
              "      <td>4</td>\n",
              "      <td>15</td>\n",
              "      <td>2</td>\n",
              "    </tr>\n",
              "    <tr>\n",
              "      <th>1</th>\n",
              "      <td>0</td>\n",
              "      <td>1</td>\n",
              "      <td>0</td>\n",
              "      <td>False</td>\n",
              "      <td>1</td>\n",
              "      <td>1</td>\n",
              "      <td>1</td>\n",
              "      <td>1</td>\n",
              "      <td>1</td>\n",
              "      <td>1</td>\n",
              "      <td>1</td>\n",
              "      <td>1</td>\n",
              "      <td>0</td>\n",
              "      <td>0</td>\n",
              "      <td>0</td>\n",
              "      <td>0</td>\n",
              "      <td>0</td>\n",
              "      <td>0</td>\n",
              "      <td>0</td>\n",
              "      <td>True</td>\n",
              "      <td>0</td>\n",
              "      <td>0</td>\n",
              "      <td>0</td>\n",
              "      <td>False</td>\n",
              "      <td>0</td>\n",
              "      <td>0</td>\n",
              "      <td>0</td>\n",
              "      <td>0</td>\n",
              "      <td>5</td>\n",
              "      <td>5</td>\n",
              "      <td>3</td>\n",
              "    </tr>\n",
              "    <tr>\n",
              "      <th>2</th>\n",
              "      <td>0</td>\n",
              "      <td>0</td>\n",
              "      <td>0</td>\n",
              "      <td>False</td>\n",
              "      <td>0</td>\n",
              "      <td>2</td>\n",
              "      <td>2</td>\n",
              "      <td>2</td>\n",
              "      <td>0</td>\n",
              "      <td>2</td>\n",
              "      <td>2</td>\n",
              "      <td>2</td>\n",
              "      <td>0</td>\n",
              "      <td>0</td>\n",
              "      <td>0</td>\n",
              "      <td>0</td>\n",
              "      <td>0</td>\n",
              "      <td>0</td>\n",
              "      <td>0</td>\n",
              "      <td>True</td>\n",
              "      <td>0</td>\n",
              "      <td>0</td>\n",
              "      <td>0</td>\n",
              "      <td>False</td>\n",
              "      <td>0</td>\n",
              "      <td>0</td>\n",
              "      <td>0</td>\n",
              "      <td>0</td>\n",
              "      <td>5</td>\n",
              "      <td>1</td>\n",
              "      <td>3</td>\n",
              "    </tr>\n",
              "    <tr>\n",
              "      <th>3</th>\n",
              "      <td>0</td>\n",
              "      <td>2</td>\n",
              "      <td>0</td>\n",
              "      <td>False</td>\n",
              "      <td>2</td>\n",
              "      <td>1</td>\n",
              "      <td>0</td>\n",
              "      <td>3</td>\n",
              "      <td>1</td>\n",
              "      <td>2</td>\n",
              "      <td>1</td>\n",
              "      <td>3</td>\n",
              "      <td>0</td>\n",
              "      <td>0</td>\n",
              "      <td>0</td>\n",
              "      <td>0</td>\n",
              "      <td>0</td>\n",
              "      <td>0</td>\n",
              "      <td>0</td>\n",
              "      <td>True</td>\n",
              "      <td>0</td>\n",
              "      <td>0</td>\n",
              "      <td>0</td>\n",
              "      <td>False</td>\n",
              "      <td>1</td>\n",
              "      <td>0</td>\n",
              "      <td>0</td>\n",
              "      <td>0</td>\n",
              "      <td>5</td>\n",
              "      <td>5</td>\n",
              "      <td>3</td>\n",
              "    </tr>\n",
              "    <tr>\n",
              "      <th>4</th>\n",
              "      <td>0</td>\n",
              "      <td>0</td>\n",
              "      <td>1</td>\n",
              "      <td>True</td>\n",
              "      <td>3</td>\n",
              "      <td>1</td>\n",
              "      <td>2</td>\n",
              "      <td>4</td>\n",
              "      <td>1</td>\n",
              "      <td>2</td>\n",
              "      <td>1</td>\n",
              "      <td>4</td>\n",
              "      <td>0</td>\n",
              "      <td>0</td>\n",
              "      <td>1</td>\n",
              "      <td>0</td>\n",
              "      <td>0</td>\n",
              "      <td>0</td>\n",
              "      <td>0</td>\n",
              "      <td>True</td>\n",
              "      <td>0</td>\n",
              "      <td>0</td>\n",
              "      <td>0</td>\n",
              "      <td>True</td>\n",
              "      <td>0</td>\n",
              "      <td>0</td>\n",
              "      <td>0</td>\n",
              "      <td>0</td>\n",
              "      <td>4</td>\n",
              "      <td>13</td>\n",
              "      <td>2</td>\n",
              "    </tr>\n",
              "  </tbody>\n",
              "</table>\n",
              "</div>"
            ]
          },
          "metadata": {
            "tags": []
          },
          "execution_count": 43
        }
      ]
    },
    {
      "metadata": {
        "trusted": true,
        "_uuid": "11a5f8048f1dd9aebbdc118574e28c5069e676c4",
        "id": "OtiE5_P_EbAi",
        "colab_type": "code",
        "colab": {}
      },
      "cell_type": "code",
      "source": [
        "from sklearn.model_selection import GroupKFold\n",
        "from sklearn.metrics import mean_squared_error\n",
        "\n",
        "def score(data, y):\n",
        "    validation_res = pd.DataFrame(\n",
        "    {\"fullVisitorId\": data[\"fullVisitorId\"].values,\n",
        "     \"transactionRevenue\": data[\"totals.transactionRevenue\"].values,\n",
        "     \"predictedRevenue\": np.expm1(y)})\n",
        "\n",
        "    validation_res = validation_res.groupby(\"fullVisitorId\")[\"transactionRevenue\", \"predictedRevenue\"].sum().reset_index()\n",
        "    return np.sqrt(mean_squared_error(np.log1p(validation_res[\"transactionRevenue\"].values), \n",
        "                                     np.log1p(validation_res[\"predictedRevenue\"].values)))\n",
        "\n",
        "class KFoldValidation():\n",
        "    def __init__(self, data, n_splits=5):\n",
        "        unique_vis = np.array(sorted(data['fullVisitorId'].astype(str).unique()))\n",
        "        folds = GroupKFold(n_splits)\n",
        "        ids = np.arange(data.shape[0])\n",
        "        \n",
        "        self.fold_ids = []\n",
        "        for trn_vis, val_vis in folds.split(X=unique_vis, y=unique_vis, groups=unique_vis):\n",
        "            self.fold_ids.append([\n",
        "                    ids[data['fullVisitorId'].astype(str).isin(unique_vis[trn_vis])],\n",
        "                    ids[data['fullVisitorId'].astype(str).isin(unique_vis[val_vis])]\n",
        "                ])\n",
        "            \n",
        "    def validate(self, train, test, features, model, name=\"\", prepare_stacking=False, \n",
        "                 fit_params={\"early_stopping_rounds\": 50, \"verbose\": 100, \"eval_metric\": \"rmse\"}):\n",
        "        model.FI = pd.DataFrame(index=features)\n",
        "        full_score = 0\n",
        "        \n",
        "        if prepare_stacking:\n",
        "            test[name] = 0\n",
        "            train[name] = np.NaN\n",
        "        \n",
        "        for fold_id, (trn, val) in enumerate(self.fold_ids):\n",
        "            devel = train[features].iloc[trn]\n",
        "            y_devel = np.log1p(train[\"totals.transactionRevenue\"].iloc[trn])\n",
        "            valid = train[features].iloc[val]\n",
        "            y_valid = np.log1p(train[\"totals.transactionRevenue\"].iloc[val])\n",
        "                       \n",
        "            print(\"Fold \", fold_id, \":\")\n",
        "            model.fit(devel, y_devel, eval_set=[(valid, y_valid)], **fit_params)\n",
        "            \n",
        "            if len(model.feature_importances_) == len(features):  # some bugs in catboost?\n",
        "                model.FI['fold' + str(fold_id)] = model.feature_importances_ / model.feature_importances_.sum()\n",
        "\n",
        "            predictions = model.predict(valid)\n",
        "            predictions[predictions < 0] = 0\n",
        "            print(\"Fold \", fold_id, \" error: \", mean_squared_error(y_valid, predictions)**0.5)\n",
        "            \n",
        "            fold_score = score(train.iloc[val], predictions)\n",
        "            full_score += fold_score / len(self.fold_ids)\n",
        "            print(\"Fold \", fold_id, \" score: \", fold_score)\n",
        "            \n",
        "            if prepare_stacking:\n",
        "                train[name].iloc[val] = predictions\n",
        "                \n",
        "                test_predictions = model.predict(test[features])\n",
        "                test_predictions[test_predictions < 0] = 0\n",
        "                test[name] += test_predictions / len(self.fold_ids)\n",
        "        print(\"Confusion Matrix\")\n",
        "        y_actual = pd.Series(y_valid, name='Actual')\n",
        "        y_predict = pd.Series(predictions, name='Predicted')\n",
        "        df_confusion = pd.crosstab(y_actual, y_predict)\n",
        "        print(df_confusion)\n",
        "\n",
        "        plt.figure(figsize=(15, 15), dpi=80, facecolor='w', edgecolor='k')\n",
        "        plt.matshow(df_confusion, cmap='viridis')\n",
        "        plt.title('Confusion matrix')\n",
        "        plt.colorbar()\n",
        "        tick_marks = np.arange(len(df_confusion.columns))\n",
        "        plt.xticks(tick_marks, df_confusion.columns, rotation=45)\n",
        "        plt.yticks(tick_marks, df_confusion.index)\n",
        "        plt.ylabel(df_confusion.index.name)\n",
        "        plt.xlabel(df_confusion.columns.name)        \n",
        "        print(\"Final score: \", full_score)\n",
        "        return full_score"
      ],
      "execution_count": 0,
      "outputs": []
    },
    {
      "metadata": {
        "trusted": true,
        "_uuid": "2df239dd6b4fc904a983fef6bfd6481bcd7b7021",
        "id": "Ljj92jxdEbAk",
        "colab_type": "code",
        "colab": {}
      },
      "cell_type": "code",
      "source": [
        "Kfolder = KFoldValidation(train_df)"
      ],
      "execution_count": 0,
      "outputs": []
    },
    {
      "metadata": {
        "_uuid": "f94f2c779f16b98750b66d78b047f7de1a0c5128",
        "id": "XjVC-CE3EbAm",
        "colab_type": "text"
      },
      "cell_type": "markdown",
      "source": [
        "**LGBMRegressor**"
      ]
    },
    {
      "metadata": {
        "trusted": true,
        "_uuid": "490968445405b86c144df1e2514374dcc5c6af5d",
        "id": "77CU5lWBEbAn",
        "colab_type": "code",
        "colab": {}
      },
      "cell_type": "code",
      "source": [
        "lgbmodel = lgb.LGBMRegressor(n_estimators=1000, objective=\"regression\", metric=\"rmse\", num_leaves=31, min_child_samples=100,\n",
        "                      learning_rate=0.03, bagging_fraction=0.7, feature_fraction=0.5, bagging_frequency=5, \n",
        "                      bagging_seed=2019, subsample=.9, colsample_bytree=.9, use_best_model=True)"
      ],
      "execution_count": 0,
      "outputs": []
    },
    {
      "metadata": {
        "trusted": true,
        "_uuid": "817a1bbf0812db8da690dba3d553055d2e7fcba8",
        "id": "9QQsydYhEbAq",
        "colab_type": "code",
        "colab": {},
        "outputId": "c4d098f1-8f31-4644-fa14-7e3bb780ca88"
      },
      "cell_type": "code",
      "source": [
        "Kfolder.validate(train_df, test_df, columns, lgbmodel, \"lgbpred\", prepare_stacking=True)"
      ],
      "execution_count": 0,
      "outputs": [
        {
          "output_type": "stream",
          "text": [
            "Fold  0 :\n",
            "Training until validation scores don't improve for 50 rounds.\n",
            "[100]\tvalid_0's rmse: 1.67924\n",
            "[200]\tvalid_0's rmse: 1.65625\n",
            "[300]\tvalid_0's rmse: 1.64962\n",
            "[400]\tvalid_0's rmse: 1.64566\n",
            "[500]\tvalid_0's rmse: 1.64321\n",
            "[600]\tvalid_0's rmse: 1.64258\n",
            "[700]\tvalid_0's rmse: 1.64239\n",
            "Early stopping, best iteration is:\n",
            "[659]\tvalid_0's rmse: 1.6423\n",
            "Fold  0  error:  1.6415677826278077\n",
            "Fold  0  score:  1.6220760418607434\n"
          ],
          "name": "stdout"
        },
        {
          "output_type": "stream",
          "text": [
            "/opt/conda/lib/python3.6/site-packages/pandas/core/indexing.py:189: SettingWithCopyWarning:\n",
            "\n",
            "\n",
            "A value is trying to be set on a copy of a slice from a DataFrame\n",
            "\n",
            "See the caveats in the documentation: http://pandas.pydata.org/pandas-docs/stable/indexing.html#indexing-view-versus-copy\n",
            "\n"
          ],
          "name": "stderr"
        },
        {
          "output_type": "stream",
          "text": [
            "Fold  1 :\n",
            "Training until validation scores don't improve for 50 rounds.\n",
            "[100]\tvalid_0's rmse: 1.65448\n",
            "[200]\tvalid_0's rmse: 1.63494\n",
            "[300]\tvalid_0's rmse: 1.63022\n",
            "[400]\tvalid_0's rmse: 1.62786\n",
            "[500]\tvalid_0's rmse: 1.62564\n",
            "Early stopping, best iteration is:\n",
            "[492]\tvalid_0's rmse: 1.62559\n",
            "Fold  1  error:  1.6249364652721057\n",
            "Fold  1  score:  1.6175267192591416\n"
          ],
          "name": "stdout"
        },
        {
          "output_type": "stream",
          "text": [
            "/opt/conda/lib/python3.6/site-packages/pandas/core/indexing.py:189: SettingWithCopyWarning:\n",
            "\n",
            "\n",
            "A value is trying to be set on a copy of a slice from a DataFrame\n",
            "\n",
            "See the caveats in the documentation: http://pandas.pydata.org/pandas-docs/stable/indexing.html#indexing-view-versus-copy\n",
            "\n"
          ],
          "name": "stderr"
        },
        {
          "output_type": "stream",
          "text": [
            "Fold  2 :\n",
            "Training until validation scores don't improve for 50 rounds.\n",
            "[100]\tvalid_0's rmse: 1.67054\n",
            "[200]\tvalid_0's rmse: 1.64962\n",
            "[300]\tvalid_0's rmse: 1.64375\n",
            "[400]\tvalid_0's rmse: 1.64059\n",
            "[500]\tvalid_0's rmse: 1.63868\n",
            "[600]\tvalid_0's rmse: 1.63787\n",
            "Early stopping, best iteration is:\n",
            "[642]\tvalid_0's rmse: 1.63752\n",
            "Fold  2  error:  1.6367853762075546\n",
            "Fold  2  score:  1.6225590787324335\n"
          ],
          "name": "stdout"
        },
        {
          "output_type": "stream",
          "text": [
            "/opt/conda/lib/python3.6/site-packages/pandas/core/indexing.py:189: SettingWithCopyWarning:\n",
            "\n",
            "\n",
            "A value is trying to be set on a copy of a slice from a DataFrame\n",
            "\n",
            "See the caveats in the documentation: http://pandas.pydata.org/pandas-docs/stable/indexing.html#indexing-view-versus-copy\n",
            "\n"
          ],
          "name": "stderr"
        },
        {
          "output_type": "stream",
          "text": [
            "Fold  3 :\n",
            "Training until validation scores don't improve for 50 rounds.\n",
            "[100]\tvalid_0's rmse: 1.65129\n",
            "[200]\tvalid_0's rmse: 1.63049\n",
            "[300]\tvalid_0's rmse: 1.62602\n",
            "[400]\tvalid_0's rmse: 1.62281\n",
            "[500]\tvalid_0's rmse: 1.6217\n",
            "[600]\tvalid_0's rmse: 1.62083\n",
            "Early stopping, best iteration is:\n",
            "[643]\tvalid_0's rmse: 1.62053\n",
            "Fold  3  error:  1.6197065407983604\n",
            "Fold  3  score:  1.5974193684622846\n"
          ],
          "name": "stdout"
        },
        {
          "output_type": "stream",
          "text": [
            "/opt/conda/lib/python3.6/site-packages/pandas/core/indexing.py:189: SettingWithCopyWarning:\n",
            "\n",
            "\n",
            "A value is trying to be set on a copy of a slice from a DataFrame\n",
            "\n",
            "See the caveats in the documentation: http://pandas.pydata.org/pandas-docs/stable/indexing.html#indexing-view-versus-copy\n",
            "\n"
          ],
          "name": "stderr"
        },
        {
          "output_type": "stream",
          "text": [
            "Fold  4 :\n",
            "Training until validation scores don't improve for 50 rounds.\n",
            "[100]\tvalid_0's rmse: 1.69187\n",
            "[200]\tvalid_0's rmse: 1.6735\n",
            "[300]\tvalid_0's rmse: 1.66853\n",
            "[400]\tvalid_0's rmse: 1.66489\n",
            "[500]\tvalid_0's rmse: 1.66333\n",
            "[600]\tvalid_0's rmse: 1.66215\n",
            "[700]\tvalid_0's rmse: 1.66189\n",
            "Early stopping, best iteration is:\n",
            "[708]\tvalid_0's rmse: 1.66164\n",
            "Fold  4  error:  1.660913699068587\n",
            "Fold  4  score:  1.6296907107344552\n"
          ],
          "name": "stdout"
        },
        {
          "output_type": "stream",
          "text": [
            "/opt/conda/lib/python3.6/site-packages/pandas/core/indexing.py:189: SettingWithCopyWarning:\n",
            "\n",
            "\n",
            "A value is trying to be set on a copy of a slice from a DataFrame\n",
            "\n",
            "See the caveats in the documentation: http://pandas.pydata.org/pandas-docs/stable/indexing.html#indexing-view-versus-copy\n",
            "\n"
          ],
          "name": "stderr"
        },
        {
          "output_type": "stream",
          "text": [
            "Confusion Matrix\n",
            "Predicted  0.000000e+00  2.033870e-07      ...       1.553394e+01  1.576198e+01\n",
            "Actual                                     ...                                 \n",
            "0.000000          17690             1      ...                  1             1\n",
            "14.503646             1             0      ...                  0             0\n",
            "14.910784             1             0      ...                  0             0\n",
            "15.065413             0             0      ...                  0             0\n",
            "15.068274             0             0      ...                  0             0\n",
            "15.196793             0             0      ...                  0             0\n",
            "15.516616             0             0      ...                  0             0\n",
            "15.667110             0             0      ...                  0             0\n",
            "15.670245             0             0      ...                  0             0\n",
            "15.788202             0             0      ...                  0             0\n",
            "15.889940             0             0      ...                  0             0\n",
            "15.893701             0             0      ...                  0             0\n",
            "15.955577             1             0      ...                  0             0\n",
            "15.989125             1             0      ...                  0             0\n",
            "16.010511             1             0      ...                  0             0\n",
            "16.011624             1             0      ...                  0             0\n",
            "16.063640             1             0      ...                  0             0\n",
            "16.067855             0             0      ...                  0             0\n",
            "16.117095             0             0      ...                  0             0\n",
            "16.154428             0             0      ...                  0             0\n",
            "16.156354             0             0      ...                  0             0\n",
            "16.210675             1             0      ...                  0             0\n",
            "16.212496             0             0      ...                  0             0\n",
            "16.219749             1             0      ...                  0             0\n",
            "16.229637             1             0      ...                  0             0\n",
            "16.297078             1             0      ...                  0             0\n",
            "16.340439             0             0      ...                  0             0\n",
            "16.378920             1             0      ...                  0             0\n",
            "16.379690             1             0      ...                  0             0\n",
            "16.393452             0             0      ...                  0             0\n",
            "...                 ...           ...      ...                ...           ...\n",
            "19.895604             1             0      ...                  0             0\n",
            "19.935610             0             0      ...                  0             0\n",
            "20.011751             0             0      ...                  0             0\n",
            "20.049333             1             0      ...                  0             0\n",
            "20.091440             0             0      ...                  0             0\n",
            "20.101471             1             0      ...                  0             0\n",
            "20.101713             1             0      ...                  0             0\n",
            "20.103741             1             0      ...                  0             0\n",
            "20.203803             0             0      ...                  0             0\n",
            "20.223149             0             0      ...                  0             0\n",
            "20.269923             1             0      ...                  0             0\n",
            "20.296689             1             0      ...                  0             0\n",
            "20.362296             1             0      ...                  0             0\n",
            "20.394665             0             0      ...                  0             0\n",
            "20.422809             0             0      ...                  0             0\n",
            "20.458519             0             0      ...                  0             0\n",
            "20.603107             0             0      ...                  0             0\n",
            "20.630492             0             0      ...                  0             0\n",
            "20.640058             1             0      ...                  0             0\n",
            "20.647680             1             0      ...                  0             0\n",
            "20.705845             1             0      ...                  0             0\n",
            "20.742480             0             0      ...                  0             0\n",
            "20.797445             1             0      ...                  0             0\n",
            "20.816702             1             0      ...                  0             0\n",
            "20.971477             0             0      ...                  0             0\n",
            "20.981777             1             0      ...                  0             0\n",
            "21.030015             1             0      ...                  0             0\n",
            "21.177521             1             0      ...                  0             0\n",
            "21.253058             0             0      ...                  0             0\n",
            "22.427650             0             0      ...                  0             0\n",
            "\n",
            "[376 rows x 11396 columns]\n",
            "Final score:  1.6178543838098116\n"
          ],
          "name": "stdout"
        },
        {
          "output_type": "execute_result",
          "data": {
            "text/plain": [
              "1.6178543838098116"
            ]
          },
          "metadata": {
            "tags": []
          },
          "execution_count": 52
        },
        {
          "output_type": "display_data",
          "data": {
            "text/plain": [
              "<Figure size 1200x1200 with 0 Axes>"
            ]
          },
          "metadata": {
            "tags": []
          }
        },
        {
          "output_type": "display_data",
          "data": {
            "text/plain": [
              "<Figure size 1152x144 with 2 Axes>"
            ],
            "image/png": "[encoded data removed]"
          },
          "metadata": {
            "tags": []
          }
        }
      ]
    },
    {
      "metadata": {
        "trusted": true,
        "_uuid": "8761f57a1fbc65f0dc3b2f8d57b960db5c97cad9",
        "id": "8OUDt7nvEbAv",
        "colab_type": "code",
        "colab": {}
      },
      "cell_type": "code",
      "source": [
        "# Prediction\n",
        "y_submit = lgbmodel.predict(test_df[columns])"
      ],
      "execution_count": 0,
      "outputs": []
    },
    {
      "metadata": {
        "trusted": true,
        "_uuid": "a878a29b8517ed1919dc906813f2f85ac5a06f6c",
        "id": "92Ji0wizEbAw",
        "colab_type": "code",
        "colab": {},
        "outputId": "6f6d66c5-f3af-44a4-b321-d7f972592453"
      },
      "cell_type": "code",
      "source": [
        "# output to file\n",
        "submission = test_origin[['fullVisitorId']].copy()\n",
        "submission.loc[:, 'PredictedLogRevenue'] = y_submit\n",
        "grouped_test_LGB = submission[['fullVisitorId', 'PredictedLogRevenue']].groupby('fullVisitorId').sum().reset_index()\n",
        "grouped_test_LGB[\"PredictedLogRevenue\"] = np.log1p(grouped_test_LGB[\"PredictedLogRevenue\"])\n",
        "grouped_test_LGB[\"PredictedLogRevenue\"] = grouped_test_LGB[\"PredictedLogRevenue\"].fillna(0).astype(float)\n",
        "grouped_test_LGB.to_csv('submit_reg_lgb.csv',index=False)\n",
        "test_df.head()"
      ],
      "execution_count": 0,
      "outputs": [
        {
          "output_type": "stream",
          "text": [
            "/opt/conda/lib/python3.6/site-packages/ipykernel_launcher.py:5: RuntimeWarning:\n",
            "\n",
            "invalid value encountered in log1p\n",
            "\n"
          ],
          "name": "stderr"
        },
        {
          "output_type": "execute_result",
          "data": {
            "text/plain": [
              "   channelGrouping      date    ...    sess_date_dom   lgbpred\n",
              "0                0  20171016    ...               16  0.000000\n",
              "1                0  20171016    ...               16  0.000127\n",
              "2                0  20171016    ...               16  0.000289\n",
              "3                0  20171016    ...               16  0.000000\n",
              "4                0  20171016    ...               17  0.000000\n",
              "\n",
              "[5 rows x 57 columns]"
            ],
            "text/html": [
              "<div>\n",
              "<style scoped>\n",
              "    .dataframe tbody tr th:only-of-type {\n",
              "        vertical-align: middle;\n",
              "    }\n",
              "\n",
              "    .dataframe tbody tr th {\n",
              "        vertical-align: top;\n",
              "    }\n",
              "\n",
              "    .dataframe thead th {\n",
              "        text-align: right;\n",
              "    }\n",
              "</style>\n",
              "<table border=\"1\" class=\"dataframe\">\n",
              "  <thead>\n",
              "    <tr style=\"text-align: right;\">\n",
              "      <th></th>\n",
              "      <th>channelGrouping</th>\n",
              "      <th>date</th>\n",
              "      <th>fullVisitorId</th>\n",
              "      <th>sessionId</th>\n",
              "      <th>socialEngagementType</th>\n",
              "      <th>visitId</th>\n",
              "      <th>visitNumber</th>\n",
              "      <th>visitStartTime</th>\n",
              "      <th>device.browser</th>\n",
              "      <th>device.browserSize</th>\n",
              "      <th>device.browserVersion</th>\n",
              "      <th>device.deviceCategory</th>\n",
              "      <th>device.flashVersion</th>\n",
              "      <th>device.isMobile</th>\n",
              "      <th>device.language</th>\n",
              "      <th>device.mobileDeviceBranding</th>\n",
              "      <th>device.mobileDeviceInfo</th>\n",
              "      <th>device.mobileDeviceMarketingName</th>\n",
              "      <th>device.mobileDeviceModel</th>\n",
              "      <th>device.mobileInputSelector</th>\n",
              "      <th>device.operatingSystem</th>\n",
              "      <th>device.operatingSystemVersion</th>\n",
              "      <th>device.screenColors</th>\n",
              "      <th>device.screenResolution</th>\n",
              "      <th>geoNetwork.city</th>\n",
              "      <th>geoNetwork.cityId</th>\n",
              "      <th>geoNetwork.continent</th>\n",
              "      <th>geoNetwork.country</th>\n",
              "      <th>geoNetwork.latitude</th>\n",
              "      <th>geoNetwork.longitude</th>\n",
              "      <th>geoNetwork.metro</th>\n",
              "      <th>geoNetwork.networkDomain</th>\n",
              "      <th>geoNetwork.networkLocation</th>\n",
              "      <th>geoNetwork.region</th>\n",
              "      <th>geoNetwork.subContinent</th>\n",
              "      <th>totals.bounces</th>\n",
              "      <th>totals.hits</th>\n",
              "      <th>totals.newVisits</th>\n",
              "      <th>totals.pageviews</th>\n",
              "      <th>totals.visits</th>\n",
              "      <th>trafficSource.adContent</th>\n",
              "      <th>trafficSource.adwordsClickInfo.adNetworkType</th>\n",
              "      <th>trafficSource.adwordsClickInfo.criteriaParameters</th>\n",
              "      <th>trafficSource.adwordsClickInfo.gclId</th>\n",
              "      <th>trafficSource.adwordsClickInfo.isVideoAd</th>\n",
              "      <th>trafficSource.adwordsClickInfo.page</th>\n",
              "      <th>trafficSource.adwordsClickInfo.slot</th>\n",
              "      <th>trafficSource.campaign</th>\n",
              "      <th>trafficSource.isTrueDirect</th>\n",
              "      <th>trafficSource.keyword</th>\n",
              "      <th>trafficSource.medium</th>\n",
              "      <th>trafficSource.referralPath</th>\n",
              "      <th>trafficSource.source</th>\n",
              "      <th>sess_date_dow</th>\n",
              "      <th>sess_date_hours</th>\n",
              "      <th>sess_date_dom</th>\n",
              "      <th>lgbpred</th>\n",
              "    </tr>\n",
              "  </thead>\n",
              "  <tbody>\n",
              "    <tr>\n",
              "      <th>0</th>\n",
              "      <td>0</td>\n",
              "      <td>20171016</td>\n",
              "      <td>6167871330617112363</td>\n",
              "      <td>6167871330617112363_1508151024</td>\n",
              "      <td>Not Socially Engaged</td>\n",
              "      <td>1508151024</td>\n",
              "      <td>2</td>\n",
              "      <td>1508151024</td>\n",
              "      <td>0</td>\n",
              "      <td>not available in demo dataset</td>\n",
              "      <td>not available in demo dataset</td>\n",
              "      <td>0</td>\n",
              "      <td>not available in demo dataset</td>\n",
              "      <td>False</td>\n",
              "      <td>not available in demo dataset</td>\n",
              "      <td>not available in demo dataset</td>\n",
              "      <td>not available in demo dataset</td>\n",
              "      <td>not available in demo dataset</td>\n",
              "      <td>not available in demo dataset</td>\n",
              "      <td>not available in demo dataset</td>\n",
              "      <td>1</td>\n",
              "      <td>not available in demo dataset</td>\n",
              "      <td>not available in demo dataset</td>\n",
              "      <td>not available in demo dataset</td>\n",
              "      <td>8</td>\n",
              "      <td>not available in demo dataset</td>\n",
              "      <td>0</td>\n",
              "      <td>13</td>\n",
              "      <td>not available in demo dataset</td>\n",
              "      <td>not available in demo dataset</td>\n",
              "      <td>0</td>\n",
              "      <td>416</td>\n",
              "      <td>not available in demo dataset</td>\n",
              "      <td>6</td>\n",
              "      <td>3</td>\n",
              "      <td>1</td>\n",
              "      <td>3</td>\n",
              "      <td>1</td>\n",
              "      <td>3</td>\n",
              "      <td>1</td>\n",
              "      <td>0</td>\n",
              "      <td>0</td>\n",
              "      <td>not available in demo dataset</td>\n",
              "      <td>0</td>\n",
              "      <td>True</td>\n",
              "      <td>0</td>\n",
              "      <td>0</td>\n",
              "      <td>0</td>\n",
              "      <td>True</td>\n",
              "      <td>0</td>\n",
              "      <td>0</td>\n",
              "      <td>0</td>\n",
              "      <td>0</td>\n",
              "      <td>0</td>\n",
              "      <td>10</td>\n",
              "      <td>16</td>\n",
              "      <td>0.000000</td>\n",
              "    </tr>\n",
              "    <tr>\n",
              "      <th>1</th>\n",
              "      <td>0</td>\n",
              "      <td>20171016</td>\n",
              "      <td>0643697640977915618</td>\n",
              "      <td>0643697640977915618_1508175522</td>\n",
              "      <td>Not Socially Engaged</td>\n",
              "      <td>1508175522</td>\n",
              "      <td>1</td>\n",
              "      <td>1508175522</td>\n",
              "      <td>0</td>\n",
              "      <td>not available in demo dataset</td>\n",
              "      <td>not available in demo dataset</td>\n",
              "      <td>0</td>\n",
              "      <td>not available in demo dataset</td>\n",
              "      <td>False</td>\n",
              "      <td>not available in demo dataset</td>\n",
              "      <td>not available in demo dataset</td>\n",
              "      <td>not available in demo dataset</td>\n",
              "      <td>not available in demo dataset</td>\n",
              "      <td>not available in demo dataset</td>\n",
              "      <td>not available in demo dataset</td>\n",
              "      <td>0</td>\n",
              "      <td>not available in demo dataset</td>\n",
              "      <td>not available in demo dataset</td>\n",
              "      <td>not available in demo dataset</td>\n",
              "      <td>147</td>\n",
              "      <td>not available in demo dataset</td>\n",
              "      <td>2</td>\n",
              "      <td>2</td>\n",
              "      <td>not available in demo dataset</td>\n",
              "      <td>not available in demo dataset</td>\n",
              "      <td>0</td>\n",
              "      <td>23</td>\n",
              "      <td>not available in demo dataset</td>\n",
              "      <td>116</td>\n",
              "      <td>2</td>\n",
              "      <td>1</td>\n",
              "      <td>4</td>\n",
              "      <td>0</td>\n",
              "      <td>4</td>\n",
              "      <td>1</td>\n",
              "      <td>0</td>\n",
              "      <td>0</td>\n",
              "      <td>not available in demo dataset</td>\n",
              "      <td>0</td>\n",
              "      <td>True</td>\n",
              "      <td>0</td>\n",
              "      <td>0</td>\n",
              "      <td>0</td>\n",
              "      <td>False</td>\n",
              "      <td>0</td>\n",
              "      <td>0</td>\n",
              "      <td>0</td>\n",
              "      <td>0</td>\n",
              "      <td>0</td>\n",
              "      <td>17</td>\n",
              "      <td>16</td>\n",
              "      <td>0.000127</td>\n",
              "    </tr>\n",
              "    <tr>\n",
              "      <th>2</th>\n",
              "      <td>0</td>\n",
              "      <td>20171016</td>\n",
              "      <td>6059383810968229466</td>\n",
              "      <td>6059383810968229466_1508143220</td>\n",
              "      <td>Not Socially Engaged</td>\n",
              "      <td>1508143220</td>\n",
              "      <td>1</td>\n",
              "      <td>1508143220</td>\n",
              "      <td>0</td>\n",
              "      <td>not available in demo dataset</td>\n",
              "      <td>not available in demo dataset</td>\n",
              "      <td>0</td>\n",
              "      <td>not available in demo dataset</td>\n",
              "      <td>False</td>\n",
              "      <td>not available in demo dataset</td>\n",
              "      <td>not available in demo dataset</td>\n",
              "      <td>not available in demo dataset</td>\n",
              "      <td>not available in demo dataset</td>\n",
              "      <td>not available in demo dataset</td>\n",
              "      <td>not available in demo dataset</td>\n",
              "      <td>1</td>\n",
              "      <td>not available in demo dataset</td>\n",
              "      <td>not available in demo dataset</td>\n",
              "      <td>not available in demo dataset</td>\n",
              "      <td>1</td>\n",
              "      <td>not available in demo dataset</td>\n",
              "      <td>2</td>\n",
              "      <td>10</td>\n",
              "      <td>not available in demo dataset</td>\n",
              "      <td>not available in demo dataset</td>\n",
              "      <td>1</td>\n",
              "      <td>175</td>\n",
              "      <td>not available in demo dataset</td>\n",
              "      <td>1</td>\n",
              "      <td>6</td>\n",
              "      <td>1</td>\n",
              "      <td>6</td>\n",
              "      <td>0</td>\n",
              "      <td>6</td>\n",
              "      <td>1</td>\n",
              "      <td>0</td>\n",
              "      <td>0</td>\n",
              "      <td>not available in demo dataset</td>\n",
              "      <td>0</td>\n",
              "      <td>True</td>\n",
              "      <td>0</td>\n",
              "      <td>0</td>\n",
              "      <td>0</td>\n",
              "      <td>False</td>\n",
              "      <td>0</td>\n",
              "      <td>0</td>\n",
              "      <td>0</td>\n",
              "      <td>0</td>\n",
              "      <td>0</td>\n",
              "      <td>8</td>\n",
              "      <td>16</td>\n",
              "      <td>0.000289</td>\n",
              "    </tr>\n",
              "    <tr>\n",
              "      <th>3</th>\n",
              "      <td>0</td>\n",
              "      <td>20171016</td>\n",
              "      <td>2376720078563423631</td>\n",
              "      <td>2376720078563423631_1508193530</td>\n",
              "      <td>Not Socially Engaged</td>\n",
              "      <td>1508193530</td>\n",
              "      <td>1</td>\n",
              "      <td>1508193530</td>\n",
              "      <td>4</td>\n",
              "      <td>not available in demo dataset</td>\n",
              "      <td>not available in demo dataset</td>\n",
              "      <td>1</td>\n",
              "      <td>not available in demo dataset</td>\n",
              "      <td>True</td>\n",
              "      <td>not available in demo dataset</td>\n",
              "      <td>not available in demo dataset</td>\n",
              "      <td>not available in demo dataset</td>\n",
              "      <td>not available in demo dataset</td>\n",
              "      <td>not available in demo dataset</td>\n",
              "      <td>not available in demo dataset</td>\n",
              "      <td>4</td>\n",
              "      <td>not available in demo dataset</td>\n",
              "      <td>not available in demo dataset</td>\n",
              "      <td>not available in demo dataset</td>\n",
              "      <td>23</td>\n",
              "      <td>not available in demo dataset</td>\n",
              "      <td>3</td>\n",
              "      <td>33</td>\n",
              "      <td>not available in demo dataset</td>\n",
              "      <td>not available in demo dataset</td>\n",
              "      <td>3</td>\n",
              "      <td>16</td>\n",
              "      <td>not available in demo dataset</td>\n",
              "      <td>22</td>\n",
              "      <td>10</td>\n",
              "      <td>1</td>\n",
              "      <td>7</td>\n",
              "      <td>0</td>\n",
              "      <td>3</td>\n",
              "      <td>1</td>\n",
              "      <td>0</td>\n",
              "      <td>0</td>\n",
              "      <td>not available in demo dataset</td>\n",
              "      <td>0</td>\n",
              "      <td>True</td>\n",
              "      <td>0</td>\n",
              "      <td>0</td>\n",
              "      <td>0</td>\n",
              "      <td>False</td>\n",
              "      <td>0</td>\n",
              "      <td>0</td>\n",
              "      <td>0</td>\n",
              "      <td>0</td>\n",
              "      <td>0</td>\n",
              "      <td>22</td>\n",
              "      <td>16</td>\n",
              "      <td>0.000000</td>\n",
              "    </tr>\n",
              "    <tr>\n",
              "      <th>4</th>\n",
              "      <td>0</td>\n",
              "      <td>20171016</td>\n",
              "      <td>2314544520795440038</td>\n",
              "      <td>2314544520795440038_1508217442</td>\n",
              "      <td>Not Socially Engaged</td>\n",
              "      <td>1508217442</td>\n",
              "      <td>1</td>\n",
              "      <td>1508217442</td>\n",
              "      <td>4</td>\n",
              "      <td>not available in demo dataset</td>\n",
              "      <td>not available in demo dataset</td>\n",
              "      <td>0</td>\n",
              "      <td>not available in demo dataset</td>\n",
              "      <td>False</td>\n",
              "      <td>not available in demo dataset</td>\n",
              "      <td>not available in demo dataset</td>\n",
              "      <td>not available in demo dataset</td>\n",
              "      <td>not available in demo dataset</td>\n",
              "      <td>not available in demo dataset</td>\n",
              "      <td>not available in demo dataset</td>\n",
              "      <td>1</td>\n",
              "      <td>not available in demo dataset</td>\n",
              "      <td>not available in demo dataset</td>\n",
              "      <td>not available in demo dataset</td>\n",
              "      <td>49</td>\n",
              "      <td>not available in demo dataset</td>\n",
              "      <td>3</td>\n",
              "      <td>33</td>\n",
              "      <td>not available in demo dataset</td>\n",
              "      <td>not available in demo dataset</td>\n",
              "      <td>3</td>\n",
              "      <td>16</td>\n",
              "      <td>not available in demo dataset</td>\n",
              "      <td>22</td>\n",
              "      <td>10</td>\n",
              "      <td>1</td>\n",
              "      <td>8</td>\n",
              "      <td>0</td>\n",
              "      <td>3</td>\n",
              "      <td>1</td>\n",
              "      <td>0</td>\n",
              "      <td>0</td>\n",
              "      <td>not available in demo dataset</td>\n",
              "      <td>0</td>\n",
              "      <td>True</td>\n",
              "      <td>0</td>\n",
              "      <td>0</td>\n",
              "      <td>0</td>\n",
              "      <td>False</td>\n",
              "      <td>0</td>\n",
              "      <td>0</td>\n",
              "      <td>0</td>\n",
              "      <td>0</td>\n",
              "      <td>1</td>\n",
              "      <td>5</td>\n",
              "      <td>17</td>\n",
              "      <td>0.000000</td>\n",
              "    </tr>\n",
              "  </tbody>\n",
              "</table>\n",
              "</div>"
            ]
          },
          "metadata": {
            "tags": []
          },
          "execution_count": 54
        }
      ]
    },
    {
      "metadata": {
        "_uuid": "46dc11c84f46283e62e7d7f894137c50dae572ab",
        "id": "67C9U69eEbA0",
        "colab_type": "text"
      },
      "cell_type": "markdown",
      "source": [
        "**Cat Model**\n"
      ]
    },
    {
      "metadata": {
        "trusted": true,
        "_uuid": "0a09aae227ca9bab2e9e1372f1c1daaf13b3f54a",
        "id": "hFOo8rGjEbA1",
        "colab_type": "code",
        "colab": {}
      },
      "cell_type": "code",
      "source": [
        "catmodel = cat.CatBoostRegressor(iterations=1000, learning_rate=0.2, depth=5, random_seed=2019)"
      ],
      "execution_count": 0,
      "outputs": []
    },
    {
      "metadata": {
        "trusted": true,
        "_uuid": "4edc701c4eda9cafca61a49a0f2f48eac7d89ce4",
        "id": "c-a15Q38EbA3",
        "colab_type": "code",
        "colab": {},
        "outputId": "d655b2ee-29b0-4040-b67a-5a8986e93a69"
      },
      "cell_type": "code",
      "source": [
        "Kfolder.validate(train_df, test_df, columns, catmodel, name=\"catpred\", prepare_stacking=True,\n",
        "                fit_params={\"use_best_model\": True, \"verbose\": 100})"
      ],
      "execution_count": 0,
      "outputs": [
        {
          "output_type": "stream",
          "text": [
            "Fold  0 :\n",
            "0:\tlearn: 1.9158310\ttest: 1.9303453\tbest: 1.9303453 (0)\ttotal: 249ms\tremaining: 4m 8s\n",
            "100:\tlearn: 1.6385957\ttest: 1.6651540\tbest: 1.6649663 (97)\ttotal: 17s\tremaining: 2m 31s\n",
            "200:\tlearn: 1.6160417\ttest: 1.6584677\tbest: 1.6584677 (200)\ttotal: 33.4s\tremaining: 2m 12s\n",
            "300:\tlearn: 1.6007799\ttest: 1.6571506\tbest: 1.6571464 (299)\ttotal: 49.6s\tremaining: 1m 55s\n",
            "400:\tlearn: 1.5870343\ttest: 1.6559798\tbest: 1.6559167 (399)\ttotal: 1m 5s\tremaining: 1m 38s\n",
            "500:\tlearn: 1.5763807\ttest: 1.6561253\tbest: 1.6547867 (449)\ttotal: 1m 22s\tremaining: 1m 22s\n",
            "600:\tlearn: 1.5660993\ttest: 1.6562174\tbest: 1.6547867 (449)\ttotal: 1m 38s\tremaining: 1m 5s\n",
            "700:\tlearn: 1.5565193\ttest: 1.6559957\tbest: 1.6547867 (449)\ttotal: 1m 55s\tremaining: 49.2s\n",
            "800:\tlearn: 1.5481142\ttest: 1.6574538\tbest: 1.6547867 (449)\ttotal: 2m 11s\tremaining: 32.8s\n",
            "900:\tlearn: 1.5405191\ttest: 1.6583884\tbest: 1.6547867 (449)\ttotal: 2m 28s\tremaining: 16.3s\n",
            "999:\tlearn: 1.5335255\ttest: 1.6580973\tbest: 1.6547867 (449)\ttotal: 2m 44s\tremaining: 0us\n",
            "\n",
            "bestTest = 1.654786655\n",
            "bestIteration = 449\n",
            "\n",
            "Shrink model to first 450 iterations.\n",
            "Fold  0  error:  1.6531774603571392\n",
            "Fold  0  score:  1.630569994339276\n"
          ],
          "name": "stdout"
        },
        {
          "output_type": "stream",
          "text": [
            "/opt/conda/lib/python3.6/site-packages/pandas/core/indexing.py:189: SettingWithCopyWarning:\n",
            "\n",
            "\n",
            "A value is trying to be set on a copy of a slice from a DataFrame\n",
            "\n",
            "See the caveats in the documentation: http://pandas.pydata.org/pandas-docs/stable/indexing.html#indexing-view-versus-copy\n",
            "\n"
          ],
          "name": "stderr"
        },
        {
          "output_type": "stream",
          "text": [
            "Fold  1 :\n",
            "0:\tlearn: 1.9233678\ttest: 1.9007666\tbest: 1.9007666 (0)\ttotal: 198ms\tremaining: 3m 17s\n",
            "100:\tlearn: 1.6394463\ttest: 1.6422247\tbest: 1.6422247 (100)\ttotal: 17.1s\tremaining: 2m 32s\n",
            "200:\tlearn: 1.6207340\ttest: 1.6390449\tbest: 1.6385312 (185)\ttotal: 33.4s\tremaining: 2m 12s\n",
            "300:\tlearn: 1.6032686\ttest: 1.6374682\tbest: 1.6374456 (295)\ttotal: 49.8s\tremaining: 1m 55s\n",
            "400:\tlearn: 1.5910580\ttest: 1.6380550\tbest: 1.6372950 (327)\ttotal: 1m 6s\tremaining: 1m 38s\n",
            "500:\tlearn: 1.5798012\ttest: 1.6395220\tbest: 1.6372950 (327)\ttotal: 1m 22s\tremaining: 1m 22s\n",
            "600:\tlearn: 1.5693280\ttest: 1.6395019\tbest: 1.6372950 (327)\ttotal: 1m 39s\tremaining: 1m 5s\n",
            "700:\tlearn: 1.5605028\ttest: 1.6406582\tbest: 1.6372950 (327)\ttotal: 1m 55s\tremaining: 49.2s\n",
            "800:\tlearn: 1.5513550\ttest: 1.6417721\tbest: 1.6372950 (327)\ttotal: 2m 11s\tremaining: 32.8s\n",
            "900:\tlearn: 1.5435555\ttest: 1.6429500\tbest: 1.6372950 (327)\ttotal: 2m 28s\tremaining: 16.3s\n",
            "999:\tlearn: 1.5359344\ttest: 1.6432283\tbest: 1.6372950 (327)\ttotal: 2m 44s\tremaining: 0us\n",
            "\n",
            "bestTest = 1.637295004\n",
            "bestIteration = 327\n",
            "\n",
            "Shrink model to first 328 iterations.\n",
            "Fold  1  error:  1.6355584820212463\n",
            "Fold  1  score:  1.6288588903774885\n",
            "Fold  2 :\n",
            "0:\tlearn: 1.9176455\ttest: 1.9253770\tbest: 1.9253770 (0)\ttotal: 192ms\tremaining: 3m 11s\n",
            "100:\tlearn: 1.6373052\ttest: 1.6588989\tbest: 1.6587015 (98)\ttotal: 17s\tremaining: 2m 31s\n",
            "200:\tlearn: 1.6160423\ttest: 1.6524587\tbest: 1.6524587 (200)\ttotal: 33.5s\tremaining: 2m 13s\n",
            "300:\tlearn: 1.6008980\ttest: 1.6514229\tbest: 1.6509813 (276)\ttotal: 49.5s\tremaining: 1m 55s\n",
            "400:\tlearn: 1.5882393\ttest: 1.6505936\tbest: 1.6496753 (367)\ttotal: 1m 5s\tremaining: 1m 38s\n",
            "500:\tlearn: 1.5773834\ttest: 1.6503795\tbest: 1.6496753 (367)\ttotal: 1m 22s\tremaining: 1m 21s\n",
            "600:\tlearn: 1.5672293\ttest: 1.6497007\tbest: 1.6496465 (589)\ttotal: 1m 38s\tremaining: 1m 5s\n",
            "700:\tlearn: 1.5579829\ttest: 1.6498740\tbest: 1.6495828 (675)\ttotal: 1m 54s\tremaining: 49s\n",
            "800:\tlearn: 1.5493789\ttest: 1.6515231\tbest: 1.6495828 (675)\ttotal: 2m 11s\tremaining: 32.7s\n",
            "900:\tlearn: 1.5410678\ttest: 1.6510253\tbest: 1.6495828 (675)\ttotal: 2m 28s\tremaining: 16.3s\n",
            "999:\tlearn: 1.5331523\ttest: 1.6524573\tbest: 1.6495828 (675)\ttotal: 2m 44s\tremaining: 0us\n",
            "\n",
            "bestTest = 1.649582762\n",
            "bestIteration = 675\n",
            "\n",
            "Shrink model to first 676 iterations.\n",
            "Fold  2  error:  1.6474129774343702\n",
            "Fold  2  score:  1.631153030551514\n",
            "Fold  3 :\n",
            "0:\tlearn: 1.9227171\ttest: 1.9037561\tbest: 1.9037561 (0)\ttotal: 191ms\tremaining: 3m 10s\n",
            "100:\tlearn: 1.6433748\ttest: 1.6427459\tbest: 1.6427459 (100)\ttotal: 16.8s\tremaining: 2m 29s\n",
            "200:\tlearn: 1.6216844\ttest: 1.6377266\tbest: 1.6377266 (200)\ttotal: 33.2s\tremaining: 2m 12s\n",
            "300:\tlearn: 1.6057375\ttest: 1.6347819\tbest: 1.6346960 (296)\ttotal: 50s\tremaining: 1m 56s\n",
            "400:\tlearn: 1.5934561\ttest: 1.6344722\tbest: 1.6336434 (382)\ttotal: 1m 6s\tremaining: 1m 39s\n",
            "500:\tlearn: 1.5826671\ttest: 1.6346694\tbest: 1.6336434 (382)\ttotal: 1m 22s\tremaining: 1m 22s\n",
            "600:\tlearn: 1.5723434\ttest: 1.6338472\tbest: 1.6336434 (382)\ttotal: 1m 38s\tremaining: 1m 5s\n",
            "700:\tlearn: 1.5629087\ttest: 1.6338603\tbest: 1.6336434 (382)\ttotal: 1m 55s\tremaining: 49.1s\n",
            "800:\tlearn: 1.5534776\ttest: 1.6342428\tbest: 1.6332399 (718)\ttotal: 2m 11s\tremaining: 32.8s\n",
            "900:\tlearn: 1.5452760\ttest: 1.6338068\tbest: 1.6332399 (718)\ttotal: 2m 28s\tremaining: 16.3s\n",
            "999:\tlearn: 1.5374378\ttest: 1.6353135\tbest: 1.6332399 (718)\ttotal: 2m 45s\tremaining: 0us\n",
            "\n",
            "bestTest = 1.633239926\n",
            "bestIteration = 718\n",
            "\n",
            "Shrink model to first 719 iterations.\n",
            "Fold  3  error:  1.629917276065947\n",
            "Fold  3  score:  1.6082726929350604\n",
            "Fold  4 :\n",
            "0:\tlearn: 1.9139302\ttest: 1.9347554\tbest: 1.9347554 (0)\ttotal: 197ms\tremaining: 3m 16s\n",
            "100:\tlearn: 1.6315077\ttest: 1.6805863\tbest: 1.6803761 (97)\ttotal: 17.2s\tremaining: 2m 32s\n",
            "200:\tlearn: 1.6100405\ttest: 1.6734237\tbest: 1.6733402 (198)\ttotal: 33.8s\tremaining: 2m 14s\n",
            "300:\tlearn: 1.5949044\ttest: 1.6726773\tbest: 1.6725788 (298)\ttotal: 50.3s\tremaining: 1m 56s\n",
            "400:\tlearn: 1.5819344\ttest: 1.6708319\tbest: 1.6702288 (378)\ttotal: 1m 6s\tremaining: 1m 39s\n",
            "500:\tlearn: 1.5717503\ttest: 1.6699173\tbest: 1.6699173 (500)\ttotal: 1m 23s\tremaining: 1m 22s\n",
            "600:\tlearn: 1.5621983\ttest: 1.6697052\tbest: 1.6693082 (543)\ttotal: 1m 39s\tremaining: 1m 6s\n",
            "700:\tlearn: 1.5527670\ttest: 1.6695714\tbest: 1.6692200 (673)\ttotal: 1m 55s\tremaining: 49.4s\n",
            "800:\tlearn: 1.5441686\ttest: 1.6706318\tbest: 1.6692200 (673)\ttotal: 2m 12s\tremaining: 32.9s\n",
            "900:\tlearn: 1.5361616\ttest: 1.6707437\tbest: 1.6692200 (673)\ttotal: 2m 29s\tremaining: 16.4s\n",
            "999:\tlearn: 1.5285330\ttest: 1.6717142\tbest: 1.6692200 (673)\ttotal: 2m 45s\tremaining: 0us\n",
            "\n",
            "bestTest = 1.669220023\n",
            "bestIteration = 673\n",
            "\n",
            "Shrink model to first 674 iterations.\n",
            "Fold  4  error:  1.6672267541940553\n",
            "Fold  4  score:  1.6385276143015286\n",
            "Confusion Matrix\n",
            "Predicted  0.000000   0.000002     ...      17.055803  18.407936\n",
            "Actual                             ...                          \n",
            "0.000000       15945          1    ...              1          1\n",
            "14.503646          1          0    ...              0          0\n",
            "14.910784          2          0    ...              0          0\n",
            "15.065413          1          0    ...              0          0\n",
            "15.068274          0          0    ...              0          0\n",
            "15.196793          1          0    ...              0          0\n",
            "15.516616          1          0    ...              0          0\n",
            "15.667110          0          0    ...              0          0\n",
            "15.670245          0          0    ...              0          0\n",
            "15.788202          0          0    ...              0          0\n",
            "15.889940          0          0    ...              0          0\n",
            "15.893701          0          0    ...              0          0\n",
            "15.955577          1          0    ...              0          0\n",
            "15.989125          1          0    ...              0          0\n",
            "16.010511          0          0    ...              0          0\n",
            "16.011624          1          0    ...              0          0\n",
            "16.063640          1          0    ...              0          0\n",
            "16.067855          0          0    ...              0          0\n",
            "16.117095          1          0    ...              0          0\n",
            "16.154428          0          0    ...              0          0\n",
            "16.156354          0          0    ...              0          0\n",
            "16.210675          1          0    ...              0          0\n",
            "16.212496          0          0    ...              0          0\n",
            "16.219749          0          0    ...              0          0\n",
            "16.229637          1          0    ...              0          0\n",
            "16.297078          1          0    ...              0          0\n",
            "16.340439          0          0    ...              0          0\n",
            "16.378920          1          0    ...              0          0\n",
            "16.379690          1          0    ...              0          0\n",
            "16.393452          0          0    ...              0          0\n",
            "...              ...        ...    ...            ...        ...\n",
            "19.895604          0          0    ...              0          0\n",
            "19.935610          1          0    ...              0          0\n",
            "20.011751          0          0    ...              0          0\n",
            "20.049333          1          0    ...              0          0\n",
            "20.091440          0          0    ...              0          0\n",
            "20.101471          1          0    ...              0          0\n",
            "20.101713          1          0    ...              0          0\n",
            "20.103741          1          0    ...              0          0\n",
            "20.203803          0          0    ...              0          0\n",
            "20.223149          0          0    ...              0          0\n",
            "20.269923          1          0    ...              0          0\n",
            "20.296689          1          0    ...              0          0\n",
            "20.362296          0          0    ...              0          0\n",
            "20.394665          1          0    ...              0          0\n",
            "20.422809          0          0    ...              0          0\n",
            "20.458519          0          0    ...              0          0\n",
            "20.603107          1          0    ...              0          0\n",
            "20.630492          0          0    ...              0          0\n",
            "20.640058          1          0    ...              0          0\n",
            "20.647680          1          0    ...              0          0\n",
            "20.705845          0          0    ...              0          0\n",
            "20.742480          1          0    ...              0          0\n",
            "20.797445          0          0    ...              0          0\n",
            "20.816702          1          0    ...              0          0\n",
            "20.971477          1          0    ...              0          0\n",
            "20.981777          0          0    ...              0          0\n",
            "21.030015          0          0    ...              0          0\n",
            "21.177521          1          0    ...              0          0\n",
            "21.253058          0          0    ...              0          0\n",
            "22.427650          0          0    ...              0          0\n",
            "\n",
            "[376 rows x 20199 columns]\n"
          ],
          "name": "stdout"
        },
        {
          "output_type": "stream",
          "text": [
            "Final score:  1.6274764445009735\n"
          ],
          "name": "stdout"
        },
        {
          "output_type": "execute_result",
          "data": {
            "text/plain": [
              "1.6274764445009735"
            ]
          },
          "metadata": {
            "tags": []
          },
          "execution_count": 56
        },
        {
          "output_type": "display_data",
          "data": {
            "text/plain": [
              "<Figure size 1200x1200 with 0 Axes>"
            ]
          },
          "metadata": {
            "tags": []
          }
        },
        {
          "output_type": "display_data",
          "data": {
            "text/plain": [
              "<Figure size 1152x144 with 2 Axes>"
            ],
            "image/png": "[encoded data removed]"
          },
          "metadata": {
            "tags": []
          }
        }
      ]
    },
    {
      "metadata": {
        "trusted": true,
        "_uuid": "9ddb9159c477831896734836c72c7d81339931c4",
        "id": "0ni3lZjjEbA5",
        "colab_type": "code",
        "colab": {}
      },
      "cell_type": "code",
      "source": [
        "# Prediction\n",
        "y_submit = catmodel.predict(test_df[columns])"
      ],
      "execution_count": 0,
      "outputs": []
    },
    {
      "metadata": {
        "trusted": true,
        "_uuid": "22296d3d693c13a6446ccca2554e954fc14c4cbe",
        "id": "wOHri6EpEbA-",
        "colab_type": "code",
        "colab": {},
        "outputId": "d4f98d4b-f01f-4063-9550-3eedb375f8b2"
      },
      "cell_type": "code",
      "source": [
        "# output to file\n",
        "submission = test_origin[['fullVisitorId']].copy()\n",
        "submission.loc[:, 'PredictedLogRevenue'] = y_submit\n",
        "grouped_test_CAT = submission[['fullVisitorId', 'PredictedLogRevenue']].groupby('fullVisitorId').sum().reset_index()\n",
        "grouped_test_CAT[\"PredictedLogRevenue\"] = np.log1p(grouped_test_CAT[\"PredictedLogRevenue\"])\n",
        "grouped_test_CAT[\"PredictedLogRevenue\"] = grouped_test_CAT[\"PredictedLogRevenue\"].fillna(0).astype(float)\n",
        "grouped_test_CAT.to_csv('submit_reg_cat.csv',index=False)"
      ],
      "execution_count": 0,
      "outputs": [
        {
          "output_type": "stream",
          "text": [
            "/opt/conda/lib/python3.6/site-packages/ipykernel_launcher.py:5: RuntimeWarning:\n",
            "\n",
            "invalid value encountered in log1p\n",
            "\n"
          ],
          "name": "stderr"
        }
      ]
    },
    {
      "metadata": {
        "trusted": true,
        "_uuid": "886de969c1e666d68f3e977599ce9cc8cf36a1a0",
        "id": "Q4G1Q4ETEbBA",
        "colab_type": "code",
        "colab": {},
        "outputId": "96df2914-b57d-4f3e-a89e-311f00b8a021"
      },
      "cell_type": "code",
      "source": [
        "test_df.head()"
      ],
      "execution_count": 0,
      "outputs": [
        {
          "output_type": "execute_result",
          "data": {
            "text/plain": [
              "   channelGrouping      date    ...      lgbpred   catpred\n",
              "0                0  20171016    ...     0.000000  0.003411\n",
              "1                0  20171016    ...     0.000127  0.001367\n",
              "2                0  20171016    ...     0.000289  0.004039\n",
              "3                0  20171016    ...     0.000000  0.000000\n",
              "4                0  20171016    ...     0.000000  0.023078\n",
              "\n",
              "[5 rows x 58 columns]"
            ],
            "text/html": [
              "<div>\n",
              "<style scoped>\n",
              "    .dataframe tbody tr th:only-of-type {\n",
              "        vertical-align: middle;\n",
              "    }\n",
              "\n",
              "    .dataframe tbody tr th {\n",
              "        vertical-align: top;\n",
              "    }\n",
              "\n",
              "    .dataframe thead th {\n",
              "        text-align: right;\n",
              "    }\n",
              "</style>\n",
              "<table border=\"1\" class=\"dataframe\">\n",
              "  <thead>\n",
              "    <tr style=\"text-align: right;\">\n",
              "      <th></th>\n",
              "      <th>channelGrouping</th>\n",
              "      <th>date</th>\n",
              "      <th>fullVisitorId</th>\n",
              "      <th>sessionId</th>\n",
              "      <th>socialEngagementType</th>\n",
              "      <th>visitId</th>\n",
              "      <th>visitNumber</th>\n",
              "      <th>visitStartTime</th>\n",
              "      <th>device.browser</th>\n",
              "      <th>device.browserSize</th>\n",
              "      <th>device.browserVersion</th>\n",
              "      <th>device.deviceCategory</th>\n",
              "      <th>device.flashVersion</th>\n",
              "      <th>device.isMobile</th>\n",
              "      <th>device.language</th>\n",
              "      <th>device.mobileDeviceBranding</th>\n",
              "      <th>device.mobileDeviceInfo</th>\n",
              "      <th>device.mobileDeviceMarketingName</th>\n",
              "      <th>device.mobileDeviceModel</th>\n",
              "      <th>device.mobileInputSelector</th>\n",
              "      <th>device.operatingSystem</th>\n",
              "      <th>device.operatingSystemVersion</th>\n",
              "      <th>device.screenColors</th>\n",
              "      <th>device.screenResolution</th>\n",
              "      <th>geoNetwork.city</th>\n",
              "      <th>geoNetwork.cityId</th>\n",
              "      <th>geoNetwork.continent</th>\n",
              "      <th>geoNetwork.country</th>\n",
              "      <th>geoNetwork.latitude</th>\n",
              "      <th>geoNetwork.longitude</th>\n",
              "      <th>geoNetwork.metro</th>\n",
              "      <th>geoNetwork.networkDomain</th>\n",
              "      <th>geoNetwork.networkLocation</th>\n",
              "      <th>geoNetwork.region</th>\n",
              "      <th>geoNetwork.subContinent</th>\n",
              "      <th>totals.bounces</th>\n",
              "      <th>totals.hits</th>\n",
              "      <th>totals.newVisits</th>\n",
              "      <th>totals.pageviews</th>\n",
              "      <th>totals.visits</th>\n",
              "      <th>trafficSource.adContent</th>\n",
              "      <th>trafficSource.adwordsClickInfo.adNetworkType</th>\n",
              "      <th>trafficSource.adwordsClickInfo.criteriaParameters</th>\n",
              "      <th>trafficSource.adwordsClickInfo.gclId</th>\n",
              "      <th>trafficSource.adwordsClickInfo.isVideoAd</th>\n",
              "      <th>trafficSource.adwordsClickInfo.page</th>\n",
              "      <th>trafficSource.adwordsClickInfo.slot</th>\n",
              "      <th>trafficSource.campaign</th>\n",
              "      <th>trafficSource.isTrueDirect</th>\n",
              "      <th>trafficSource.keyword</th>\n",
              "      <th>trafficSource.medium</th>\n",
              "      <th>trafficSource.referralPath</th>\n",
              "      <th>trafficSource.source</th>\n",
              "      <th>sess_date_dow</th>\n",
              "      <th>sess_date_hours</th>\n",
              "      <th>sess_date_dom</th>\n",
              "      <th>lgbpred</th>\n",
              "      <th>catpred</th>\n",
              "    </tr>\n",
              "  </thead>\n",
              "  <tbody>\n",
              "    <tr>\n",
              "      <th>0</th>\n",
              "      <td>0</td>\n",
              "      <td>20171016</td>\n",
              "      <td>6167871330617112363</td>\n",
              "      <td>6167871330617112363_1508151024</td>\n",
              "      <td>Not Socially Engaged</td>\n",
              "      <td>1508151024</td>\n",
              "      <td>2</td>\n",
              "      <td>1508151024</td>\n",
              "      <td>0</td>\n",
              "      <td>not available in demo dataset</td>\n",
              "      <td>not available in demo dataset</td>\n",
              "      <td>0</td>\n",
              "      <td>not available in demo dataset</td>\n",
              "      <td>False</td>\n",
              "      <td>not available in demo dataset</td>\n",
              "      <td>not available in demo dataset</td>\n",
              "      <td>not available in demo dataset</td>\n",
              "      <td>not available in demo dataset</td>\n",
              "      <td>not available in demo dataset</td>\n",
              "      <td>not available in demo dataset</td>\n",
              "      <td>1</td>\n",
              "      <td>not available in demo dataset</td>\n",
              "      <td>not available in demo dataset</td>\n",
              "      <td>not available in demo dataset</td>\n",
              "      <td>8</td>\n",
              "      <td>not available in demo dataset</td>\n",
              "      <td>0</td>\n",
              "      <td>13</td>\n",
              "      <td>not available in demo dataset</td>\n",
              "      <td>not available in demo dataset</td>\n",
              "      <td>0</td>\n",
              "      <td>416</td>\n",
              "      <td>not available in demo dataset</td>\n",
              "      <td>6</td>\n",
              "      <td>3</td>\n",
              "      <td>1</td>\n",
              "      <td>3</td>\n",
              "      <td>1</td>\n",
              "      <td>3</td>\n",
              "      <td>1</td>\n",
              "      <td>0</td>\n",
              "      <td>0</td>\n",
              "      <td>not available in demo dataset</td>\n",
              "      <td>0</td>\n",
              "      <td>True</td>\n",
              "      <td>0</td>\n",
              "      <td>0</td>\n",
              "      <td>0</td>\n",
              "      <td>True</td>\n",
              "      <td>0</td>\n",
              "      <td>0</td>\n",
              "      <td>0</td>\n",
              "      <td>0</td>\n",
              "      <td>0</td>\n",
              "      <td>10</td>\n",
              "      <td>16</td>\n",
              "      <td>0.000000</td>\n",
              "      <td>0.003411</td>\n",
              "    </tr>\n",
              "    <tr>\n",
              "      <th>1</th>\n",
              "      <td>0</td>\n",
              "      <td>20171016</td>\n",
              "      <td>0643697640977915618</td>\n",
              "      <td>0643697640977915618_1508175522</td>\n",
              "      <td>Not Socially Engaged</td>\n",
              "      <td>1508175522</td>\n",
              "      <td>1</td>\n",
              "      <td>1508175522</td>\n",
              "      <td>0</td>\n",
              "      <td>not available in demo dataset</td>\n",
              "      <td>not available in demo dataset</td>\n",
              "      <td>0</td>\n",
              "      <td>not available in demo dataset</td>\n",
              "      <td>False</td>\n",
              "      <td>not available in demo dataset</td>\n",
              "      <td>not available in demo dataset</td>\n",
              "      <td>not available in demo dataset</td>\n",
              "      <td>not available in demo dataset</td>\n",
              "      <td>not available in demo dataset</td>\n",
              "      <td>not available in demo dataset</td>\n",
              "      <td>0</td>\n",
              "      <td>not available in demo dataset</td>\n",
              "      <td>not available in demo dataset</td>\n",
              "      <td>not available in demo dataset</td>\n",
              "      <td>147</td>\n",
              "      <td>not available in demo dataset</td>\n",
              "      <td>2</td>\n",
              "      <td>2</td>\n",
              "      <td>not available in demo dataset</td>\n",
              "      <td>not available in demo dataset</td>\n",
              "      <td>0</td>\n",
              "      <td>23</td>\n",
              "      <td>not available in demo dataset</td>\n",
              "      <td>116</td>\n",
              "      <td>2</td>\n",
              "      <td>1</td>\n",
              "      <td>4</td>\n",
              "      <td>0</td>\n",
              "      <td>4</td>\n",
              "      <td>1</td>\n",
              "      <td>0</td>\n",
              "      <td>0</td>\n",
              "      <td>not available in demo dataset</td>\n",
              "      <td>0</td>\n",
              "      <td>True</td>\n",
              "      <td>0</td>\n",
              "      <td>0</td>\n",
              "      <td>0</td>\n",
              "      <td>False</td>\n",
              "      <td>0</td>\n",
              "      <td>0</td>\n",
              "      <td>0</td>\n",
              "      <td>0</td>\n",
              "      <td>0</td>\n",
              "      <td>17</td>\n",
              "      <td>16</td>\n",
              "      <td>0.000127</td>\n",
              "      <td>0.001367</td>\n",
              "    </tr>\n",
              "    <tr>\n",
              "      <th>2</th>\n",
              "      <td>0</td>\n",
              "      <td>20171016</td>\n",
              "      <td>6059383810968229466</td>\n",
              "      <td>6059383810968229466_1508143220</td>\n",
              "      <td>Not Socially Engaged</td>\n",
              "      <td>1508143220</td>\n",
              "      <td>1</td>\n",
              "      <td>1508143220</td>\n",
              "      <td>0</td>\n",
              "      <td>not available in demo dataset</td>\n",
              "      <td>not available in demo dataset</td>\n",
              "      <td>0</td>\n",
              "      <td>not available in demo dataset</td>\n",
              "      <td>False</td>\n",
              "      <td>not available in demo dataset</td>\n",
              "      <td>not available in demo dataset</td>\n",
              "      <td>not available in demo dataset</td>\n",
              "      <td>not available in demo dataset</td>\n",
              "      <td>not available in demo dataset</td>\n",
              "      <td>not available in demo dataset</td>\n",
              "      <td>1</td>\n",
              "      <td>not available in demo dataset</td>\n",
              "      <td>not available in demo dataset</td>\n",
              "      <td>not available in demo dataset</td>\n",
              "      <td>1</td>\n",
              "      <td>not available in demo dataset</td>\n",
              "      <td>2</td>\n",
              "      <td>10</td>\n",
              "      <td>not available in demo dataset</td>\n",
              "      <td>not available in demo dataset</td>\n",
              "      <td>1</td>\n",
              "      <td>175</td>\n",
              "      <td>not available in demo dataset</td>\n",
              "      <td>1</td>\n",
              "      <td>6</td>\n",
              "      <td>1</td>\n",
              "      <td>6</td>\n",
              "      <td>0</td>\n",
              "      <td>6</td>\n",
              "      <td>1</td>\n",
              "      <td>0</td>\n",
              "      <td>0</td>\n",
              "      <td>not available in demo dataset</td>\n",
              "      <td>0</td>\n",
              "      <td>True</td>\n",
              "      <td>0</td>\n",
              "      <td>0</td>\n",
              "      <td>0</td>\n",
              "      <td>False</td>\n",
              "      <td>0</td>\n",
              "      <td>0</td>\n",
              "      <td>0</td>\n",
              "      <td>0</td>\n",
              "      <td>0</td>\n",
              "      <td>8</td>\n",
              "      <td>16</td>\n",
              "      <td>0.000289</td>\n",
              "      <td>0.004039</td>\n",
              "    </tr>\n",
              "    <tr>\n",
              "      <th>3</th>\n",
              "      <td>0</td>\n",
              "      <td>20171016</td>\n",
              "      <td>2376720078563423631</td>\n",
              "      <td>2376720078563423631_1508193530</td>\n",
              "      <td>Not Socially Engaged</td>\n",
              "      <td>1508193530</td>\n",
              "      <td>1</td>\n",
              "      <td>1508193530</td>\n",
              "      <td>4</td>\n",
              "      <td>not available in demo dataset</td>\n",
              "      <td>not available in demo dataset</td>\n",
              "      <td>1</td>\n",
              "      <td>not available in demo dataset</td>\n",
              "      <td>True</td>\n",
              "      <td>not available in demo dataset</td>\n",
              "      <td>not available in demo dataset</td>\n",
              "      <td>not available in demo dataset</td>\n",
              "      <td>not available in demo dataset</td>\n",
              "      <td>not available in demo dataset</td>\n",
              "      <td>not available in demo dataset</td>\n",
              "      <td>4</td>\n",
              "      <td>not available in demo dataset</td>\n",
              "      <td>not available in demo dataset</td>\n",
              "      <td>not available in demo dataset</td>\n",
              "      <td>23</td>\n",
              "      <td>not available in demo dataset</td>\n",
              "      <td>3</td>\n",
              "      <td>33</td>\n",
              "      <td>not available in demo dataset</td>\n",
              "      <td>not available in demo dataset</td>\n",
              "      <td>3</td>\n",
              "      <td>16</td>\n",
              "      <td>not available in demo dataset</td>\n",
              "      <td>22</td>\n",
              "      <td>10</td>\n",
              "      <td>1</td>\n",
              "      <td>7</td>\n",
              "      <td>0</td>\n",
              "      <td>3</td>\n",
              "      <td>1</td>\n",
              "      <td>0</td>\n",
              "      <td>0</td>\n",
              "      <td>not available in demo dataset</td>\n",
              "      <td>0</td>\n",
              "      <td>True</td>\n",
              "      <td>0</td>\n",
              "      <td>0</td>\n",
              "      <td>0</td>\n",
              "      <td>False</td>\n",
              "      <td>0</td>\n",
              "      <td>0</td>\n",
              "      <td>0</td>\n",
              "      <td>0</td>\n",
              "      <td>0</td>\n",
              "      <td>22</td>\n",
              "      <td>16</td>\n",
              "      <td>0.000000</td>\n",
              "      <td>0.000000</td>\n",
              "    </tr>\n",
              "    <tr>\n",
              "      <th>4</th>\n",
              "      <td>0</td>\n",
              "      <td>20171016</td>\n",
              "      <td>2314544520795440038</td>\n",
              "      <td>2314544520795440038_1508217442</td>\n",
              "      <td>Not Socially Engaged</td>\n",
              "      <td>1508217442</td>\n",
              "      <td>1</td>\n",
              "      <td>1508217442</td>\n",
              "      <td>4</td>\n",
              "      <td>not available in demo dataset</td>\n",
              "      <td>not available in demo dataset</td>\n",
              "      <td>0</td>\n",
              "      <td>not available in demo dataset</td>\n",
              "      <td>False</td>\n",
              "      <td>not available in demo dataset</td>\n",
              "      <td>not available in demo dataset</td>\n",
              "      <td>not available in demo dataset</td>\n",
              "      <td>not available in demo dataset</td>\n",
              "      <td>not available in demo dataset</td>\n",
              "      <td>not available in demo dataset</td>\n",
              "      <td>1</td>\n",
              "      <td>not available in demo dataset</td>\n",
              "      <td>not available in demo dataset</td>\n",
              "      <td>not available in demo dataset</td>\n",
              "      <td>49</td>\n",
              "      <td>not available in demo dataset</td>\n",
              "      <td>3</td>\n",
              "      <td>33</td>\n",
              "      <td>not available in demo dataset</td>\n",
              "      <td>not available in demo dataset</td>\n",
              "      <td>3</td>\n",
              "      <td>16</td>\n",
              "      <td>not available in demo dataset</td>\n",
              "      <td>22</td>\n",
              "      <td>10</td>\n",
              "      <td>1</td>\n",
              "      <td>8</td>\n",
              "      <td>0</td>\n",
              "      <td>3</td>\n",
              "      <td>1</td>\n",
              "      <td>0</td>\n",
              "      <td>0</td>\n",
              "      <td>not available in demo dataset</td>\n",
              "      <td>0</td>\n",
              "      <td>True</td>\n",
              "      <td>0</td>\n",
              "      <td>0</td>\n",
              "      <td>0</td>\n",
              "      <td>False</td>\n",
              "      <td>0</td>\n",
              "      <td>0</td>\n",
              "      <td>0</td>\n",
              "      <td>0</td>\n",
              "      <td>1</td>\n",
              "      <td>5</td>\n",
              "      <td>17</td>\n",
              "      <td>0.000000</td>\n",
              "      <td>0.023078</td>\n",
              "    </tr>\n",
              "  </tbody>\n",
              "</table>\n",
              "</div>"
            ]
          },
          "metadata": {
            "tags": []
          },
          "execution_count": 59
        }
      ]
    },
    {
      "metadata": {
        "_uuid": "d26d318da867d476ecd652dd35aea68cd228f867",
        "id": "_HoHnyv4EbBH",
        "colab_type": "text"
      },
      "cell_type": "markdown",
      "source": [
        "**Ensemble learning **\n",
        "\n",
        "In this part, we use result of models (LGB, CAT) for ensemble learning"
      ]
    },
    {
      "metadata": {
        "trusted": true,
        "_uuid": "a688e83273744ad238266e368b7fc0a81b224d9c",
        "id": "WsjBuyRnEbBH",
        "colab_type": "code",
        "colab": {},
        "outputId": "79a82b1a-b224-414e-93b9-8492e5e1fd2f"
      },
      "cell_type": "code",
      "source": [
        "train_df['PredictedLogRevenue'] = 0.6 * train_df[\"lgbpred\"] + 0.4 * train_df[\"catpred\"] \n",
        "score(train_df, train_df.PredictedLogRevenue)"
      ],
      "execution_count": 0,
      "outputs": [
        {
          "output_type": "execute_result",
          "data": {
            "text/plain": [
              "1.6193379375212846"
            ]
          },
          "metadata": {
            "tags": []
          },
          "execution_count": 60
        }
      ]
    },
    {
      "metadata": {
        "trusted": true,
        "_uuid": "12a665823885d8e7b59b5b13faba78ab19a4ebca",
        "id": "GIhueq6vEbBL",
        "colab_type": "code",
        "colab": {}
      },
      "cell_type": "code",
      "source": [
        "test_df['PredictedLogRevenue'] = 0.6 * test_df[\"lgbpred\"] +  0.4 * test_df[\"catpred\"]\n",
        "y_submit =  test_df['PredictedLogRevenue']"
      ],
      "execution_count": 0,
      "outputs": []
    },
    {
      "metadata": {
        "trusted": true,
        "_uuid": "fa02b08d82731ae3adfb482d7d52f2169d3fd74c",
        "id": "ST9tsc7PEbBN",
        "colab_type": "code",
        "colab": {}
      },
      "cell_type": "code",
      "source": [
        "# output to file\n",
        "submission = test_origin[['fullVisitorId']].copy()\n",
        "submission.loc[:, 'PredictedLogRevenue'] = y_submit\n",
        "grouped_test_ENS = submission[['fullVisitorId', 'PredictedLogRevenue']].groupby('fullVisitorId').sum().reset_index()\n",
        "grouped_test_ENS[\"PredictedLogRevenue\"] = np.log1p(grouped_test_ENS[\"PredictedLogRevenue\"])\n",
        "grouped_test_ENS[\"PredictedLogRevenue\"] = grouped_test_ENS[\"PredictedLogRevenue\"].fillna(0).astype(float)\n",
        "grouped_test_ENS.to_csv('submit_reg_ens.csv',index=False)\n",
        "grouped_test_ENS.head()"
      ],
      "execution_count": 0,
      "outputs": []
    },
    {
      "metadata": {
        "trusted": true,
        "_uuid": "68175c135a519977703e0c5d21009a1087f34a8b",
        "id": "H_5zDS62EbBP",
        "colab_type": "text"
      },
      "cell_type": "markdown",
      "source": [
        "**======== THE END ========**"
      ]
    }
  ]
}